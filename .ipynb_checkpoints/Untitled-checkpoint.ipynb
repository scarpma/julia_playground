{
 "cells": [
  {
   "cell_type": "code",
   "execution_count": 1,
   "id": "066a7eb4",
   "metadata": {},
   "outputs": [
    {
     "name": "stdout",
     "output_type": "stream",
     "text": [
      "Julia Version 1.6.7\n",
      "Commit 3b76b25b64 (2022-07-19 15:11 UTC)\n",
      "Platform Info:\n",
      "  OS: Linux (x86_64-pc-linux-gnu)\n",
      "  CPU: 12th Gen Intel(R) Core(TM) i9-12900K\n",
      "  WORD_SIZE: 64\n",
      "  LIBM: libopenlibm\n",
      "  LLVM: libLLVM-11.0.1 (ORCJIT, goldmont)\n",
      "Environment:\n",
      "  JULIA_NUM_THREADS = 12\n"
     ]
    }
   ],
   "source": [
    "versioninfo()"
   ]
  },
  {
   "cell_type": "code",
   "execution_count": 12,
   "id": "21edcab6",
   "metadata": {},
   "outputs": [
    {
     "data": {
      "text/plain": [
       "estimate_pi (generic function with 1 method)"
      ]
     },
     "execution_count": 12,
     "metadata": {},
     "output_type": "execute_result"
    }
   ],
   "source": [
    "function estimate_pi(n)\n",
    "    s = 1.0\n",
    "    for i in 1:n\n",
    "        s += (isodd(i) ? -1 : 1) / (2i + 1)\n",
    "    end\n",
    "    return 4s\n",
    "end"
   ]
  },
  {
   "cell_type": "code",
   "execution_count": 3,
   "id": "aa8a2aa2",
   "metadata": {},
   "outputs": [
    {
     "data": {
      "text/plain": [
       "3.141592663589326"
      ]
     },
     "execution_count": 3,
     "metadata": {},
     "output_type": "execute_result"
    }
   ],
   "source": [
    "p = estimate_pi(100_000_000)"
   ]
  },
  {
   "cell_type": "code",
   "execution_count": 4,
   "id": "05fc4422",
   "metadata": {},
   "outputs": [
    {
     "name": "stdout",
     "output_type": "stream",
     "text": [
      "pi = 3.141592663589326\n",
      "Error is 9.999532757376528e-9\n"
     ]
    }
   ],
   "source": [
    "println(\"pi = $p\")\n",
    "println(\"Error is $(p - π)\")"
   ]
  },
  {
   "cell_type": "code",
   "execution_count": 10,
   "id": "51d3ed2b",
   "metadata": {},
   "outputs": [],
   "source": [
    "using PyCall"
   ]
  },
  {
   "cell_type": "code",
   "execution_count": 11,
   "id": "a1bfbc8d",
   "metadata": {},
   "outputs": [
    {
     "data": {
      "text/plain": [
       "PyObject <module 'sys' (built-in)>"
      ]
     },
     "execution_count": 11,
     "metadata": {},
     "output_type": "execute_result"
    }
   ],
   "source": [
    "sys = pyimport(\"sys\")"
   ]
  },
  {
   "cell_type": "code",
   "execution_count": 12,
   "id": "aae982a3",
   "metadata": {},
   "outputs": [
    {
     "data": {
      "text/plain": [
       "\"3.8.13 (default, Mar 28 2022, 11:46:24) \\n[GCC 7.5.0]\""
      ]
     },
     "execution_count": 12,
     "metadata": {},
     "output_type": "execute_result"
    }
   ],
   "source": [
    "sys.version"
   ]
  },
  {
   "cell_type": "code",
   "execution_count": 13,
   "id": "501e039e",
   "metadata": {},
   "outputs": [],
   "source": [
    "# Run Python code in Julia\n",
    "py\"\"\"\n",
    "import math\n",
    "\n",
    "def estimate_pi(n):\n",
    "    s = 1.0\n",
    "    for i in range(1, n + 1):\n",
    "        s += (-1 if i % 2 else 1) / (2 * i + 1)\n",
    "    return 4 * s\n",
    "\n",
    "p = estimate_pi(100_000_000)\n",
    "print(f\"π ≈ {p}\") # f-strings are available in Python 3.6+\n",
    "print(f\"Error is {p - math.pi}\")\n",
    "\"\"\""
   ]
  },
  {
   "cell_type": "code",
   "execution_count": 6,
   "id": "6d93c47b",
   "metadata": {},
   "outputs": [
    {
     "data": {
      "text/plain": [
       "1:10"
      ]
     },
     "execution_count": 6,
     "metadata": {},
     "output_type": "execute_result"
    }
   ],
   "source": [
    "y=1:10"
   ]
  },
  {
   "cell_type": "code",
   "execution_count": 7,
   "id": "1d46644b",
   "metadata": {},
   "outputs": [
    {
     "data": {
      "text/plain": [
       "10-element Vector{Int64}:\n",
       "  1\n",
       "  2\n",
       "  3\n",
       "  4\n",
       "  5\n",
       "  6\n",
       "  7\n",
       "  8\n",
       "  9\n",
       " 10"
      ]
     },
     "execution_count": 7,
     "metadata": {},
     "output_type": "execute_result"
    }
   ],
   "source": [
    "b = collect(1:10)"
   ]
  },
  {
   "cell_type": "code",
   "execution_count": 8,
   "id": "c21f9726",
   "metadata": {},
   "outputs": [
    {
     "name": "stdout",
     "output_type": "stream",
     "text": [
      "search: \u001b[0m\u001b[1my\u001b[22m \u001b[0m\u001b[1my\u001b[22mield \u001b[0m\u001b[1my\u001b[22mieldto S\u001b[0m\u001b[1my\u001b[22ms T\u001b[0m\u001b[1my\u001b[22mpe h\u001b[0m\u001b[1my\u001b[22mpot t\u001b[0m\u001b[1my\u001b[22mpeof S\u001b[0m\u001b[1my\u001b[22mmbol T\u001b[0m\u001b[1my\u001b[22mpeVar t\u001b[0m\u001b[1my\u001b[22mpemin t\u001b[0m\u001b[1my\u001b[22mpemax\n",
      "\n"
     ]
    },
    {
     "data": {
      "text/latex": [
       "No documentation found.\n",
       "\n",
       "\\texttt{y} is of type \\texttt{UnitRange\\{Int64\\}}.\n",
       "\n",
       "\\section{Summary}\n",
       "\\begin{verbatim}\n",
       "struct UnitRange{Int64} <: AbstractUnitRange{Int64}\n",
       "\\end{verbatim}\n",
       "\\section{Fields}\n",
       "\\begin{verbatim}\n",
       "start :: Int64\n",
       "stop  :: Int64\n",
       "\\end{verbatim}\n",
       "\\section{Supertype Hierarchy}\n",
       "\\begin{verbatim}\n",
       "UnitRange{Int64} <: AbstractUnitRange{Int64} <: OrdinalRange{Int64, Int64} <: AbstractRange{Int64} <: AbstractVector{Int64} <: Any\n",
       "\\end{verbatim}\n"
      ],
      "text/markdown": [
       "No documentation found.\n",
       "\n",
       "`y` is of type `UnitRange{Int64}`.\n",
       "\n",
       "# Summary\n",
       "\n",
       "```\n",
       "struct UnitRange{Int64} <: AbstractUnitRange{Int64}\n",
       "```\n",
       "\n",
       "# Fields\n",
       "\n",
       "```\n",
       "start :: Int64\n",
       "stop  :: Int64\n",
       "```\n",
       "\n",
       "# Supertype Hierarchy\n",
       "\n",
       "```\n",
       "UnitRange{Int64} <: AbstractUnitRange{Int64} <: OrdinalRange{Int64, Int64} <: AbstractRange{Int64} <: AbstractVector{Int64} <: Any\n",
       "```\n"
      ],
      "text/plain": [
       "  No documentation found.\n",
       "\n",
       "  \u001b[36my\u001b[39m is of type \u001b[36mUnitRange{Int64}\u001b[39m.\n",
       "\n",
       "\u001b[1m  Summary\u001b[22m\n",
       "\u001b[1m  ≡≡≡≡≡≡≡≡≡\u001b[22m\n",
       "\n",
       "\u001b[36m  struct UnitRange{Int64} <: AbstractUnitRange{Int64}\u001b[39m\n",
       "\n",
       "\u001b[1m  Fields\u001b[22m\n",
       "\u001b[1m  ≡≡≡≡≡≡≡≡\u001b[22m\n",
       "\n",
       "\u001b[36m  start :: Int64\u001b[39m\n",
       "\u001b[36m  stop  :: Int64\u001b[39m\n",
       "\n",
       "\u001b[1m  Supertype Hierarchy\u001b[22m\n",
       "\u001b[1m  ≡≡≡≡≡≡≡≡≡≡≡≡≡≡≡≡≡≡≡≡≡\u001b[22m\n",
       "\n",
       "\u001b[36m  UnitRange{Int64} <: AbstractUnitRange{Int64} <: OrdinalRange{Int64, Int64} <: AbstractRange{Int64} <: AbstractVector{Int64} <: Any\u001b[39m"
      ]
     },
     "execution_count": 8,
     "metadata": {},
     "output_type": "execute_result"
    }
   ],
   "source": [
    "? y"
   ]
  },
  {
   "cell_type": "code",
   "execution_count": 9,
   "id": "12a336d0",
   "metadata": {},
   "outputs": [
    {
     "name": "stdout",
     "output_type": "stream",
     "text": [
      "1\n",
      "2\n",
      "3\n",
      "4\n",
      "5\n",
      "6\n",
      "7\n",
      "8\n",
      "9\n",
      "10\n"
     ]
    }
   ],
   "source": [
    "for i in 1:10\n",
    "   println(i) \n",
    "end"
   ]
  },
  {
   "cell_type": "code",
   "execution_count": 45,
   "id": "64f5f634",
   "metadata": {},
   "outputs": [
    {
     "data": {
      "text/plain": [
       "800001-element Vector{Float64}:\n",
       " 0.045647262536381385\n",
       " 0.045646356390059144\n",
       " 0.04564545012509003\n",
       " 0.04564454374147559\n",
       " 0.04564363723921761\n",
       " 0.04564273061831761\n",
       " 0.045641823878777396\n",
       " 0.04564091702059849\n",
       " 0.045640010043782694\n",
       " 0.04563910294833154\n",
       " 0.045638195734246816\n",
       " 0.04563728840153006\n",
       " 0.04563638095018305\n",
       " ⋮\n",
       " 0.04563728840153006\n",
       " 0.045638195734246816\n",
       " 0.04563910294833154\n",
       " 0.045640010043782694\n",
       " 0.04564091702059849\n",
       " 0.045641823878777396\n",
       " 0.04564273061831761\n",
       " 0.04564363723921761\n",
       " 0.04564454374147559\n",
       " 0.04564545012509003\n",
       " 0.045646356390059144\n",
       " 0.045647262536381385"
      ]
     },
     "execution_count": 45,
     "metadata": {},
     "output_type": "execute_result"
    }
   ],
   "source": [
    "x = collect(-20:0.00005:20)\n",
    "y = sin.(x) ./ x"
   ]
  },
  {
   "cell_type": "code",
   "execution_count": 38,
   "id": "259cf941",
   "metadata": {},
   "outputs": [
    {
     "data": {
      "text/plain": [
       "UnitRange{Int64}"
      ]
     },
     "execution_count": 38,
     "metadata": {},
     "output_type": "execute_result"
    }
   ],
   "source": [
    "typeof(1:10)"
   ]
  },
  {
   "cell_type": "code",
   "execution_count": 41,
   "id": "bc722e15",
   "metadata": {},
   "outputs": [
    {
     "data": {
      "text/plain": [
       "StepRange{Int64, Int64}"
      ]
     },
     "execution_count": 41,
     "metadata": {},
     "output_type": "execute_result"
    }
   ],
   "source": [
    "typeof(range(1,10,step=1))"
   ]
  },
  {
   "cell_type": "code",
   "execution_count": 43,
   "id": "8212b64e",
   "metadata": {},
   "outputs": [
    {
     "data": {
      "text/plain": [
       "StepRangeLen{Float64, Base.TwicePrecision{Float64}, Base.TwicePrecision{Float64}}"
      ]
     },
     "execution_count": 43,
     "metadata": {},
     "output_type": "execute_result"
    }
   ],
   "source": [
    "typeof(range(1,10,length=12))"
   ]
  },
  {
   "cell_type": "code",
   "execution_count": 70,
   "id": "f614040c",
   "metadata": {},
   "outputs": [
    {
     "name": "stdout",
     "output_type": "stream",
     "text": [
      "  0.005141 seconds (16 allocations: 6.104 MiB)\n"
     ]
    },
    {
     "data": {
      "text/plain": [
       "800001-element Vector{Float64}:\n",
       " -0.004564726253638138\n",
       " -0.004564647050623542\n",
       " -0.00456456783534818\n",
       " -0.004564488607812118\n",
       " -0.004564409368015441\n",
       " -0.004564330115958211\n",
       " -0.004564250851640514\n",
       " -0.004564171575062413\n",
       " -0.004564092286223994\n",
       " -0.004564012985125319\n",
       " -0.004563933671766476\n",
       " -0.004563854346147525\n",
       " -0.0045637750082685525\n",
       "  ⋮\n",
       "  0.004563854346147525\n",
       "  0.004563933671766476\n",
       "  0.004564012985125319\n",
       "  0.004564092286223994\n",
       "  0.004564171575062413\n",
       "  0.004564250851640514\n",
       "  0.004564330115958211\n",
       "  0.004564409368015441\n",
       "  0.004564488607812118\n",
       "  0.00456456783534818\n",
       "  0.004564647050623542\n",
       "  0.004564726253638138"
      ]
     },
     "execution_count": 70,
     "metadata": {},
     "output_type": "execute_result"
    }
   ],
   "source": [
    "@time y = @. sin.(x) / x / x^2 * ( 2x )"
   ]
  },
  {
   "cell_type": "code",
   "execution_count": 109,
   "id": "d8cabc18",
   "metadata": {},
   "outputs": [
    {
     "data": {
      "text/plain": [
       "BenchmarkTools.Trial: 1430 samples with 1 evaluation.\n",
       " Range \u001b[90m(\u001b[39m\u001b[36m\u001b[1mmin\u001b[22m\u001b[39m … \u001b[35mmax\u001b[39m\u001b[90m):  \u001b[39m\u001b[36m\u001b[1m3.301 ms\u001b[22m\u001b[39m … \u001b[35m  6.144 ms\u001b[39m  \u001b[90m┊\u001b[39m GC \u001b[90m(\u001b[39mmin … max\u001b[90m): \u001b[39m0.00% … 22.66%\n",
       " Time  \u001b[90m(\u001b[39m\u001b[34m\u001b[1mmedian\u001b[22m\u001b[39m\u001b[90m):     \u001b[39m\u001b[34m\u001b[1m3.395 ms               \u001b[22m\u001b[39m\u001b[90m┊\u001b[39m GC \u001b[90m(\u001b[39mmedian\u001b[90m):    \u001b[39m0.00%\n",
       " Time  \u001b[90m(\u001b[39m\u001b[32m\u001b[1mmean\u001b[22m\u001b[39m ± \u001b[32mσ\u001b[39m\u001b[90m):   \u001b[39m\u001b[32m\u001b[1m3.495 ms\u001b[22m\u001b[39m ± \u001b[32m367.204 μs\u001b[39m  \u001b[90m┊\u001b[39m GC \u001b[90m(\u001b[39mmean ± σ\u001b[90m):  \u001b[39m0.65% ±  3.35%\n",
       "\n",
       "  \u001b[39m▄\u001b[39m▇\u001b[39m█\u001b[34m▇\u001b[39m\u001b[39m▆\u001b[39m▅\u001b[32m▄\u001b[39m\u001b[39m▃\u001b[39m▁\u001b[39m \u001b[39m \u001b[39m \u001b[39m \u001b[39m \u001b[39m \u001b[39m \u001b[39m \u001b[39m \u001b[39m \u001b[39m \u001b[39m \u001b[39m \u001b[39m \u001b[39m \u001b[39m \u001b[39m \u001b[39m \u001b[39m \u001b[39m \u001b[39m \u001b[39m \u001b[39m \u001b[39m \u001b[39m \u001b[39m \u001b[39m \u001b[39m \u001b[39m \u001b[39m \u001b[39m \u001b[39m \u001b[39m▁\u001b[39m \u001b[39m \u001b[39m \u001b[39m \u001b[39m \u001b[39m \u001b[39m \u001b[39m \u001b[39m \u001b[39m \u001b[39m \u001b[39m \u001b[39m \u001b[39m \u001b[39m \u001b[39m \u001b[39m \u001b[39m \u001b[39m \n",
       "  \u001b[39m█\u001b[39m█\u001b[39m█\u001b[34m█\u001b[39m\u001b[39m█\u001b[39m█\u001b[32m█\u001b[39m\u001b[39m█\u001b[39m█\u001b[39m▇\u001b[39m▅\u001b[39m▄\u001b[39m▁\u001b[39m▁\u001b[39m▁\u001b[39m▁\u001b[39m▁\u001b[39m▁\u001b[39m▁\u001b[39m▁\u001b[39m▁\u001b[39m▁\u001b[39m▁\u001b[39m▁\u001b[39m▁\u001b[39m▁\u001b[39m▁\u001b[39m▁\u001b[39m▁\u001b[39m▁\u001b[39m▁\u001b[39m▁\u001b[39m▁\u001b[39m▁\u001b[39m▁\u001b[39m▁\u001b[39m▁\u001b[39m▅\u001b[39m▅\u001b[39m▄\u001b[39m▇\u001b[39m█\u001b[39m█\u001b[39m█\u001b[39m▇\u001b[39m▇\u001b[39m▄\u001b[39m▅\u001b[39m▁\u001b[39m▅\u001b[39m▄\u001b[39m▁\u001b[39m▄\u001b[39m▅\u001b[39m▁\u001b[39m▆\u001b[39m▁\u001b[39m▄\u001b[39m▄\u001b[39m \u001b[39m█\n",
       "  3.3 ms\u001b[90m       \u001b[39m\u001b[90mHistogram: \u001b[39m\u001b[90m\u001b[1mlog(\u001b[22m\u001b[39m\u001b[90mfrequency\u001b[39m\u001b[90m\u001b[1m)\u001b[22m\u001b[39m\u001b[90m by time\u001b[39m      5.07 ms \u001b[0m\u001b[1m<\u001b[22m\n",
       "\n",
       " Memory estimate\u001b[90m: \u001b[39m\u001b[33m6.10 MiB\u001b[39m, allocs estimate\u001b[90m: \u001b[39m\u001b[33m16\u001b[39m."
      ]
     },
     "execution_count": 109,
     "metadata": {},
     "output_type": "execute_result"
    }
   ],
   "source": [
    "@benchmark y = @. sin(x) / x / x^2 * ( 2x )"
   ]
  },
  {
   "cell_type": "code",
   "execution_count": 85,
   "id": "19617a37",
   "metadata": {},
   "outputs": [
    {
     "data": {
      "text/plain": [
       "Vector{Float64} (alias for Array{Float64, 1})"
      ]
     },
     "execution_count": 85,
     "metadata": {},
     "output_type": "execute_result"
    }
   ],
   "source": [
    "typeof(x)"
   ]
  },
  {
   "cell_type": "code",
   "execution_count": 94,
   "id": "bb91be0c",
   "metadata": {},
   "outputs": [
    {
     "data": {
      "text/plain": [
       "20.0"
      ]
     },
     "execution_count": 94,
     "metadata": {},
     "output_type": "execute_result"
    }
   ],
   "source": [
    "x[800001]"
   ]
  },
  {
   "cell_type": "code",
   "execution_count": 106,
   "id": "5f38fd3a",
   "metadata": {},
   "outputs": [
    {
     "data": {
      "text/plain": [
       "apply_op (generic function with 1 method)"
      ]
     },
     "execution_count": 106,
     "metadata": {},
     "output_type": "execute_result"
    }
   ],
   "source": [
    "function apply_op(x)\n",
    "    result = Vector{Float64}(undef, length(x))\n",
    "    #result = Array{Float64}(undef, (length(x)))\n",
    "    #result = 0.\n",
    "    for i = 1:length(x)\n",
    "        result[i] = sin(x[i]) / x[i] / x[i]^2. * ( 2*x[i] )\n",
    "    end\n",
    "end"
   ]
  },
  {
   "cell_type": "code",
   "execution_count": 105,
   "id": "4a014db5",
   "metadata": {},
   "outputs": [
    {
     "name": "stdout",
     "output_type": "stream",
     "text": [
      "  0.005571 seconds (4 allocations: 12.207 MiB)\n"
     ]
    }
   ],
   "source": [
    "@time apply_op(x)"
   ]
  },
  {
   "cell_type": "code",
   "execution_count": 107,
   "id": "8ce2a5a8",
   "metadata": {},
   "outputs": [],
   "source": [
    "using BenchmarkTools"
   ]
  },
  {
   "cell_type": "code",
   "execution_count": 108,
   "id": "158831f8",
   "metadata": {},
   "outputs": [
    {
     "data": {
      "text/plain": [
       "BenchmarkTools.Trial: 1487 samples with 1 evaluation.\n",
       " Range \u001b[90m(\u001b[39m\u001b[36m\u001b[1mmin\u001b[22m\u001b[39m … \u001b[35mmax\u001b[39m\u001b[90m):  \u001b[39m\u001b[36m\u001b[1m3.177 ms\u001b[22m\u001b[39m … \u001b[35m  5.630 ms\u001b[39m  \u001b[90m┊\u001b[39m GC \u001b[90m(\u001b[39mmin … max\u001b[90m): \u001b[39m0.00% … 21.68%\n",
       " Time  \u001b[90m(\u001b[39m\u001b[34m\u001b[1mmedian\u001b[22m\u001b[39m\u001b[90m):     \u001b[39m\u001b[34m\u001b[1m3.282 ms               \u001b[22m\u001b[39m\u001b[90m┊\u001b[39m GC \u001b[90m(\u001b[39mmedian\u001b[90m):    \u001b[39m0.00%\n",
       " Time  \u001b[90m(\u001b[39m\u001b[32m\u001b[1mmean\u001b[22m\u001b[39m ± \u001b[32mσ\u001b[39m\u001b[90m):   \u001b[39m\u001b[32m\u001b[1m3.360 ms\u001b[22m\u001b[39m ± \u001b[32m315.596 μs\u001b[39m  \u001b[90m┊\u001b[39m GC \u001b[90m(\u001b[39mmean ± σ\u001b[90m):  \u001b[39m0.57% ±  3.02%\n",
       "\n",
       "  \u001b[39m \u001b[39m▄\u001b[39m▆\u001b[39m█\u001b[34m█\u001b[39m\u001b[39m▇\u001b[39m▅\u001b[39m▃\u001b[32m▁\u001b[39m\u001b[39m \u001b[39m \u001b[39m \u001b[39m \u001b[39m \u001b[39m \u001b[39m \u001b[39m \u001b[39m \u001b[39m \u001b[39m \u001b[39m \u001b[39m \u001b[39m \u001b[39m \u001b[39m \u001b[39m \u001b[39m \u001b[39m \u001b[39m \u001b[39m \u001b[39m \u001b[39m \u001b[39m \u001b[39m \u001b[39m \u001b[39m \u001b[39m \u001b[39m \u001b[39m \u001b[39m \u001b[39m \u001b[39m \u001b[39m \u001b[39m \u001b[39m \u001b[39m \u001b[39m \u001b[39m \u001b[39m▁\u001b[39m \u001b[39m \u001b[39m \u001b[39m \u001b[39m \u001b[39m \u001b[39m \u001b[39m \u001b[39m \u001b[39m \u001b[39m \u001b[39m \n",
       "  \u001b[39m▆\u001b[39m█\u001b[39m█\u001b[39m█\u001b[34m█\u001b[39m\u001b[39m█\u001b[39m█\u001b[39m█\u001b[32m█\u001b[39m\u001b[39m▇\u001b[39m▆\u001b[39m▅\u001b[39m▁\u001b[39m▁\u001b[39m▁\u001b[39m▁\u001b[39m▁\u001b[39m▁\u001b[39m▁\u001b[39m▁\u001b[39m▁\u001b[39m▁\u001b[39m▁\u001b[39m▁\u001b[39m▁\u001b[39m▁\u001b[39m▁\u001b[39m▁\u001b[39m▁\u001b[39m▁\u001b[39m▁\u001b[39m▁\u001b[39m▁\u001b[39m▁\u001b[39m▁\u001b[39m▁\u001b[39m▁\u001b[39m▁\u001b[39m▁\u001b[39m▁\u001b[39m▁\u001b[39m▁\u001b[39m▁\u001b[39m▁\u001b[39m▁\u001b[39m▄\u001b[39m▅\u001b[39m█\u001b[39m█\u001b[39m█\u001b[39m▇\u001b[39m█\u001b[39m▆\u001b[39m▅\u001b[39m▅\u001b[39m▄\u001b[39m▄\u001b[39m▄\u001b[39m▅\u001b[39m \u001b[39m█\n",
       "  3.18 ms\u001b[90m      \u001b[39m\u001b[90mHistogram: \u001b[39m\u001b[90m\u001b[1mlog(\u001b[22m\u001b[39m\u001b[90mfrequency\u001b[39m\u001b[90m\u001b[1m)\u001b[22m\u001b[39m\u001b[90m by time\u001b[39m      4.57 ms \u001b[0m\u001b[1m<\u001b[22m\n",
       "\n",
       " Memory estimate\u001b[90m: \u001b[39m\u001b[33m6.10 MiB\u001b[39m, allocs estimate\u001b[90m: \u001b[39m\u001b[33m2\u001b[39m."
      ]
     },
     "execution_count": 108,
     "metadata": {},
     "output_type": "execute_result"
    }
   ],
   "source": [
    "@benchmark apply_op(x)"
   ]
  },
  {
   "cell_type": "code",
   "execution_count": 22,
   "id": "2ab4db83",
   "metadata": {},
   "outputs": [
    {
     "data": {
      "text/plain": [
       "\"/home/bcl/.conda/envs/pytorch11/bin/python\""
      ]
     },
     "execution_count": 22,
     "metadata": {},
     "output_type": "execute_result"
    }
   ],
   "source": [
    "ENV[\"PYTHON\"]=\"/home/bcl/.conda/envs/pytorch11/bin/python\""
   ]
  },
  {
   "cell_type": "code",
   "execution_count": 23,
   "id": "1c81cf67",
   "metadata": {},
   "outputs": [],
   "source": [
    "using Plots"
   ]
  },
  {
   "cell_type": "code",
   "execution_count": 30,
   "id": "cd415669",
   "metadata": {},
   "outputs": [
    {
     "data": {
      "image/svg+xml": [
       "<?xml version=\"1.0\" encoding=\"utf-8\"?>\n",
       "<svg xmlns=\"http://www.w3.org/2000/svg\" xmlns:xlink=\"http://www.w3.org/1999/xlink\" width=\"600\" height=\"400\" viewBox=\"0 0 2400 1600\">\n",
       "<defs>\n",
       "  <clipPath id=\"clip810\">\n",
       "    <rect x=\"0\" y=\"0\" width=\"2400\" height=\"1600\"/>\n",
       "  </clipPath>\n",
       "</defs>\n",
       "<path clip-path=\"url(#clip810)\" d=\"\n",
       "M0 1600 L2400 1600 L2400 0 L0 0  Z\n",
       "  \" fill=\"#ffffff\" fill-rule=\"evenodd\" fill-opacity=\"1\"/>\n",
       "<defs>\n",
       "  <clipPath id=\"clip811\">\n",
       "    <rect x=\"480\" y=\"0\" width=\"1681\" height=\"1600\"/>\n",
       "  </clipPath>\n",
       "</defs>\n",
       "<path clip-path=\"url(#clip810)\" d=\"\n",
       "M156.274 1486.45 L2352.76 1486.45 L2352.76 47.2441 L156.274 47.2441  Z\n",
       "  \" fill=\"#ffffff\" fill-rule=\"evenodd\" fill-opacity=\"1\"/>\n",
       "<defs>\n",
       "  <clipPath id=\"clip812\">\n",
       "    <rect x=\"156\" y=\"47\" width=\"2197\" height=\"1440\"/>\n",
       "  </clipPath>\n",
       "</defs>\n",
       "<polyline clip-path=\"url(#clip812)\" style=\"stroke:#000000; stroke-linecap:butt; stroke-linejoin:round; stroke-width:2; stroke-opacity:0.1; fill:none\" points=\"\n",
       "  218.439,1486.45 218.439,47.2441 \n",
       "  \"/>\n",
       "<polyline clip-path=\"url(#clip812)\" style=\"stroke:#000000; stroke-linecap:butt; stroke-linejoin:round; stroke-width:2; stroke-opacity:0.1; fill:none\" points=\"\n",
       "  736.477,1486.45 736.477,47.2441 \n",
       "  \"/>\n",
       "<polyline clip-path=\"url(#clip812)\" style=\"stroke:#000000; stroke-linecap:butt; stroke-linejoin:round; stroke-width:2; stroke-opacity:0.1; fill:none\" points=\"\n",
       "  1254.52,1486.45 1254.52,47.2441 \n",
       "  \"/>\n",
       "<polyline clip-path=\"url(#clip812)\" style=\"stroke:#000000; stroke-linecap:butt; stroke-linejoin:round; stroke-width:2; stroke-opacity:0.1; fill:none\" points=\"\n",
       "  1772.55,1486.45 1772.55,47.2441 \n",
       "  \"/>\n",
       "<polyline clip-path=\"url(#clip812)\" style=\"stroke:#000000; stroke-linecap:butt; stroke-linejoin:round; stroke-width:2; stroke-opacity:0.1; fill:none\" points=\"\n",
       "  2290.59,1486.45 2290.59,47.2441 \n",
       "  \"/>\n",
       "<polyline clip-path=\"url(#clip810)\" style=\"stroke:#000000; stroke-linecap:butt; stroke-linejoin:round; stroke-width:4; stroke-opacity:1; fill:none\" points=\"\n",
       "  156.274,1486.45 2352.76,1486.45 \n",
       "  \"/>\n",
       "<polyline clip-path=\"url(#clip810)\" style=\"stroke:#000000; stroke-linecap:butt; stroke-linejoin:round; stroke-width:4; stroke-opacity:1; fill:none\" points=\"\n",
       "  218.439,1486.45 218.439,1467.55 \n",
       "  \"/>\n",
       "<polyline clip-path=\"url(#clip810)\" style=\"stroke:#000000; stroke-linecap:butt; stroke-linejoin:round; stroke-width:4; stroke-opacity:1; fill:none\" points=\"\n",
       "  736.477,1486.45 736.477,1467.55 \n",
       "  \"/>\n",
       "<polyline clip-path=\"url(#clip810)\" style=\"stroke:#000000; stroke-linecap:butt; stroke-linejoin:round; stroke-width:4; stroke-opacity:1; fill:none\" points=\"\n",
       "  1254.52,1486.45 1254.52,1467.55 \n",
       "  \"/>\n",
       "<polyline clip-path=\"url(#clip810)\" style=\"stroke:#000000; stroke-linecap:butt; stroke-linejoin:round; stroke-width:4; stroke-opacity:1; fill:none\" points=\"\n",
       "  1772.55,1486.45 1772.55,1467.55 \n",
       "  \"/>\n",
       "<polyline clip-path=\"url(#clip810)\" style=\"stroke:#000000; stroke-linecap:butt; stroke-linejoin:round; stroke-width:4; stroke-opacity:1; fill:none\" points=\"\n",
       "  2290.59,1486.45 2290.59,1467.55 \n",
       "  \"/>\n",
       "<path clip-path=\"url(#clip810)\" d=\"M172.501 1532.02 L202.177 1532.02 L202.177 1535.95 L172.501 1535.95 L172.501 1532.02 Z\" fill=\"#000000\" fill-rule=\"evenodd\" fill-opacity=\"1\" /><path clip-path=\"url(#clip810)\" d=\"M216.298 1544.91 L232.617 1544.91 L232.617 1548.85 L210.673 1548.85 L210.673 1544.91 Q213.335 1542.16 217.918 1537.53 Q222.524 1532.88 223.705 1531.53 Q225.95 1529.01 226.83 1527.27 Q227.733 1525.51 227.733 1523.82 Q227.733 1521.07 225.788 1519.33 Q223.867 1517.6 220.765 1517.6 Q218.566 1517.6 216.112 1518.36 Q213.682 1519.13 210.904 1520.68 L210.904 1515.95 Q213.728 1514.82 216.182 1514.24 Q218.635 1513.66 220.673 1513.66 Q226.043 1513.66 229.237 1516.35 Q232.432 1519.03 232.432 1523.52 Q232.432 1525.65 231.622 1527.57 Q230.835 1529.47 228.728 1532.07 Q228.149 1532.74 225.048 1535.95 Q221.946 1539.15 216.298 1544.91 Z\" fill=\"#000000\" fill-rule=\"evenodd\" fill-opacity=\"1\" /><path clip-path=\"url(#clip810)\" d=\"M252.432 1517.37 Q248.821 1517.37 246.992 1520.93 Q245.186 1524.47 245.186 1531.6 Q245.186 1538.71 246.992 1542.27 Q248.821 1545.82 252.432 1545.82 Q256.066 1545.82 257.871 1542.27 Q259.7 1538.71 259.7 1531.6 Q259.7 1524.47 257.871 1520.93 Q256.066 1517.37 252.432 1517.37 M252.432 1513.66 Q258.242 1513.66 261.297 1518.27 Q264.376 1522.85 264.376 1531.6 Q264.376 1540.33 261.297 1544.94 Q258.242 1549.52 252.432 1549.52 Q246.621 1549.52 243.543 1544.94 Q240.487 1540.33 240.487 1531.6 Q240.487 1522.85 243.543 1518.27 Q246.621 1513.66 252.432 1513.66 Z\" fill=\"#000000\" fill-rule=\"evenodd\" fill-opacity=\"1\" /><path clip-path=\"url(#clip810)\" d=\"M690.54 1532.02 L720.215 1532.02 L720.215 1535.95 L690.54 1535.95 L690.54 1532.02 Z\" fill=\"#000000\" fill-rule=\"evenodd\" fill-opacity=\"1\" /><path clip-path=\"url(#clip810)\" d=\"M731.118 1544.91 L738.757 1544.91 L738.757 1518.55 L730.447 1520.21 L730.447 1515.95 L738.711 1514.29 L743.387 1514.29 L743.387 1544.91 L751.025 1544.91 L751.025 1548.85 L731.118 1548.85 L731.118 1544.91 Z\" fill=\"#000000\" fill-rule=\"evenodd\" fill-opacity=\"1\" /><path clip-path=\"url(#clip810)\" d=\"M770.47 1517.37 Q766.859 1517.37 765.03 1520.93 Q763.224 1524.47 763.224 1531.6 Q763.224 1538.71 765.03 1542.27 Q766.859 1545.82 770.47 1545.82 Q774.104 1545.82 775.91 1542.27 Q777.738 1538.71 777.738 1531.6 Q777.738 1524.47 775.91 1520.93 Q774.104 1517.37 770.47 1517.37 M770.47 1513.66 Q776.28 1513.66 779.335 1518.27 Q782.414 1522.85 782.414 1531.6 Q782.414 1540.33 779.335 1544.94 Q776.28 1549.52 770.47 1549.52 Q764.66 1549.52 761.581 1544.94 Q758.525 1540.33 758.525 1531.6 Q758.525 1522.85 761.581 1518.27 Q764.66 1513.66 770.47 1513.66 Z\" fill=\"#000000\" fill-rule=\"evenodd\" fill-opacity=\"1\" /><path clip-path=\"url(#clip810)\" d=\"M1254.52 1517.37 Q1250.9 1517.37 1249.08 1520.93 Q1247.27 1524.47 1247.27 1531.6 Q1247.27 1538.71 1249.08 1542.27 Q1250.9 1545.82 1254.52 1545.82 Q1258.15 1545.82 1259.95 1542.27 Q1261.78 1538.71 1261.78 1531.6 Q1261.78 1524.47 1259.95 1520.93 Q1258.15 1517.37 1254.52 1517.37 M1254.52 1513.66 Q1260.33 1513.66 1263.38 1518.27 Q1266.46 1522.85 1266.46 1531.6 Q1266.46 1540.33 1263.38 1544.94 Q1260.33 1549.52 1254.52 1549.52 Q1248.7 1549.52 1245.63 1544.94 Q1242.57 1540.33 1242.57 1531.6 Q1242.57 1522.85 1245.63 1518.27 Q1248.7 1513.66 1254.52 1513.66 Z\" fill=\"#000000\" fill-rule=\"evenodd\" fill-opacity=\"1\" /><path clip-path=\"url(#clip810)\" d=\"M1747.24 1544.91 L1754.88 1544.91 L1754.88 1518.55 L1746.57 1520.21 L1746.57 1515.95 L1754.83 1514.29 L1759.51 1514.29 L1759.51 1544.91 L1767.15 1544.91 L1767.15 1548.85 L1747.24 1548.85 L1747.24 1544.91 Z\" fill=\"#000000\" fill-rule=\"evenodd\" fill-opacity=\"1\" /><path clip-path=\"url(#clip810)\" d=\"M1786.59 1517.37 Q1782.98 1517.37 1781.15 1520.93 Q1779.35 1524.47 1779.35 1531.6 Q1779.35 1538.71 1781.15 1542.27 Q1782.98 1545.82 1786.59 1545.82 Q1790.23 1545.82 1792.03 1542.27 Q1793.86 1538.71 1793.86 1531.6 Q1793.86 1524.47 1792.03 1520.93 Q1790.23 1517.37 1786.59 1517.37 M1786.59 1513.66 Q1792.4 1513.66 1795.46 1518.27 Q1798.54 1522.85 1798.54 1531.6 Q1798.54 1540.33 1795.46 1544.94 Q1792.4 1549.52 1786.59 1549.52 Q1780.78 1549.52 1777.7 1544.94 Q1774.65 1540.33 1774.65 1531.6 Q1774.65 1522.85 1777.7 1518.27 Q1780.78 1513.66 1786.59 1513.66 Z\" fill=\"#000000\" fill-rule=\"evenodd\" fill-opacity=\"1\" /><path clip-path=\"url(#clip810)\" d=\"M2269.36 1544.91 L2285.68 1544.91 L2285.68 1548.85 L2263.74 1548.85 L2263.74 1544.91 Q2266.4 1542.16 2270.98 1537.53 Q2275.59 1532.88 2276.77 1531.53 Q2279.02 1529.01 2279.9 1527.27 Q2280.8 1525.51 2280.8 1523.82 Q2280.8 1521.07 2278.86 1519.33 Q2276.93 1517.6 2273.83 1517.6 Q2271.63 1517.6 2269.18 1518.36 Q2266.75 1519.13 2263.97 1520.68 L2263.97 1515.95 Q2266.8 1514.82 2269.25 1514.24 Q2271.7 1513.66 2273.74 1513.66 Q2279.11 1513.66 2282.3 1516.35 Q2285.5 1519.03 2285.5 1523.52 Q2285.5 1525.65 2284.69 1527.57 Q2283.9 1529.47 2281.8 1532.07 Q2281.22 1532.74 2278.11 1535.95 Q2275.01 1539.15 2269.36 1544.91 Z\" fill=\"#000000\" fill-rule=\"evenodd\" fill-opacity=\"1\" /><path clip-path=\"url(#clip810)\" d=\"M2305.5 1517.37 Q2301.89 1517.37 2300.06 1520.93 Q2298.25 1524.47 2298.25 1531.6 Q2298.25 1538.71 2300.06 1542.27 Q2301.89 1545.82 2305.5 1545.82 Q2309.13 1545.82 2310.94 1542.27 Q2312.77 1538.71 2312.77 1531.6 Q2312.77 1524.47 2310.94 1520.93 Q2309.13 1517.37 2305.5 1517.37 M2305.5 1513.66 Q2311.31 1513.66 2314.36 1518.27 Q2317.44 1522.85 2317.44 1531.6 Q2317.44 1540.33 2314.36 1544.94 Q2311.31 1549.52 2305.5 1549.52 Q2299.69 1549.52 2296.61 1544.94 Q2293.55 1540.33 2293.55 1531.6 Q2293.55 1522.85 2296.61 1518.27 Q2299.69 1513.66 2305.5 1513.66 Z\" fill=\"#000000\" fill-rule=\"evenodd\" fill-opacity=\"1\" /><polyline clip-path=\"url(#clip812)\" style=\"stroke:#000000; stroke-linecap:butt; stroke-linejoin:round; stroke-width:2; stroke-opacity:0.1; fill:none\" points=\"\n",
       "  156.274,1203.41 2352.76,1203.41 \n",
       "  \"/>\n",
       "<polyline clip-path=\"url(#clip812)\" style=\"stroke:#000000; stroke-linecap:butt; stroke-linejoin:round; stroke-width:2; stroke-opacity:0.1; fill:none\" points=\"\n",
       "  156.274,868.776 2352.76,868.776 \n",
       "  \"/>\n",
       "<polyline clip-path=\"url(#clip812)\" style=\"stroke:#000000; stroke-linecap:butt; stroke-linejoin:round; stroke-width:2; stroke-opacity:0.1; fill:none\" points=\"\n",
       "  156.274,534.145 2352.76,534.145 \n",
       "  \"/>\n",
       "<polyline clip-path=\"url(#clip812)\" style=\"stroke:#000000; stroke-linecap:butt; stroke-linejoin:round; stroke-width:2; stroke-opacity:0.1; fill:none\" points=\"\n",
       "  156.274,199.515 2352.76,199.515 \n",
       "  \"/>\n",
       "<polyline clip-path=\"url(#clip810)\" style=\"stroke:#000000; stroke-linecap:butt; stroke-linejoin:round; stroke-width:4; stroke-opacity:1; fill:none\" points=\"\n",
       "  156.274,1486.45 156.274,47.2441 \n",
       "  \"/>\n",
       "<polyline clip-path=\"url(#clip810)\" style=\"stroke:#000000; stroke-linecap:butt; stroke-linejoin:round; stroke-width:4; stroke-opacity:1; fill:none\" points=\"\n",
       "  156.274,1203.41 175.172,1203.41 \n",
       "  \"/>\n",
       "<polyline clip-path=\"url(#clip810)\" style=\"stroke:#000000; stroke-linecap:butt; stroke-linejoin:round; stroke-width:4; stroke-opacity:1; fill:none\" points=\"\n",
       "  156.274,868.776 175.172,868.776 \n",
       "  \"/>\n",
       "<polyline clip-path=\"url(#clip810)\" style=\"stroke:#000000; stroke-linecap:butt; stroke-linejoin:round; stroke-width:4; stroke-opacity:1; fill:none\" points=\"\n",
       "  156.274,534.145 175.172,534.145 \n",
       "  \"/>\n",
       "<polyline clip-path=\"url(#clip810)\" style=\"stroke:#000000; stroke-linecap:butt; stroke-linejoin:round; stroke-width:4; stroke-opacity:1; fill:none\" points=\"\n",
       "  156.274,199.515 175.172,199.515 \n",
       "  \"/>\n",
       "<path clip-path=\"url(#clip810)\" d=\"M63.0985 1189.2 Q59.4875 1189.2 57.6588 1192.77 Q55.8532 1196.31 55.8532 1203.44 Q55.8532 1210.55 57.6588 1214.11 Q59.4875 1217.65 63.0985 1217.65 Q66.7328 1217.65 68.5383 1214.11 Q70.367 1210.55 70.367 1203.44 Q70.367 1196.31 68.5383 1192.77 Q66.7328 1189.2 63.0985 1189.2 M63.0985 1185.5 Q68.9087 1185.5 71.9642 1190.11 Q75.0429 1194.69 75.0429 1203.44 Q75.0429 1212.17 71.9642 1216.77 Q68.9087 1221.36 63.0985 1221.36 Q57.2884 1221.36 54.2097 1216.77 Q51.1542 1212.17 51.1542 1203.44 Q51.1542 1194.69 54.2097 1190.11 Q57.2884 1185.5 63.0985 1185.5 Z\" fill=\"#000000\" fill-rule=\"evenodd\" fill-opacity=\"1\" /><path clip-path=\"url(#clip810)\" d=\"M83.2605 1214.81 L88.1447 1214.81 L88.1447 1220.69 L83.2605 1220.69 L83.2605 1214.81 Z\" fill=\"#000000\" fill-rule=\"evenodd\" fill-opacity=\"1\" /><path clip-path=\"url(#clip810)\" d=\"M108.33 1189.2 Q104.719 1189.2 102.89 1192.77 Q101.084 1196.31 101.084 1203.44 Q101.084 1210.55 102.89 1214.11 Q104.719 1217.65 108.33 1217.65 Q111.964 1217.65 113.77 1214.11 Q115.598 1210.55 115.598 1203.44 Q115.598 1196.31 113.77 1192.77 Q111.964 1189.2 108.33 1189.2 M108.33 1185.5 Q114.14 1185.5 117.195 1190.11 Q120.274 1194.69 120.274 1203.44 Q120.274 1212.17 117.195 1216.77 Q114.14 1221.36 108.33 1221.36 Q102.52 1221.36 99.4409 1216.77 Q96.3854 1212.17 96.3854 1203.44 Q96.3854 1194.69 99.4409 1190.11 Q102.52 1185.5 108.33 1185.5 Z\" fill=\"#000000\" fill-rule=\"evenodd\" fill-opacity=\"1\" /><path clip-path=\"url(#clip810)\" d=\"M63.7467 854.574 Q60.1356 854.574 58.3069 858.139 Q56.5014 861.681 56.5014 868.81 Q56.5014 875.917 58.3069 879.482 Q60.1356 883.023 63.7467 883.023 Q67.3809 883.023 69.1865 879.482 Q71.0152 875.917 71.0152 868.81 Q71.0152 861.681 69.1865 858.139 Q67.3809 854.574 63.7467 854.574 M63.7467 850.871 Q69.5568 850.871 72.6124 855.477 Q75.6911 860.061 75.6911 868.81 Q75.6911 877.537 72.6124 882.144 Q69.5568 886.727 63.7467 886.727 Q57.9365 886.727 54.8578 882.144 Q51.8023 877.537 51.8023 868.81 Q51.8023 860.061 54.8578 855.477 Q57.9365 850.871 63.7467 850.871 Z\" fill=\"#000000\" fill-rule=\"evenodd\" fill-opacity=\"1\" /><path clip-path=\"url(#clip810)\" d=\"M83.9086 880.176 L88.7928 880.176 L88.7928 886.056 L83.9086 886.056 L83.9086 880.176 Z\" fill=\"#000000\" fill-rule=\"evenodd\" fill-opacity=\"1\" /><path clip-path=\"url(#clip810)\" d=\"M113.145 867.422 Q116.501 868.139 118.376 870.408 Q120.274 872.676 120.274 876.01 Q120.274 881.125 116.756 883.926 Q113.237 886.727 106.756 886.727 Q104.58 886.727 102.265 886.287 Q99.9733 885.871 97.5197 885.014 L97.5197 880.5 Q99.4641 881.634 101.779 882.213 Q104.094 882.792 106.617 882.792 Q111.015 882.792 113.307 881.056 Q115.621 879.32 115.621 876.01 Q115.621 872.954 113.469 871.241 Q111.339 869.505 107.52 869.505 L103.492 869.505 L103.492 865.662 L107.705 865.662 Q111.154 865.662 112.983 864.297 Q114.811 862.908 114.811 860.315 Q114.811 857.653 112.913 856.241 Q111.038 854.806 107.52 854.806 Q105.598 854.806 103.399 855.223 Q101.2 855.639 98.5613 856.519 L98.5613 852.352 Q101.223 851.612 103.538 851.241 Q105.876 850.871 107.936 850.871 Q113.26 850.871 116.362 853.301 Q119.464 855.709 119.464 859.829 Q119.464 862.699 117.82 864.69 Q116.177 866.658 113.145 867.422 Z\" fill=\"#000000\" fill-rule=\"evenodd\" fill-opacity=\"1\" /><path clip-path=\"url(#clip810)\" d=\"M62.9365 519.944 Q59.3254 519.944 57.4967 523.509 Q55.6912 527.051 55.6912 534.18 Q55.6912 541.287 57.4967 544.851 Q59.3254 548.393 62.9365 548.393 Q66.5707 548.393 68.3763 544.851 Q70.205 541.287 70.205 534.18 Q70.205 527.051 68.3763 523.509 Q66.5707 519.944 62.9365 519.944 M62.9365 516.24 Q68.7467 516.24 71.8022 520.847 Q74.8809 525.43 74.8809 534.18 Q74.8809 542.907 71.8022 547.513 Q68.7467 552.097 62.9365 552.097 Q57.1264 552.097 54.0477 547.513 Q50.9921 542.907 50.9921 534.18 Q50.9921 525.43 54.0477 520.847 Q57.1264 516.24 62.9365 516.24 Z\" fill=\"#000000\" fill-rule=\"evenodd\" fill-opacity=\"1\" /><path clip-path=\"url(#clip810)\" d=\"M83.0984 545.546 L87.9827 545.546 L87.9827 551.425 L83.0984 551.425 L83.0984 545.546 Z\" fill=\"#000000\" fill-rule=\"evenodd\" fill-opacity=\"1\" /><path clip-path=\"url(#clip810)\" d=\"M108.746 532.282 Q105.598 532.282 103.746 534.435 Q101.918 536.588 101.918 540.338 Q101.918 544.064 103.746 546.24 Q105.598 548.393 108.746 548.393 Q111.895 548.393 113.723 546.24 Q115.575 544.064 115.575 540.338 Q115.575 536.588 113.723 534.435 Q111.895 532.282 108.746 532.282 M118.029 517.629 L118.029 521.889 Q116.27 521.055 114.464 520.615 Q112.682 520.176 110.922 520.176 Q106.293 520.176 103.839 523.301 Q101.409 526.426 101.061 532.745 Q102.427 530.731 104.487 529.666 Q106.547 528.578 109.024 528.578 Q114.233 528.578 117.242 531.75 Q120.274 534.898 120.274 540.338 Q120.274 545.662 117.126 548.879 Q113.978 552.097 108.746 552.097 Q102.751 552.097 99.5798 547.513 Q96.4085 542.907 96.4085 534.18 Q96.4085 525.986 100.297 521.125 Q104.186 516.24 110.737 516.24 Q112.496 516.24 114.279 516.588 Q116.084 516.935 118.029 517.629 Z\" fill=\"#000000\" fill-rule=\"evenodd\" fill-opacity=\"1\" /><path clip-path=\"url(#clip810)\" d=\"M63.2837 185.314 Q59.6726 185.314 57.8439 188.879 Q56.0384 192.42 56.0384 199.55 Q56.0384 206.656 57.8439 210.221 Q59.6726 213.763 63.2837 213.763 Q66.918 213.763 68.7235 210.221 Q70.5522 206.656 70.5522 199.55 Q70.5522 192.42 68.7235 188.879 Q66.918 185.314 63.2837 185.314 M63.2837 181.61 Q69.0939 181.61 72.1494 186.217 Q75.2281 190.8 75.2281 199.55 Q75.2281 208.277 72.1494 212.883 Q69.0939 217.466 63.2837 217.466 Q57.4736 217.466 54.3949 212.883 Q51.3393 208.277 51.3393 199.55 Q51.3393 190.8 54.3949 186.217 Q57.4736 181.61 63.2837 181.61 Z\" fill=\"#000000\" fill-rule=\"evenodd\" fill-opacity=\"1\" /><path clip-path=\"url(#clip810)\" d=\"M83.4457 210.915 L88.3299 210.915 L88.3299 216.795 L83.4457 216.795 L83.4457 210.915 Z\" fill=\"#000000\" fill-rule=\"evenodd\" fill-opacity=\"1\" /><path clip-path=\"url(#clip810)\" d=\"M98.6539 216.077 L98.6539 211.818 Q100.413 212.652 102.219 213.091 Q104.024 213.531 105.76 213.531 Q110.39 213.531 112.82 210.429 Q115.274 207.304 115.621 200.962 Q114.279 202.953 112.219 204.017 Q110.158 205.082 107.658 205.082 Q102.473 205.082 99.4409 201.957 Q96.4317 198.809 96.4317 193.369 Q96.4317 188.045 99.5798 184.828 Q102.728 181.61 107.959 181.61 Q113.955 181.61 117.103 186.217 Q120.274 190.8 120.274 199.55 Q120.274 207.721 116.385 212.605 Q112.52 217.466 105.969 217.466 Q104.209 217.466 102.404 217.119 Q100.598 216.772 98.6539 216.077 M107.959 201.425 Q111.108 201.425 112.936 199.272 Q114.788 197.119 114.788 193.369 Q114.788 189.642 112.936 187.49 Q111.108 185.314 107.959 185.314 Q104.811 185.314 102.959 187.49 Q101.131 189.642 101.131 193.369 Q101.131 197.119 102.959 199.272 Q104.811 201.425 107.959 201.425 Z\" fill=\"#000000\" fill-rule=\"evenodd\" fill-opacity=\"1\" /><polyline clip-path=\"url(#clip812)\" style=\"stroke:#009af9; stroke-linecap:butt; stroke-linejoin:round; stroke-width:4; stroke-opacity:1; fill:none\" points=\"\n",
       "  218.439,1152.49 218.698,1152.59 218.957,1152.69 219.216,1152.8 219.475,1152.9 219.734,1153.01 219.993,1153.12 220.252,1153.23 220.511,1153.34 220.77,1153.45 \n",
       "  221.029,1153.57 221.288,1153.68 221.547,1153.8 221.806,1153.91 222.065,1154.03 222.324,1154.15 222.583,1154.27 222.842,1154.4 223.101,1154.52 223.36,1154.65 \n",
       "  223.619,1154.77 223.878,1154.9 224.137,1155.03 224.396,1155.16 224.655,1155.29 224.914,1155.42 225.173,1155.56 225.432,1155.69 225.691,1155.83 225.95,1155.97 \n",
       "  226.209,1156.11 226.468,1156.25 226.727,1156.39 226.986,1156.53 227.245,1156.68 227.504,1156.82 227.763,1156.97 228.022,1157.12 228.281,1157.27 228.54,1157.42 \n",
       "  228.8,1157.57 229.059,1157.72 229.318,1157.87 229.577,1158.03 229.836,1158.19 230.095,1158.34 230.354,1158.5 230.613,1158.66 230.872,1158.82 231.131,1158.99 \n",
       "  231.39,1159.15 231.649,1159.31 231.908,1159.48 232.167,1159.65 232.426,1159.82 232.685,1159.99 232.944,1160.16 233.203,1160.33 233.462,1160.5 233.721,1160.68 \n",
       "  233.98,1160.85 234.239,1161.03 234.498,1161.21 234.757,1161.38 235.016,1161.56 235.275,1161.75 235.534,1161.93 235.793,1162.11 236.052,1162.3 236.311,1162.48 \n",
       "  236.57,1162.67 236.829,1162.86 237.088,1163.04 237.347,1163.23 237.606,1163.43 237.865,1163.62 238.124,1163.81 238.383,1164.01 238.642,1164.2 238.901,1164.4 \n",
       "  239.16,1164.6 239.419,1164.79 239.678,1164.99 239.937,1165.2 240.196,1165.4 240.455,1165.6 240.714,1165.8 240.973,1166.01 241.232,1166.22 241.491,1166.42 \n",
       "  241.75,1166.63 242.009,1166.84 242.268,1167.05 242.528,1167.26 242.787,1167.47 243.046,1167.69 243.305,1167.9 243.564,1168.12 243.823,1168.33 244.082,1168.55 \n",
       "  244.341,1168.77 244.6,1168.99 244.859,1169.21 245.118,1169.43 245.377,1169.65 245.636,1169.87 245.895,1170.1 246.154,1170.32 246.413,1170.55 246.672,1170.78 \n",
       "  246.931,1171 247.19,1171.23 247.449,1171.46 247.708,1171.69 247.967,1171.92 248.226,1172.16 248.485,1172.39 248.744,1172.62 249.003,1172.86 249.262,1173.09 \n",
       "  249.521,1173.33 249.78,1173.57 250.039,1173.81 250.298,1174.05 250.557,1174.29 250.816,1174.53 251.075,1174.77 251.334,1175.01 251.593,1175.26 251.852,1175.5 \n",
       "  252.111,1175.75 252.37,1175.99 252.629,1176.24 252.888,1176.49 253.147,1176.74 253.406,1176.99 253.665,1177.24 253.924,1177.49 254.183,1177.74 254.442,1177.99 \n",
       "  254.701,1178.24 254.96,1178.5 255.219,1178.75 255.478,1179.01 255.737,1179.26 255.997,1179.52 256.256,1179.78 256.515,1180.04 256.774,1180.3 257.033,1180.56 \n",
       "  257.292,1180.82 257.551,1181.08 257.81,1181.34 258.069,1181.6 258.328,1181.87 258.587,1182.13 258.846,1182.4 259.105,1182.66 259.364,1182.93 259.623,1183.19 \n",
       "  259.882,1183.46 260.141,1183.73 260.4,1184 260.659,1184.27 260.918,1184.54 261.177,1184.81 261.436,1185.08 261.695,1185.35 261.954,1185.62 262.213,1185.89 \n",
       "  262.472,1186.17 262.731,1186.44 262.99,1186.72 263.249,1186.99 263.508,1187.27 263.767,1187.54 264.026,1187.82 264.285,1188.1 264.544,1188.38 264.803,1188.65 \n",
       "  265.062,1188.93 265.321,1189.21 265.58,1189.49 265.839,1189.77 266.098,1190.05 266.357,1190.33 266.616,1190.62 266.875,1190.9 267.134,1191.18 267.393,1191.46 \n",
       "  267.652,1191.75 267.911,1192.03 268.17,1192.32 268.429,1192.6 268.688,1192.89 268.947,1193.17 269.206,1193.46 269.465,1193.75 269.725,1194.03 269.984,1194.32 \n",
       "  270.243,1194.61 270.502,1194.9 270.761,1195.18 271.02,1195.47 271.279,1195.76 271.538,1196.05 271.797,1196.34 272.056,1196.63 272.315,1196.92 272.574,1197.21 \n",
       "  272.833,1197.5 273.092,1197.8 273.351,1198.09 273.61,1198.38 273.869,1198.67 274.128,1198.96 274.387,1199.26 274.646,1199.55 274.905,1199.84 275.164,1200.14 \n",
       "  275.423,1200.43 275.682,1200.72 275.941,1201.02 276.2,1201.31 276.459,1201.61 276.718,1201.9 276.977,1202.2 277.236,1202.49 277.495,1202.79 277.754,1203.08 \n",
       "  278.013,1203.38 278.272,1203.68 278.531,1203.97 278.79,1204.27 279.049,1204.56 279.308,1204.86 279.567,1205.16 279.826,1205.45 280.085,1205.75 280.344,1206.05 \n",
       "  280.603,1206.35 280.862,1206.64 281.121,1206.94 281.38,1207.24 281.639,1207.53 281.898,1207.83 282.157,1208.13 282.416,1208.43 282.675,1208.72 282.934,1209.02 \n",
       "  283.194,1209.32 283.453,1209.62 283.712,1209.91 283.971,1210.21 284.23,1210.51 284.489,1210.81 284.748,1211.1 285.007,1211.4 285.266,1211.7 285.525,1212 \n",
       "  285.784,1212.29 286.043,1212.59 286.302,1212.89 286.561,1213.19 286.82,1213.48 287.079,1213.78 287.338,1214.08 287.597,1214.37 287.856,1214.67 288.115,1214.97 \n",
       "  288.374,1215.26 288.633,1215.56 288.892,1215.85 289.151,1216.15 289.41,1216.45 289.669,1216.74 289.928,1217.04 290.187,1217.33 290.446,1217.63 290.705,1217.92 \n",
       "  290.964,1218.22 291.223,1218.51 291.482,1218.81 291.741,1219.1 292,1219.39 292.259,1219.69 292.518,1219.98 292.777,1220.27 293.036,1220.57 293.295,1220.86 \n",
       "  293.554,1221.15 293.813,1221.44 294.072,1221.73 294.331,1222.03 294.59,1222.32 294.849,1222.61 295.108,1222.9 295.367,1223.19 295.626,1223.48 295.885,1223.77 \n",
       "  296.144,1224.06 296.403,1224.34 296.662,1224.63 296.922,1224.92 297.181,1225.21 297.44,1225.49 297.699,1225.78 297.958,1226.07 298.217,1226.35 298.476,1226.64 \n",
       "  298.735,1226.92 298.994,1227.21 299.253,1227.49 299.512,1227.78 299.771,1228.06 300.03,1228.34 300.289,1228.63 300.548,1228.91 300.807,1229.19 301.066,1229.47 \n",
       "  301.325,1229.75 301.584,1230.03 301.843,1230.31 302.102,1230.59 302.361,1230.87 302.62,1231.14 302.879,1231.42 303.138,1231.7 303.397,1231.97 303.656,1232.25 \n",
       "  303.915,1232.53 304.174,1232.8 304.433,1233.07 304.692,1233.35 304.951,1233.62 305.21,1233.89 305.469,1234.16 305.728,1234.43 305.987,1234.7 306.246,1234.97 \n",
       "  306.505,1235.24 306.764,1235.51 307.023,1235.78 307.282,1236.05 307.541,1236.31 307.8,1236.58 308.059,1236.84 308.318,1237.11 308.577,1237.37 308.836,1237.63 \n",
       "  309.095,1237.89 309.354,1238.16 309.613,1238.42 309.872,1238.68 310.131,1238.94 310.391,1239.19 310.65,1239.45 310.909,1239.71 311.168,1239.96 311.427,1240.22 \n",
       "  311.686,1240.47 311.945,1240.73 312.204,1240.98 312.463,1241.23 312.722,1241.49 312.981,1241.74 313.24,1241.99 313.499,1242.23 313.758,1242.48 314.017,1242.73 \n",
       "  314.276,1242.98 314.535,1243.22 314.794,1243.47 315.053,1243.71 315.312,1243.95 315.571,1244.2 315.83,1244.44 316.089,1244.68 316.348,1244.92 316.607,1245.16 \n",
       "  316.866,1245.39 317.125,1245.63 317.384,1245.87 317.643,1246.1 317.902,1246.33 318.161,1246.57 318.42,1246.8 318.679,1247.03 318.938,1247.26 319.197,1247.49 \n",
       "  319.456,1247.72 319.715,1247.94 319.974,1248.17 320.233,1248.4 320.492,1248.62 320.751,1248.84 321.01,1249.07 321.269,1249.29 321.528,1249.51 321.787,1249.73 \n",
       "  322.046,1249.94 322.305,1250.16 322.564,1250.38 322.823,1250.59 323.082,1250.81 323.341,1251.02 323.6,1251.23 323.86,1251.44 324.119,1251.65 324.378,1251.86 \n",
       "  324.637,1252.07 324.896,1252.27 325.155,1252.48 325.414,1252.68 325.673,1252.88 325.932,1253.09 326.191,1253.29 326.45,1253.49 326.709,1253.68 326.968,1253.88 \n",
       "  327.227,1254.08 327.486,1254.27 327.745,1254.47 328.004,1254.66 328.263,1254.85 328.522,1255.04 328.781,1255.23 329.04,1255.42 329.299,1255.6 329.558,1255.79 \n",
       "  329.817,1255.97 330.076,1256.16 330.335,1256.34 330.594,1256.52 330.853,1256.7 331.112,1256.88 331.371,1257.05 331.63,1257.23 331.889,1257.4 332.148,1257.58 \n",
       "  332.407,1257.75 332.666,1257.92 332.925,1258.09 333.184,1258.26 333.443,1258.42 333.702,1258.59 333.961,1258.75 334.22,1258.92 334.479,1259.08 334.738,1259.24 \n",
       "  334.997,1259.4 335.256,1259.56 335.515,1259.71 335.774,1259.87 336.033,1260.02 336.292,1260.17 336.551,1260.32 336.81,1260.47 337.069,1260.62 337.328,1260.77 \n",
       "  337.588,1260.92 337.847,1261.06 338.106,1261.2 338.365,1261.35 338.624,1261.49 338.883,1261.62 339.142,1261.76 339.401,1261.9 339.66,1262.03 339.919,1262.17 \n",
       "  340.178,1262.3 340.437,1262.43 340.696,1262.56 340.955,1262.69 341.214,1262.81 341.473,1262.94 341.732,1263.06 341.991,1263.18 342.25,1263.3 342.509,1263.42 \n",
       "  342.768,1263.54 343.027,1263.66 343.286,1263.77 343.545,1263.89 343.804,1264 344.063,1264.11 344.322,1264.22 344.581,1264.33 344.84,1264.43 345.099,1264.54 \n",
       "  345.358,1264.64 345.617,1264.74 345.876,1264.84 346.135,1264.94 346.394,1265.04 346.653,1265.13 346.912,1265.23 347.171,1265.32 347.43,1265.41 347.689,1265.5 \n",
       "  347.948,1265.59 348.207,1265.68 348.466,1265.76 348.725,1265.85 348.984,1265.93 349.243,1266.01 349.502,1266.09 349.761,1266.17 350.02,1266.24 350.279,1266.32 \n",
       "  350.538,1266.39 350.797,1266.46 351.057,1266.53 351.316,1266.6 351.575,1266.67 351.834,1266.74 352.093,1266.8 352.352,1266.86 352.611,1266.92 352.87,1266.98 \n",
       "  353.129,1267.04 353.388,1267.1 353.647,1267.15 353.906,1267.21 354.165,1267.26 354.424,1267.31 354.683,1267.36 354.942,1267.4 355.201,1267.45 355.46,1267.49 \n",
       "  355.719,1267.53 355.978,1267.57 356.237,1267.61 356.496,1267.65 356.755,1267.69 357.014,1267.72 357.273,1267.75 357.532,1267.78 357.791,1267.81 358.05,1267.84 \n",
       "  358.309,1267.87 358.568,1267.89 358.827,1267.92 359.086,1267.94 359.345,1267.96 359.604,1267.97 359.863,1267.99 360.122,1268.01 360.381,1268.02 360.64,1268.03 \n",
       "  360.899,1268.04 361.158,1268.05 361.417,1268.06 361.676,1268.06 361.935,1268.07 362.194,1268.07 362.453,1268.07 362.712,1268.07 362.971,1268.07 363.23,1268.06 \n",
       "  363.489,1268.06 363.748,1268.05 364.007,1268.04 364.266,1268.03 364.525,1268.02 364.785,1268 365.044,1267.99 365.303,1267.97 365.562,1267.95 365.821,1267.93 \n",
       "  366.08,1267.91 366.339,1267.88 366.598,1267.86 366.857,1267.83 367.116,1267.8 367.375,1267.77 367.634,1267.74 367.893,1267.71 368.152,1267.67 368.411,1267.64 \n",
       "  368.67,1267.6 368.929,1267.56 369.188,1267.52 369.447,1267.47 369.706,1267.43 369.965,1267.38 370.224,1267.33 370.483,1267.28 370.742,1267.23 371.001,1267.18 \n",
       "  371.26,1267.12 371.519,1267.07 371.778,1267.01 372.037,1266.95 372.296,1266.89 372.555,1266.83 372.814,1266.76 373.073,1266.69 373.332,1266.63 373.591,1266.56 \n",
       "  373.85,1266.49 374.109,1266.41 374.368,1266.34 374.627,1266.26 374.886,1266.19 375.145,1266.11 375.404,1266.03 375.663,1265.95 375.922,1265.86 376.181,1265.78 \n",
       "  376.44,1265.69 376.699,1265.6 376.958,1265.51 377.217,1265.42 377.476,1265.32 377.735,1265.23 377.994,1265.13 378.254,1265.03 378.513,1264.93 378.772,1264.83 \n",
       "  379.031,1264.73 379.29,1264.63 379.549,1264.52 379.808,1264.41 380.067,1264.3 380.326,1264.19 380.585,1264.08 380.844,1263.96 381.103,1263.85 381.362,1263.73 \n",
       "  381.621,1263.61 381.88,1263.49 382.139,1263.37 382.398,1263.25 382.657,1263.12 382.916,1262.99 383.175,1262.87 383.434,1262.74 383.693,1262.6 383.952,1262.47 \n",
       "  384.211,1262.34 384.47,1262.2 384.729,1262.06 384.988,1261.92 385.247,1261.78 385.506,1261.64 385.765,1261.5 386.024,1261.35 386.283,1261.2 386.542,1261.05 \n",
       "  386.801,1260.9 387.06,1260.75 387.319,1260.6 387.578,1260.45 387.837,1260.29 388.096,1260.13 388.355,1259.97 388.614,1259.81 388.873,1259.65 389.132,1259.49 \n",
       "  389.391,1259.32 389.65,1259.15 389.909,1258.99 390.168,1258.82 390.427,1258.65 390.686,1258.47 390.945,1258.3 391.204,1258.12 391.463,1257.95 391.722,1257.77 \n",
       "  391.982,1257.59 392.241,1257.41 392.5,1257.22 392.759,1257.04 393.018,1256.85 393.277,1256.67 393.536,1256.48 393.795,1256.29 394.054,1256.09 394.313,1255.9 \n",
       "  394.572,1255.71 394.831,1255.51 395.09,1255.31 395.349,1255.12 395.608,1254.92 395.867,1254.71 396.126,1254.51 396.385,1254.31 396.644,1254.1 396.903,1253.89 \n",
       "  397.162,1253.68 397.421,1253.48 397.68,1253.26 397.939,1253.05 398.198,1252.84 398.457,1252.62 398.716,1252.4 398.975,1252.19 399.234,1251.97 399.493,1251.75 \n",
       "  399.752,1251.52 400.011,1251.3 400.27,1251.08 400.529,1250.85 400.788,1250.62 401.047,1250.39 401.306,1250.16 401.565,1249.93 401.824,1249.7 402.083,1249.47 \n",
       "  402.342,1249.23 402.601,1248.99 402.86,1248.76 403.119,1248.52 403.378,1248.28 403.637,1248.03 403.896,1247.79 404.155,1247.55 404.414,1247.3 404.673,1247.05 \n",
       "  404.932,1246.81 405.191,1246.56 405.451,1246.31 405.71,1246.06 405.969,1245.8 406.228,1245.55 406.487,1245.29 406.746,1245.04 407.005,1244.78 407.264,1244.52 \n",
       "  407.523,1244.26 407.782,1244 408.041,1243.74 408.3,1243.47 408.559,1243.21 408.818,1242.94 409.077,1242.67 409.336,1242.41 409.595,1242.14 409.854,1241.87 \n",
       "  410.113,1241.59 410.372,1241.32 410.631,1241.05 410.89,1240.77 411.149,1240.5 411.408,1240.22 411.667,1239.94 411.926,1239.66 412.185,1239.38 412.444,1239.1 \n",
       "  412.703,1238.82 412.962,1238.53 413.221,1238.25 413.48,1237.96 413.739,1237.68 413.998,1237.39 414.257,1237.1 414.516,1236.81 414.775,1236.52 415.034,1236.23 \n",
       "  415.293,1235.93 415.552,1235.64 415.811,1235.35 416.07,1235.05 416.329,1234.75 416.588,1234.46 416.847,1234.16 417.106,1233.86 417.365,1233.56 417.624,1233.25 \n",
       "  417.883,1232.95 418.142,1232.65 418.401,1232.34 418.66,1232.04 418.92,1231.73 419.179,1231.43 419.438,1231.12 419.697,1230.81 419.956,1230.5 420.215,1230.19 \n",
       "  420.474,1229.88 420.733,1229.56 420.992,1229.25 421.251,1228.94 421.51,1228.62 421.769,1228.31 422.028,1227.99 422.287,1227.67 422.546,1227.35 422.805,1227.04 \n",
       "  423.064,1226.72 423.323,1226.4 423.582,1226.07 423.841,1225.75 424.1,1225.43 424.359,1225.11 424.618,1224.78 424.877,1224.46 425.136,1224.13 425.395,1223.8 \n",
       "  425.654,1223.48 425.913,1223.15 426.172,1222.82 426.431,1222.49 426.69,1222.16 426.949,1221.83 427.208,1221.5 427.467,1221.17 427.726,1220.83 427.985,1220.5 \n",
       "  428.244,1220.17 428.503,1219.83 428.762,1219.5 429.021,1219.16 429.28,1218.83 429.539,1218.49 429.798,1218.15 430.057,1217.81 430.316,1217.47 430.575,1217.14 \n",
       "  430.834,1216.8 431.093,1216.46 431.352,1216.11 431.611,1215.77 431.87,1215.43 432.129,1215.09 432.388,1214.75 432.648,1214.4 432.907,1214.06 433.166,1213.71 \n",
       "  433.425,1213.37 433.684,1213.02 433.943,1212.68 434.202,1212.33 434.461,1211.98 434.72,1211.64 434.979,1211.29 435.238,1210.94 435.497,1210.59 435.756,1210.24 \n",
       "  436.015,1209.89 436.274,1209.54 436.533,1209.19 436.792,1208.84 437.051,1208.49 437.31,1208.14 437.569,1207.79 437.828,1207.44 438.087,1207.09 438.346,1206.74 \n",
       "  438.605,1206.38 438.864,1206.03 439.123,1205.68 439.382,1205.32 439.641,1204.97 439.9,1204.61 440.159,1204.26 440.418,1203.91 440.677,1203.55 440.936,1203.2 \n",
       "  441.195,1202.84 441.454,1202.48 441.713,1202.13 441.972,1201.77 442.231,1201.42 442.49,1201.06 442.749,1200.7 443.008,1200.35 443.267,1199.99 443.526,1199.63 \n",
       "  443.785,1199.28 444.044,1198.92 444.303,1198.56 444.562,1198.21 444.821,1197.85 445.08,1197.49 445.339,1197.13 445.598,1196.77 445.857,1196.42 446.117,1196.06 \n",
       "  446.376,1195.7 446.635,1195.34 446.894,1194.99 447.153,1194.63 447.412,1194.27 447.671,1193.91 447.93,1193.55 448.189,1193.2 448.448,1192.84 448.707,1192.48 \n",
       "  448.966,1192.12 449.225,1191.76 449.484,1191.41 449.743,1191.05 450.002,1190.69 450.261,1190.33 450.52,1189.98 450.779,1189.62 451.038,1189.26 451.297,1188.9 \n",
       "  451.556,1188.55 451.815,1188.19 452.074,1187.83 452.333,1187.48 452.592,1187.12 452.851,1186.77 453.11,1186.41 453.369,1186.05 453.628,1185.7 453.887,1185.34 \n",
       "  454.146,1184.99 454.405,1184.63 454.664,1184.28 454.923,1183.92 455.182,1183.57 455.441,1183.22 455.7,1182.86 455.959,1182.51 456.218,1182.16 456.477,1181.8 \n",
       "  456.736,1181.45 456.995,1181.1 457.254,1180.75 457.513,1180.4 457.772,1180.04 458.031,1179.69 458.29,1179.34 458.549,1178.99 458.808,1178.64 459.067,1178.29 \n",
       "  459.326,1177.95 459.585,1177.6 459.845,1177.25 460.104,1176.9 460.363,1176.56 460.622,1176.21 460.881,1175.86 461.14,1175.52 461.399,1175.17 461.658,1174.83 \n",
       "  461.917,1174.48 462.176,1174.14 462.435,1173.79 462.694,1173.45 462.953,1173.11 463.212,1172.77 463.471,1172.43 463.73,1172.09 463.989,1171.75 464.248,1171.41 \n",
       "  464.507,1171.07 464.766,1170.73 465.025,1170.39 465.284,1170.05 465.543,1169.72 465.802,1169.38 466.061,1169.05 466.32,1168.71 466.579,1168.38 466.838,1168.04 \n",
       "  467.097,1167.71 467.356,1167.38 467.615,1167.05 467.874,1166.72 468.133,1166.39 468.392,1166.06 468.651,1165.73 468.91,1165.4 469.169,1165.08 469.428,1164.75 \n",
       "  469.687,1164.42 469.946,1164.1 470.205,1163.78 470.464,1163.45 470.723,1163.13 470.982,1162.81 471.241,1162.49 471.5,1162.17 471.759,1161.85 472.018,1161.53 \n",
       "  472.277,1161.21 472.536,1160.9 472.795,1160.58 473.054,1160.26 473.314,1159.95 473.573,1159.64 473.832,1159.32 474.091,1159.01 474.35,1158.7 474.609,1158.39 \n",
       "  474.868,1158.08 475.127,1157.78 475.386,1157.47 475.645,1157.16 475.904,1156.86 476.163,1156.55 476.422,1156.25 476.681,1155.95 476.94,1155.65 477.199,1155.35 \n",
       "  477.458,1155.05 477.717,1154.75 477.976,1154.45 478.235,1154.16 478.494,1153.86 478.753,1153.57 479.012,1153.28 479.271,1152.98 479.53,1152.69 479.789,1152.4 \n",
       "  480.048,1152.12 480.307,1151.83 480.566,1151.54 480.825,1151.26 481.084,1150.97 481.343,1150.69 481.602,1150.41 481.861,1150.13 482.12,1149.85 482.379,1149.57 \n",
       "  482.638,1149.29 482.897,1149.01 483.156,1148.74 483.415,1148.47 483.674,1148.19 483.933,1147.92 484.192,1147.65 484.451,1147.38 484.71,1147.11 484.969,1146.85 \n",
       "  485.228,1146.58 485.487,1146.32 485.746,1146.05 486.005,1145.79 486.264,1145.53 486.523,1145.27 486.782,1145.02 487.042,1144.76 487.301,1144.5 487.56,1144.25 \n",
       "  487.819,1144 488.078,1143.75 488.337,1143.5 488.596,1143.25 488.855,1143 489.114,1142.75 489.373,1142.51 489.632,1142.27 489.891,1142.02 490.15,1141.78 \n",
       "  490.409,1141.55 490.668,1141.31 490.927,1141.07 491.186,1140.84 491.445,1140.6 491.704,1140.37 491.963,1140.14 492.222,1139.91 492.481,1139.68 492.74,1139.46 \n",
       "  492.999,1139.23 493.258,1139.01 493.517,1138.79 493.776,1138.56 494.035,1138.35 494.294,1138.13 494.553,1137.91 494.812,1137.7 495.071,1137.48 495.33,1137.27 \n",
       "  495.589,1137.06 495.848,1136.85 496.107,1136.65 496.366,1136.44 496.625,1136.24 496.884,1136.03 497.143,1135.83 497.402,1135.63 497.661,1135.44 497.92,1135.24 \n",
       "  498.179,1135.04 498.438,1134.85 498.697,1134.66 498.956,1134.47 499.215,1134.28 499.474,1134.09 499.733,1133.91 499.992,1133.73 500.251,1133.54 500.511,1133.36 \n",
       "  500.77,1133.18 501.029,1133.01 501.288,1132.83 501.547,1132.66 501.806,1132.49 502.065,1132.32 502.324,1132.15 502.583,1131.98 502.842,1131.81 503.101,1131.65 \n",
       "  503.36,1131.49 503.619,1131.33 503.878,1131.17 504.137,1131.01 504.396,1130.86 504.655,1130.7 504.914,1130.55 505.173,1130.4 505.432,1130.25 505.691,1130.1 \n",
       "  505.95,1129.96 506.209,1129.82 506.468,1129.68 506.727,1129.54 506.986,1129.4 507.245,1129.26 507.504,1129.13 507.763,1128.99 508.022,1128.86 508.281,1128.73 \n",
       "  508.54,1128.61 508.799,1128.48 509.058,1128.36 509.317,1128.23 509.576,1128.11 509.835,1127.99 510.094,1127.88 510.353,1127.76 510.612,1127.65 510.871,1127.54 \n",
       "  511.13,1127.43 511.389,1127.32 511.648,1127.22 511.907,1127.11 512.166,1127.01 512.425,1126.91 512.684,1126.81 512.943,1126.71 513.202,1126.62 513.461,1126.53 \n",
       "  513.72,1126.44 513.98,1126.35 514.239,1126.26 514.498,1126.17 514.757,1126.09 515.016,1126.01 515.275,1125.93 515.534,1125.85 515.793,1125.77 516.052,1125.7 \n",
       "  516.311,1125.63 516.57,1125.56 516.829,1125.49 517.088,1125.42 517.347,1125.36 517.606,1125.29 517.865,1125.23 518.124,1125.17 518.383,1125.12 518.642,1125.06 \n",
       "  518.901,1125.01 519.16,1124.96 519.419,1124.91 519.678,1124.86 519.937,1124.82 520.196,1124.77 520.455,1124.73 520.714,1124.69 520.973,1124.65 521.232,1124.62 \n",
       "  521.491,1124.58 521.75,1124.55 522.009,1124.52 522.268,1124.49 522.527,1124.47 522.786,1124.44 523.045,1124.42 523.304,1124.4 523.563,1124.38 523.822,1124.37 \n",
       "  524.081,1124.35 524.34,1124.34 524.599,1124.33 524.858,1124.32 525.117,1124.31 525.376,1124.31 525.635,1124.31 525.894,1124.31 526.153,1124.31 526.412,1124.31 \n",
       "  526.671,1124.32 526.93,1124.32 527.189,1124.33 527.448,1124.35 527.708,1124.36 527.967,1124.37 528.226,1124.39 528.485,1124.41 528.744,1124.43 529.003,1124.46 \n",
       "  529.262,1124.48 529.521,1124.51 529.78,1124.54 530.039,1124.57 530.298,1124.6 530.557,1124.64 530.816,1124.67 531.075,1124.71 531.334,1124.75 531.593,1124.8 \n",
       "  531.852,1124.84 532.111,1124.89 532.37,1124.94 532.629,1124.99 532.888,1125.04 533.147,1125.1 533.406,1125.16 533.665,1125.22 533.924,1125.28 534.183,1125.34 \n",
       "  534.442,1125.41 534.701,1125.47 534.96,1125.54 535.219,1125.61 535.478,1125.69 535.737,1125.76 535.996,1125.84 536.255,1125.92 536.514,1126 536.773,1126.08 \n",
       "  537.032,1126.17 537.291,1126.25 537.55,1126.34 537.809,1126.43 538.068,1126.53 538.327,1126.62 538.586,1126.72 538.845,1126.82 539.104,1126.92 539.363,1127.02 \n",
       "  539.622,1127.13 539.881,1127.24 540.14,1127.34 540.399,1127.46 540.658,1127.57 540.917,1127.68 541.177,1127.8 541.436,1127.92 541.695,1128.04 541.954,1128.16 \n",
       "  542.213,1128.29 542.472,1128.41 542.731,1128.54 542.99,1128.67 543.249,1128.81 543.508,1128.94 543.767,1129.08 544.026,1129.22 544.285,1129.36 544.544,1129.5 \n",
       "  544.803,1129.64 545.062,1129.79 545.321,1129.94 545.58,1130.09 545.839,1130.24 546.098,1130.4 546.357,1130.55 546.616,1130.71 546.875,1130.87 547.134,1131.03 \n",
       "  547.393,1131.2 547.652,1131.36 547.911,1131.53 548.17,1131.7 548.429,1131.87 548.688,1132.04 548.947,1132.22 549.206,1132.4 549.465,1132.58 549.724,1132.76 \n",
       "  549.983,1132.94 550.242,1133.12 550.501,1133.31 550.76,1133.5 551.019,1133.69 551.278,1133.88 551.537,1134.08 551.796,1134.27 552.055,1134.47 552.314,1134.67 \n",
       "  552.573,1134.87 552.832,1135.08 553.091,1135.28 553.35,1135.49 553.609,1135.7 553.868,1135.91 554.127,1136.12 554.386,1136.34 554.645,1136.55 554.905,1136.77 \n",
       "  555.164,1136.99 555.423,1137.22 555.682,1137.44 555.941,1137.67 556.2,1137.89 556.459,1138.12 556.718,1138.35 556.977,1138.59 557.236,1138.82 557.495,1139.06 \n",
       "  557.754,1139.3 558.013,1139.54 558.272,1139.78 558.531,1140.02 558.79,1140.27 559.049,1140.51 559.308,1140.76 559.567,1141.01 559.826,1141.27 560.085,1141.52 \n",
       "  560.344,1141.78 560.603,1142.03 560.862,1142.29 561.121,1142.55 561.38,1142.82 561.639,1143.08 561.898,1143.35 562.157,1143.62 562.416,1143.89 562.675,1144.16 \n",
       "  562.934,1144.43 563.193,1144.7 563.452,1144.98 563.711,1145.26 563.97,1145.54 564.229,1145.82 564.488,1146.1 564.747,1146.39 565.006,1146.67 565.265,1146.96 \n",
       "  565.524,1147.25 565.783,1147.54 566.042,1147.84 566.301,1148.13 566.56,1148.43 566.819,1148.72 567.078,1149.02 567.337,1149.32 567.596,1149.63 567.855,1149.93 \n",
       "  568.114,1150.23 568.374,1150.54 568.633,1150.85 568.892,1151.16 569.151,1151.47 569.41,1151.79 569.669,1152.1 569.928,1152.42 570.187,1152.73 570.446,1153.05 \n",
       "  570.705,1153.37 570.964,1153.7 571.223,1154.02 571.482,1154.35 571.741,1154.67 572,1155 572.259,1155.33 572.518,1155.66 572.777,1155.99 573.036,1156.33 \n",
       "  573.295,1156.66 573.554,1157 573.813,1157.34 574.072,1157.68 574.331,1158.02 574.59,1158.36 574.849,1158.71 575.108,1159.05 575.367,1159.4 575.626,1159.75 \n",
       "  575.885,1160.09 576.144,1160.45 576.403,1160.8 576.662,1161.15 576.921,1161.51 577.18,1161.86 577.439,1162.22 577.698,1162.58 577.957,1162.94 578.216,1163.3 \n",
       "  578.475,1163.66 578.734,1164.02 578.993,1164.39 579.252,1164.76 579.511,1165.12 579.77,1165.49 580.029,1165.86 580.288,1166.23 580.547,1166.61 580.806,1166.98 \n",
       "  581.065,1167.35 581.324,1167.73 581.583,1168.11 581.842,1168.49 582.102,1168.87 582.361,1169.25 582.62,1169.63 582.879,1170.01 583.138,1170.4 583.397,1170.78 \n",
       "  583.656,1171.17 583.915,1171.55 584.174,1171.94 584.433,1172.33 584.692,1172.72 584.951,1173.12 585.21,1173.51 585.469,1173.9 585.728,1174.3 585.987,1174.69 \n",
       "  586.246,1175.09 586.505,1175.49 586.764,1175.89 587.023,1176.29 587.282,1176.69 587.541,1177.09 587.8,1177.49 588.059,1177.9 588.318,1178.3 588.577,1178.71 \n",
       "  588.836,1179.11 589.095,1179.52 589.354,1179.93 589.613,1180.34 589.872,1180.75 590.131,1181.16 590.39,1181.57 590.649,1181.99 590.908,1182.4 591.167,1182.82 \n",
       "  591.426,1183.23 591.685,1183.65 591.944,1184.07 592.203,1184.48 592.462,1184.9 592.721,1185.32 592.98,1185.74 593.239,1186.16 593.498,1186.59 593.757,1187.01 \n",
       "  594.016,1187.43 594.275,1187.86 594.534,1188.28 594.793,1188.71 595.052,1189.13 595.311,1189.56 595.571,1189.99 595.83,1190.42 596.089,1190.84 596.348,1191.27 \n",
       "  596.607,1191.7 596.866,1192.14 597.125,1192.57 597.384,1193 597.643,1193.43 597.902,1193.87 598.161,1194.3 598.42,1194.73 598.679,1195.17 598.938,1195.6 \n",
       "  599.197,1196.04 599.456,1196.48 599.715,1196.91 599.974,1197.35 600.233,1197.79 600.492,1198.23 600.751,1198.67 601.01,1199.11 601.269,1199.55 601.528,1199.99 \n",
       "  601.787,1200.43 602.046,1200.87 602.305,1201.31 602.564,1201.76 602.823,1202.2 603.082,1202.64 603.341,1203.08 603.6,1203.53 603.859,1203.97 604.118,1204.42 \n",
       "  604.377,1204.86 604.636,1205.31 604.895,1205.75 605.154,1206.2 605.413,1206.64 605.672,1207.09 605.931,1207.54 606.19,1207.98 606.449,1208.43 606.708,1208.88 \n",
       "  606.967,1209.32 607.226,1209.77 607.485,1210.22 607.744,1210.67 608.003,1211.12 608.262,1211.56 608.521,1212.01 608.78,1212.46 609.04,1212.91 609.299,1213.36 \n",
       "  609.558,1213.81 609.817,1214.26 610.076,1214.71 610.335,1215.16 610.594,1215.61 610.853,1216.06 611.112,1216.5 611.371,1216.95 611.63,1217.4 611.889,1217.85 \n",
       "  612.148,1218.3 612.407,1218.75 612.666,1219.2 612.925,1219.65 613.184,1220.1 613.443,1220.55 613.702,1221 613.961,1221.45 614.22,1221.9 614.479,1222.35 \n",
       "  614.738,1222.8 614.997,1223.25 615.256,1223.69 615.515,1224.14 615.774,1224.59 616.033,1225.04 616.292,1225.49 616.551,1225.94 616.81,1226.38 617.069,1226.83 \n",
       "  617.328,1227.28 617.587,1227.72 617.846,1228.17 618.105,1228.62 618.364,1229.06 618.623,1229.51 618.882,1229.96 619.141,1230.4 619.4,1230.85 619.659,1231.29 \n",
       "  619.918,1231.74 620.177,1232.18 620.436,1232.62 620.695,1233.07 620.954,1233.51 621.213,1233.95 621.472,1234.39 621.731,1234.84 621.99,1235.28 622.249,1235.72 \n",
       "  622.508,1236.16 622.768,1236.6 623.027,1237.04 623.286,1237.48 623.545,1237.92 623.804,1238.35 624.063,1238.79 624.322,1239.23 624.581,1239.66 624.84,1240.1 \n",
       "  625.099,1240.54 625.358,1240.97 625.617,1241.41 625.876,1241.84 626.135,1242.27 626.394,1242.7 626.653,1243.14 626.912,1243.57 627.171,1244 627.43,1244.43 \n",
       "  627.689,1244.86 627.948,1245.29 628.207,1245.71 628.466,1246.14 628.725,1246.57 628.984,1246.99 629.243,1247.42 629.502,1247.84 629.761,1248.26 630.02,1248.69 \n",
       "  630.279,1249.11 630.538,1249.53 630.797,1249.95 631.056,1250.37 631.315,1250.79 631.574,1251.21 631.833,1251.62 632.092,1252.04 632.351,1252.45 632.61,1252.87 \n",
       "  632.869,1253.28 633.128,1253.69 633.387,1254.11 633.646,1254.52 633.905,1254.93 634.164,1255.34 634.423,1255.74 634.682,1256.15 634.941,1256.56 635.2,1256.96 \n",
       "  635.459,1257.36 635.718,1257.77 635.977,1258.17 636.237,1258.57 636.496,1258.97 636.755,1259.37 637.014,1259.77 637.273,1260.16 637.532,1260.56 637.791,1260.95 \n",
       "  638.05,1261.35 638.309,1261.74 638.568,1262.13 638.827,1262.52 639.086,1262.91 639.345,1263.3 639.604,1263.68 639.863,1264.07 640.122,1264.45 640.381,1264.83 \n",
       "  640.64,1265.22 640.899,1265.6 641.158,1265.98 641.417,1266.35 641.676,1266.73 641.935,1267.11 642.194,1267.48 642.453,1267.85 642.712,1268.22 642.971,1268.59 \n",
       "  643.23,1268.96 643.489,1269.33 643.748,1269.7 644.007,1270.06 644.266,1270.43 644.525,1270.79 644.784,1271.15 645.043,1271.51 645.302,1271.87 645.561,1272.22 \n",
       "  645.82,1272.58 646.079,1272.93 646.338,1273.28 646.597,1273.64 646.856,1273.99 647.115,1274.33 647.374,1274.68 647.633,1275.02 647.892,1275.37 648.151,1275.71 \n",
       "  648.41,1276.05 648.669,1276.39 648.928,1276.73 649.187,1277.06 649.446,1277.4 649.705,1277.73 649.965,1278.06 650.224,1278.39 650.483,1278.72 650.742,1279.05 \n",
       "  651.001,1279.37 651.26,1279.69 651.519,1280.02 651.778,1280.34 652.037,1280.65 652.296,1280.97 652.555,1281.28 652.814,1281.6 653.073,1281.91 653.332,1282.22 \n",
       "  653.591,1282.53 653.85,1282.83 654.109,1283.14 654.368,1283.44 654.627,1283.74 654.886,1284.04 655.145,1284.34 655.404,1284.64 655.663,1284.93 655.922,1285.22 \n",
       "  656.181,1285.51 656.44,1285.8 656.699,1286.09 656.958,1286.38 657.217,1286.66 657.476,1286.94 657.735,1287.22 657.994,1287.5 658.253,1287.77 658.512,1288.05 \n",
       "  658.771,1288.32 659.03,1288.59 659.289,1288.86 659.548,1289.13 659.807,1289.39 660.066,1289.65 660.325,1289.91 660.584,1290.17 660.843,1290.43 661.102,1290.68 \n",
       "  661.361,1290.94 661.62,1291.19 661.879,1291.44 662.138,1291.68 662.397,1291.93 662.656,1292.17 662.915,1292.41 663.174,1292.65 663.434,1292.89 663.693,1293.12 \n",
       "  663.952,1293.36 664.211,1293.59 664.47,1293.82 664.729,1294.04 664.988,1294.27 665.247,1294.49 665.506,1294.71 665.765,1294.93 666.024,1295.15 666.283,1295.36 \n",
       "  666.542,1295.57 666.801,1295.78 667.06,1295.99 667.319,1296.2 667.578,1296.4 667.837,1296.6 668.096,1296.8 668.355,1297 668.614,1297.19 668.873,1297.39 \n",
       "  669.132,1297.58 669.391,1297.77 669.65,1297.95 669.909,1298.14 670.168,1298.32 670.427,1298.5 670.686,1298.68 670.945,1298.85 671.204,1299.02 671.463,1299.2 \n",
       "  671.722,1299.36 671.981,1299.53 672.24,1299.69 672.499,1299.86 672.758,1300.02 673.017,1300.17 673.276,1300.33 673.535,1300.48 673.794,1300.63 674.053,1300.78 \n",
       "  674.312,1300.92 674.571,1301.07 674.83,1301.21 675.089,1301.35 675.348,1301.48 675.607,1301.62 675.866,1301.75 676.125,1301.88 676.384,1302.01 676.643,1302.13 \n",
       "  676.902,1302.25 677.162,1302.37 677.421,1302.49 677.68,1302.61 677.939,1302.72 678.198,1302.83 678.457,1302.94 678.716,1303.05 678.975,1303.15 679.234,1303.25 \n",
       "  679.493,1303.35 679.752,1303.44 680.011,1303.54 680.27,1303.63 680.529,1303.72 680.788,1303.81 681.047,1303.89 681.306,1303.97 681.565,1304.05 681.824,1304.13 \n",
       "  682.083,1304.2 682.342,1304.27 682.601,1304.34 682.86,1304.41 683.119,1304.47 683.378,1304.54 683.637,1304.6 683.896,1304.65 684.155,1304.71 684.414,1304.76 \n",
       "  684.673,1304.81 684.932,1304.86 685.191,1304.9 685.45,1304.94 685.709,1304.98 685.968,1305.02 686.227,1305.05 686.486,1305.09 686.745,1305.11 687.004,1305.14 \n",
       "  687.263,1305.17 687.522,1305.19 687.781,1305.21 688.04,1305.22 688.299,1305.24 688.558,1305.25 688.817,1305.26 689.076,1305.27 689.335,1305.27 689.594,1305.27 \n",
       "  689.853,1305.27 690.112,1305.27 690.371,1305.26 690.631,1305.25 690.89,1305.24 691.149,1305.23 691.408,1305.21 691.667,1305.2 691.926,1305.17 692.185,1305.15 \n",
       "  692.444,1305.12 692.703,1305.09 692.962,1305.06 693.221,1305.03 693.48,1304.99 693.739,1304.95 693.998,1304.91 694.257,1304.87 694.516,1304.82 694.775,1304.77 \n",
       "  695.034,1304.72 695.293,1304.66 695.552,1304.61 695.811,1304.55 696.07,1304.48 696.329,1304.42 696.588,1304.35 696.847,1304.28 697.106,1304.21 697.365,1304.13 \n",
       "  697.624,1304.05 697.883,1303.97 698.142,1303.89 698.401,1303.8 698.66,1303.72 698.919,1303.63 699.178,1303.53 699.437,1303.44 699.696,1303.34 699.955,1303.24 \n",
       "  700.214,1303.13 700.473,1303.03 700.732,1302.92 700.991,1302.8 701.25,1302.69 701.509,1302.57 701.768,1302.45 702.027,1302.33 702.286,1302.21 702.545,1302.08 \n",
       "  702.804,1301.95 703.063,1301.82 703.322,1301.68 703.581,1301.54 703.84,1301.4 704.1,1301.26 704.359,1301.12 704.618,1300.97 704.877,1300.82 705.136,1300.67 \n",
       "  705.395,1300.51 705.654,1300.35 705.913,1300.19 706.172,1300.03 706.431,1299.86 706.69,1299.69 706.949,1299.52 707.208,1299.35 707.467,1299.17 707.726,1298.99 \n",
       "  707.985,1298.81 708.244,1298.63 708.503,1298.44 708.762,1298.25 709.021,1298.06 709.28,1297.87 709.539,1297.67 709.798,1297.47 710.057,1297.27 710.316,1297.06 \n",
       "  710.575,1296.86 710.834,1296.65 711.093,1296.44 711.352,1296.22 711.611,1296.01 711.87,1295.79 712.129,1295.56 712.388,1295.34 712.647,1295.11 712.906,1294.88 \n",
       "  713.165,1294.65 713.424,1294.42 713.683,1294.18 713.942,1293.94 714.201,1293.7 714.46,1293.45 714.719,1293.21 714.978,1292.96 715.237,1292.7 715.496,1292.45 \n",
       "  715.755,1292.19 716.014,1291.93 716.273,1291.67 716.532,1291.41 716.791,1291.14 717.05,1290.87 717.309,1290.6 717.568,1290.33 717.828,1290.05 718.087,1289.77 \n",
       "  718.346,1289.49 718.605,1289.21 718.864,1288.92 719.123,1288.63 719.382,1288.34 719.641,1288.05 719.9,1287.75 720.159,1287.45 720.418,1287.15 720.677,1286.85 \n",
       "  720.936,1286.54 721.195,1286.23 721.454,1285.92 721.713,1285.61 721.972,1285.3 722.231,1284.98 722.49,1284.66 722.749,1284.34 723.008,1284.01 723.267,1283.69 \n",
       "  723.526,1283.36 723.785,1283.03 724.044,1282.69 724.303,1282.36 724.562,1282.02 724.821,1281.68 725.08,1281.34 725.339,1280.99 725.598,1280.64 725.857,1280.29 \n",
       "  726.116,1279.94 726.375,1279.59 726.634,1279.23 726.893,1278.87 727.152,1278.51 727.411,1278.15 727.67,1277.78 727.929,1277.42 728.188,1277.05 728.447,1276.67 \n",
       "  728.706,1276.3 728.965,1275.92 729.224,1275.54 729.483,1275.16 729.742,1274.78 730.001,1274.4 730.26,1274.01 730.519,1273.62 730.778,1273.23 731.037,1272.83 \n",
       "  731.297,1272.44 731.556,1272.04 731.815,1271.64 732.074,1271.24 732.333,1270.83 732.592,1270.43 732.851,1270.02 733.11,1269.61 733.369,1269.2 733.628,1268.78 \n",
       "  733.887,1268.37 734.146,1267.95 734.405,1267.53 734.664,1267.1 734.923,1266.68 735.182,1266.25 735.441,1265.82 735.7,1265.39 735.959,1264.96 736.218,1264.52 \n",
       "  736.477,1264.09 736.736,1263.65 736.995,1263.21 737.254,1262.77 737.513,1262.32 737.772,1261.88 738.031,1261.43 738.29,1260.98 738.549,1260.53 738.808,1260.07 \n",
       "  739.067,1259.62 739.326,1259.16 739.585,1258.7 739.844,1258.24 740.103,1257.77 740.362,1257.31 740.621,1256.84 740.88,1256.37 741.139,1255.9 741.398,1255.43 \n",
       "  741.657,1254.96 741.916,1254.48 742.175,1254 742.434,1253.52 742.693,1253.04 742.952,1252.56 743.211,1252.08 743.47,1251.59 743.729,1251.1 743.988,1250.61 \n",
       "  744.247,1250.12 744.506,1249.63 744.765,1249.13 745.025,1248.64 745.284,1248.14 745.543,1247.64 745.802,1247.14 746.061,1246.64 746.32,1246.13 746.579,1245.63 \n",
       "  746.838,1245.12 747.097,1244.61 747.356,1244.1 747.615,1243.59 747.874,1243.07 748.133,1242.56 748.392,1242.04 748.651,1241.52 748.91,1241 749.169,1240.48 \n",
       "  749.428,1239.96 749.687,1239.44 749.946,1238.91 750.205,1238.38 750.464,1237.86 750.723,1237.33 750.982,1236.79 751.241,1236.26 751.5,1235.73 751.759,1235.19 \n",
       "  752.018,1234.66 752.277,1234.12 752.536,1233.58 752.795,1233.04 753.054,1232.5 753.313,1231.95 753.572,1231.41 753.831,1230.86 754.09,1230.32 754.349,1229.77 \n",
       "  754.608,1229.22 754.867,1228.67 755.126,1228.12 755.385,1227.56 755.644,1227.01 755.903,1226.45 756.162,1225.9 756.421,1225.34 756.68,1224.78 756.939,1224.22 \n",
       "  757.198,1223.66 757.457,1223.1 757.716,1222.54 757.975,1221.97 758.234,1221.41 758.494,1220.84 758.753,1220.27 759.012,1219.7 759.271,1219.14 759.53,1218.57 \n",
       "  759.789,1217.99 760.048,1217.42 760.307,1216.85 760.566,1216.27 760.825,1215.7 761.084,1215.12 761.343,1214.55 761.602,1213.97 761.861,1213.39 762.12,1212.81 \n",
       "  762.379,1212.23 762.638,1211.65 762.897,1211.07 763.156,1210.48 763.415,1209.9 763.674,1209.32 763.933,1208.73 764.192,1208.14 764.451,1207.56 764.71,1206.97 \n",
       "  764.969,1206.38 765.228,1205.79 765.487,1205.2 765.746,1204.61 766.005,1204.02 766.264,1203.43 766.523,1202.84 766.782,1202.25 767.041,1201.65 767.3,1201.06 \n",
       "  767.559,1200.47 767.818,1199.87 768.077,1199.28 768.336,1198.68 768.595,1198.08 768.854,1197.49 769.113,1196.89 769.372,1196.29 769.631,1195.69 769.89,1195.09 \n",
       "  770.149,1194.49 770.408,1193.89 770.667,1193.29 770.926,1192.69 771.185,1192.09 771.444,1191.49 771.703,1190.89 771.962,1190.29 772.222,1189.68 772.481,1189.08 \n",
       "  772.74,1188.48 772.999,1187.88 773.258,1187.27 773.517,1186.67 773.776,1186.06 774.035,1185.46 774.294,1184.86 774.553,1184.25 774.812,1183.65 775.071,1183.04 \n",
       "  775.33,1182.44 775.589,1181.83 775.848,1181.23 776.107,1180.62 776.366,1180.02 776.625,1179.41 776.884,1178.8 777.143,1178.2 777.402,1177.59 777.661,1176.99 \n",
       "  777.92,1176.38 778.179,1175.78 778.438,1175.17 778.697,1174.57 778.956,1173.96 779.215,1173.35 779.474,1172.75 779.733,1172.14 779.992,1171.54 780.251,1170.93 \n",
       "  780.51,1170.33 780.769,1169.72 781.028,1169.12 781.287,1168.52 781.546,1167.91 781.805,1167.31 782.064,1166.7 782.323,1166.1 782.582,1165.5 782.841,1164.9 \n",
       "  783.1,1164.29 783.359,1163.69 783.618,1163.09 783.877,1162.49 784.136,1161.89 784.395,1161.29 784.654,1160.68 784.913,1160.08 785.172,1159.49 785.431,1158.89 \n",
       "  785.691,1158.29 785.95,1157.69 786.209,1157.09 786.468,1156.49 786.727,1155.9 786.986,1155.3 787.245,1154.71 787.504,1154.11 787.763,1153.52 788.022,1152.92 \n",
       "  788.281,1152.33 788.54,1151.74 788.799,1151.14 789.058,1150.55 789.317,1149.96 789.576,1149.37 789.835,1148.78 790.094,1148.19 790.353,1147.61 790.612,1147.02 \n",
       "  790.871,1146.43 791.13,1145.85 791.389,1145.26 791.648,1144.68 791.907,1144.09 792.166,1143.51 792.425,1142.93 792.684,1142.35 792.943,1141.77 793.202,1141.19 \n",
       "  793.461,1140.61 793.72,1140.04 793.979,1139.46 794.238,1138.88 794.497,1138.31 794.756,1137.74 795.015,1137.16 795.274,1136.59 795.533,1136.02 795.792,1135.45 \n",
       "  796.051,1134.89 796.31,1134.32 796.569,1133.75 796.828,1133.19 797.087,1132.62 797.346,1132.06 797.605,1131.5 797.864,1130.94 798.123,1130.38 798.382,1129.82 \n",
       "  798.641,1129.27 798.9,1128.71 799.16,1128.16 799.419,1127.6 799.678,1127.05 799.937,1126.5 800.196,1125.95 800.455,1125.4 800.714,1124.86 800.973,1124.31 \n",
       "  801.232,1123.77 801.491,1123.22 801.75,1122.68 802.009,1122.14 802.268,1121.61 802.527,1121.07 802.786,1120.53 803.045,1120 803.304,1119.47 803.563,1118.94 \n",
       "  803.822,1118.41 804.081,1117.88 804.34,1117.35 804.599,1116.83 804.858,1116.3 805.117,1115.78 805.376,1115.26 805.635,1114.74 805.894,1114.23 806.153,1113.71 \n",
       "  806.412,1113.2 806.671,1112.68 806.93,1112.17 807.189,1111.67 807.448,1111.16 807.707,1110.65 807.966,1110.15 808.225,1109.65 808.484,1109.15 808.743,1108.65 \n",
       "  809.002,1108.15 809.261,1107.66 809.52,1107.17 809.779,1106.68 810.038,1106.19 810.297,1105.7 810.556,1105.21 810.815,1104.73 811.074,1104.25 811.333,1103.77 \n",
       "  811.592,1103.29 811.851,1102.82 812.11,1102.34 812.369,1101.87 812.628,1101.4 812.888,1100.93 813.147,1100.47 813.406,1100 813.665,1099.54 813.924,1099.08 \n",
       "  814.183,1098.62 814.442,1098.17 814.701,1097.71 814.96,1097.26 815.219,1096.81 815.478,1096.37 815.737,1095.92 815.996,1095.48 816.255,1095.04 816.514,1094.6 \n",
       "  816.773,1094.16 817.032,1093.73 817.291,1093.3 817.55,1092.87 817.809,1092.44 818.068,1092.01 818.327,1091.59 818.586,1091.17 818.845,1090.75 819.104,1090.34 \n",
       "  819.363,1089.92 819.622,1089.51 819.881,1089.1 820.14,1088.7 820.399,1088.29 820.658,1087.89 820.917,1087.49 821.176,1087.1 821.435,1086.7 821.694,1086.31 \n",
       "  821.953,1085.92 822.212,1085.53 822.471,1085.15 822.73,1084.77 822.989,1084.39 823.248,1084.01 823.507,1083.64 823.766,1083.26 824.025,1082.89 824.284,1082.53 \n",
       "  824.543,1082.16 824.802,1081.8 825.061,1081.44 825.32,1081.09 825.579,1080.73 825.838,1080.38 826.097,1080.03 826.357,1079.69 826.616,1079.34 826.875,1079 \n",
       "  827.134,1078.67 827.393,1078.33 827.652,1078 827.911,1077.67 828.17,1077.34 828.429,1077.02 828.688,1076.7 828.947,1076.38 829.206,1076.06 829.465,1075.75 \n",
       "  829.724,1075.44 829.983,1075.13 830.242,1074.83 830.501,1074.53 830.76,1074.23 831.019,1073.93 831.278,1073.64 831.537,1073.35 831.796,1073.06 832.055,1072.78 \n",
       "  832.314,1072.5 832.573,1072.22 832.832,1071.94 833.091,1071.67 833.35,1071.4 833.609,1071.13 833.868,1070.87 834.127,1070.61 834.386,1070.35 834.645,1070.1 \n",
       "  834.904,1069.84 835.163,1069.6 835.422,1069.35 835.681,1069.11 835.94,1068.87 836.199,1068.63 836.458,1068.4 836.717,1068.17 836.976,1067.94 837.235,1067.72 \n",
       "  837.494,1067.5 837.753,1067.28 838.012,1067.06 838.271,1066.85 838.53,1066.64 838.789,1066.44 839.048,1066.24 839.307,1066.04 839.566,1065.84 839.825,1065.65 \n",
       "  840.085,1065.46 840.344,1065.27 840.603,1065.09 840.862,1064.91 841.121,1064.74 841.38,1064.56 841.639,1064.39 841.898,1064.23 842.157,1064.06 842.416,1063.9 \n",
       "  842.675,1063.75 842.934,1063.59 843.193,1063.44 843.452,1063.3 843.711,1063.15 843.97,1063.01 844.229,1062.88 844.488,1062.74 844.747,1062.61 845.006,1062.48 \n",
       "  845.265,1062.36 845.524,1062.24 845.783,1062.12 846.042,1062.01 846.301,1061.9 846.56,1061.79 846.819,1061.69 847.078,1061.59 847.337,1061.5 847.596,1061.4 \n",
       "  847.855,1061.31 848.114,1061.23 848.373,1061.15 848.632,1061.07 848.891,1060.99 849.15,1060.92 849.409,1060.85 849.668,1060.78 849.927,1060.72 850.186,1060.66 \n",
       "  850.445,1060.61 850.704,1060.56 850.963,1060.51 851.222,1060.47 851.481,1060.43 851.74,1060.39 851.999,1060.36 852.258,1060.33 852.517,1060.3 852.776,1060.28 \n",
       "  853.035,1060.26 853.294,1060.24 853.554,1060.23 853.813,1060.22 854.072,1060.21 854.331,1060.21 854.59,1060.21 854.849,1060.22 855.108,1060.23 855.367,1060.24 \n",
       "  855.626,1060.26 855.885,1060.28 856.144,1060.3 856.403,1060.33 856.662,1060.36 856.921,1060.39 857.18,1060.43 857.439,1060.47 857.698,1060.52 857.957,1060.57 \n",
       "  858.216,1060.62 858.475,1060.68 858.734,1060.74 858.993,1060.8 859.252,1060.87 859.511,1060.94 859.77,1061.01 860.029,1061.09 860.288,1061.17 860.547,1061.26 \n",
       "  860.806,1061.35 861.065,1061.44 861.324,1061.54 861.583,1061.64 861.842,1061.74 862.101,1061.85 862.36,1061.96 862.619,1062.07 862.878,1062.19 863.137,1062.31 \n",
       "  863.396,1062.44 863.655,1062.57 863.914,1062.7 864.173,1062.84 864.432,1062.98 864.691,1063.12 864.95,1063.27 865.209,1063.42 865.468,1063.58 865.727,1063.74 \n",
       "  865.986,1063.9 866.245,1064.07 866.504,1064.24 866.763,1064.41 867.022,1064.59 867.282,1064.77 867.541,1064.96 867.8,1065.15 868.059,1065.34 868.318,1065.54 \n",
       "  868.577,1065.74 868.836,1065.94 869.095,1066.15 869.354,1066.36 869.613,1066.57 869.872,1066.79 870.131,1067.01 870.39,1067.24 870.649,1067.47 870.908,1067.7 \n",
       "  871.167,1067.94 871.426,1068.18 871.685,1068.43 871.944,1068.67 872.203,1068.93 872.462,1069.18 872.721,1069.44 872.98,1069.7 873.239,1069.97 873.498,1070.24 \n",
       "  873.757,1070.52 874.016,1070.79 874.275,1071.07 874.534,1071.36 874.793,1071.65 875.052,1071.94 875.311,1072.24 875.57,1072.54 875.829,1072.84 876.088,1073.15 \n",
       "  876.347,1073.46 876.606,1073.77 876.865,1074.09 877.124,1074.42 877.383,1074.74 877.642,1075.07 877.901,1075.4 878.16,1075.74 878.419,1076.08 878.678,1076.42 \n",
       "  878.937,1076.77 879.196,1077.12 879.455,1077.48 879.714,1077.84 879.973,1078.2 880.232,1078.57 880.491,1078.94 880.751,1079.31 881.01,1079.69 881.269,1080.07 \n",
       "  881.528,1080.45 881.787,1080.84 882.046,1081.23 882.305,1081.62 882.564,1082.02 882.823,1082.42 883.082,1082.83 883.341,1083.24 883.6,1083.65 883.859,1084.07 \n",
       "  884.118,1084.49 884.377,1084.91 884.636,1085.34 884.895,1085.77 885.154,1086.2 885.413,1086.64 885.672,1087.08 885.931,1087.53 886.19,1087.98 886.449,1088.43 \n",
       "  886.708,1088.88 886.967,1089.34 887.226,1089.8 887.485,1090.27 887.744,1090.74 888.003,1091.21 888.262,1091.69 888.521,1092.17 888.78,1092.65 889.039,1093.14 \n",
       "  889.298,1093.63 889.557,1094.12 889.816,1094.62 890.075,1095.12 890.334,1095.62 890.593,1096.13 890.852,1096.64 891.111,1097.15 891.37,1097.67 891.629,1098.19 \n",
       "  891.888,1098.72 892.147,1099.24 892.406,1099.78 892.665,1100.31 892.924,1100.85 893.183,1101.39 893.442,1101.93 893.701,1102.48 893.96,1103.03 894.22,1103.59 \n",
       "  894.479,1104.14 894.738,1104.7 894.997,1105.27 895.256,1105.83 895.515,1106.41 895.774,1106.98 896.033,1107.56 896.292,1108.14 896.551,1108.72 896.81,1109.31 \n",
       "  897.069,1109.9 897.328,1110.49 897.587,1111.09 897.846,1111.69 898.105,1112.29 898.364,1112.89 898.623,1113.5 898.882,1114.12 899.141,1114.73 899.4,1115.35 \n",
       "  899.659,1115.97 899.918,1116.6 900.177,1117.22 900.436,1117.85 900.695,1118.49 900.954,1119.12 901.213,1119.76 901.472,1120.41 901.731,1121.05 901.99,1121.7 \n",
       "  902.249,1122.35 902.508,1123.01 902.767,1123.67 903.026,1124.33 903.285,1124.99 903.544,1125.66 903.803,1126.33 904.062,1127 904.321,1127.68 904.58,1128.36 \n",
       "  904.839,1129.04 905.098,1129.72 905.357,1130.41 905.616,1131.1 905.875,1131.79 906.134,1132.49 906.393,1133.18 906.652,1133.89 906.911,1134.59 907.17,1135.3 \n",
       "  907.429,1136.01 907.688,1136.72 907.948,1137.43 908.207,1138.15 908.466,1138.87 908.725,1139.59 908.984,1140.32 909.243,1141.05 909.502,1141.78 909.761,1142.51 \n",
       "  910.02,1143.25 910.279,1143.99 910.538,1144.73 910.797,1145.47 911.056,1146.22 911.315,1146.97 911.574,1147.72 911.833,1148.48 912.092,1149.23 912.351,1149.99 \n",
       "  912.61,1150.75 912.869,1151.52 913.128,1152.29 913.387,1153.05 913.646,1153.83 913.905,1154.6 914.164,1155.38 914.423,1156.16 914.682,1156.94 914.941,1157.72 \n",
       "  915.2,1158.51 915.459,1159.29 915.718,1160.08 915.977,1160.88 916.236,1161.67 916.495,1162.47 916.754,1163.27 917.013,1164.07 917.272,1164.88 917.531,1165.68 \n",
       "  917.79,1166.49 918.049,1167.3 918.308,1168.11 918.567,1168.93 918.826,1169.75 919.085,1170.56 919.344,1171.39 919.603,1172.21 919.862,1173.03 920.121,1173.86 \n",
       "  920.38,1174.69 920.639,1175.52 920.898,1176.36 921.157,1177.19 921.417,1178.03 921.676,1178.87 921.935,1179.71 922.194,1180.55 922.453,1181.4 922.712,1182.24 \n",
       "  922.971,1183.09 923.23,1183.94 923.489,1184.8 923.748,1185.65 924.007,1186.51 924.266,1187.36 924.525,1188.22 924.784,1189.08 925.043,1189.95 925.302,1190.81 \n",
       "  925.561,1191.68 925.82,1192.55 926.079,1193.42 926.338,1194.29 926.597,1195.16 926.856,1196.03 927.115,1196.91 927.374,1197.79 927.633,1198.67 927.892,1199.55 \n",
       "  928.151,1200.43 928.41,1201.31 928.669,1202.2 928.928,1203.08 929.187,1203.97 929.446,1204.86 929.705,1205.75 929.964,1206.64 930.223,1207.54 930.482,1208.43 \n",
       "  930.741,1209.33 931,1210.22 931.259,1211.12 931.518,1212.02 931.777,1212.92 932.036,1213.83 932.295,1214.73 932.554,1215.63 932.813,1216.54 933.072,1217.45 \n",
       "  933.331,1218.35 933.59,1219.26 933.849,1220.17 934.108,1221.08 934.367,1222 934.626,1222.91 934.885,1223.82 935.145,1224.74 935.404,1225.66 935.663,1226.57 \n",
       "  935.922,1227.49 936.181,1228.41 936.44,1229.33 936.699,1230.25 936.958,1231.17 937.217,1232.09 937.476,1233.02 937.735,1233.94 937.994,1234.86 938.253,1235.79 \n",
       "  938.512,1236.72 938.771,1237.64 939.03,1238.57 939.289,1239.5 939.548,1240.43 939.807,1241.36 940.066,1242.29 940.325,1243.22 940.584,1244.15 940.843,1245.08 \n",
       "  941.102,1246.01 941.361,1246.94 941.62,1247.87 941.879,1248.81 942.138,1249.74 942.397,1250.68 942.656,1251.61 942.915,1252.54 943.174,1253.48 943.433,1254.42 \n",
       "  943.692,1255.35 943.951,1256.29 944.21,1257.22 944.469,1258.16 944.728,1259.1 944.987,1260.03 945.246,1260.97 945.505,1261.91 945.764,1262.84 946.023,1263.78 \n",
       "  946.282,1264.72 946.541,1265.66 946.8,1266.59 947.059,1267.53 947.318,1268.47 947.577,1269.41 947.836,1270.34 948.095,1271.28 948.354,1272.22 948.614,1273.15 \n",
       "  948.873,1274.09 949.132,1275.03 949.391,1275.96 949.65,1276.9 949.909,1277.83 950.168,1278.77 950.427,1279.71 950.686,1280.64 950.945,1281.58 951.204,1282.51 \n",
       "  951.463,1283.44 951.722,1284.38 951.981,1285.31 952.24,1286.24 952.499,1287.17 952.758,1288.11 953.017,1289.04 953.276,1289.97 953.535,1290.9 953.794,1291.83 \n",
       "  954.053,1292.76 954.312,1293.68 954.571,1294.61 954.83,1295.54 955.089,1296.47 955.348,1297.39 955.607,1298.32 955.866,1299.24 956.125,1300.16 956.384,1301.08 \n",
       "  956.643,1302.01 956.902,1302.93 957.161,1303.85 957.42,1304.77 957.679,1305.68 957.938,1306.6 958.197,1307.52 958.456,1308.43 958.715,1309.35 958.974,1310.26 \n",
       "  959.233,1311.17 959.492,1312.08 959.751,1312.99 960.01,1313.9 960.269,1314.81 960.528,1315.71 960.787,1316.62 961.046,1317.52 961.305,1318.42 961.564,1319.32 \n",
       "  961.823,1320.22 962.082,1321.12 962.342,1322.02 962.601,1322.92 962.86,1323.81 963.119,1324.7 963.378,1325.59 963.637,1326.48 963.896,1327.37 964.155,1328.26 \n",
       "  964.414,1329.14 964.673,1330.03 964.932,1330.91 965.191,1331.79 965.45,1332.67 965.709,1333.55 965.968,1334.42 966.227,1335.3 966.486,1336.17 966.745,1337.04 \n",
       "  967.004,1337.91 967.263,1338.78 967.522,1339.64 967.781,1340.5 968.04,1341.37 968.299,1342.23 968.558,1343.08 968.817,1343.94 969.076,1344.79 969.335,1345.64 \n",
       "  969.594,1346.49 969.853,1347.34 970.112,1348.19 970.371,1349.03 970.63,1349.87 970.889,1350.71 971.148,1351.55 971.407,1352.38 971.666,1353.22 971.925,1354.05 \n",
       "  972.184,1354.88 972.443,1355.7 972.702,1356.53 972.961,1357.35 973.22,1358.17 973.479,1358.98 973.738,1359.8 973.997,1360.61 974.256,1361.42 974.515,1362.23 \n",
       "  974.774,1363.03 975.033,1363.83 975.292,1364.63 975.551,1365.43 975.811,1366.22 976.07,1367.01 976.329,1367.8 976.588,1368.59 976.847,1369.37 977.106,1370.16 \n",
       "  977.365,1370.93 977.624,1371.71 977.883,1372.48 978.142,1373.25 978.401,1374.02 978.66,1374.78 978.919,1375.55 979.178,1376.31 979.437,1377.06 979.696,1377.81 \n",
       "  979.955,1378.56 980.214,1379.31 980.473,1380.06 980.732,1380.8 980.991,1381.54 981.25,1382.27 981.509,1383 981.768,1383.73 982.027,1384.46 982.286,1385.18 \n",
       "  982.545,1385.9 982.804,1386.61 983.063,1387.33 983.322,1388.04 983.581,1388.74 983.84,1389.45 984.099,1390.15 984.358,1390.84 984.617,1391.54 984.876,1392.23 \n",
       "  985.135,1392.91 985.394,1393.6 985.653,1394.28 985.912,1394.95 986.171,1395.62 986.43,1396.29 986.689,1396.96 986.948,1397.62 987.207,1398.28 987.466,1398.93 \n",
       "  987.725,1399.59 987.984,1400.23 988.243,1400.88 988.502,1401.52 988.761,1402.15 989.02,1402.79 989.28,1403.42 989.539,1404.04 989.798,1404.66 990.057,1405.28 \n",
       "  990.316,1405.89 990.575,1406.5 990.834,1407.11 991.093,1407.71 991.352,1408.31 991.611,1408.9 991.87,1409.49 992.129,1410.08 992.388,1410.66 992.647,1411.24 \n",
       "  992.906,1411.82 993.165,1412.39 993.424,1412.95 993.683,1413.51 993.942,1414.07 994.201,1414.62 994.46,1415.17 994.719,1415.72 994.978,1416.26 995.237,1416.8 \n",
       "  995.496,1417.33 995.755,1417.86 996.014,1418.38 996.273,1418.9 996.532,1419.42 996.791,1419.93 997.05,1420.43 997.309,1420.94 997.568,1421.43 997.827,1421.93 \n",
       "  998.086,1422.42 998.345,1422.9 998.604,1423.38 998.863,1423.85 999.122,1424.32 999.381,1424.79 999.64,1425.25 999.899,1425.71 1000.16,1426.16 1000.42,1426.61 \n",
       "  1000.68,1427.05 1000.94,1427.49 1001.19,1427.92 1001.45,1428.35 1001.71,1428.78 1001.97,1429.19 1002.23,1429.61 1002.49,1430.02 1002.75,1430.42 1003.01,1430.82 \n",
       "  1003.27,1431.22 1003.53,1431.61 1003.78,1431.99 1004.04,1432.37 1004.3,1432.75 1004.56,1433.12 1004.82,1433.49 1005.08,1433.85 1005.34,1434.2 1005.6,1434.55 \n",
       "  1005.86,1434.9 1006.12,1435.24 1006.37,1435.57 1006.63,1435.9 1006.89,1436.23 1007.15,1436.55 1007.41,1436.86 1007.67,1437.17 1007.93,1437.48 1008.19,1437.77 \n",
       "  1008.45,1438.07 1008.71,1438.36 1008.96,1438.64 1009.22,1438.92 1009.48,1439.19 1009.74,1439.46 1010,1439.72 1010.26,1439.98 1010.52,1440.23 1010.78,1440.47 \n",
       "  1011.04,1440.71 1011.3,1440.95 1011.56,1441.18 1011.81,1441.4 1012.07,1441.62 1012.33,1441.83 1012.59,1442.04 1012.85,1442.24 1013.11,1442.44 1013.37,1442.63 \n",
       "  1013.63,1442.82 1013.89,1443 1014.15,1443.17 1014.4,1443.34 1014.66,1443.5 1014.92,1443.66 1015.18,1443.81 1015.44,1443.96 1015.7,1444.1 1015.96,1444.23 \n",
       "  1016.22,1444.36 1016.48,1444.49 1016.74,1444.6 1016.99,1444.71 1017.25,1444.82 1017.51,1444.92 1017.77,1445.01 1018.03,1445.1 1018.29,1445.18 1018.55,1445.26 \n",
       "  1018.81,1445.33 1019.07,1445.4 1019.33,1445.45 1019.58,1445.51 1019.84,1445.55 1020.1,1445.6 1020.36,1445.63 1020.62,1445.66 1020.88,1445.68 1021.14,1445.7 \n",
       "  1021.4,1445.71 1021.66,1445.72 1021.92,1445.71 1022.17,1445.71 1022.43,1445.69 1022.69,1445.67 1022.95,1445.65 1023.21,1445.62 1023.47,1445.58 1023.73,1445.54 \n",
       "  1023.99,1445.49 1024.25,1445.43 1024.51,1445.37 1024.77,1445.3 1025.02,1445.22 1025.28,1445.14 1025.54,1445.06 1025.8,1444.96 1026.06,1444.86 1026.32,1444.76 \n",
       "  1026.58,1444.64 1026.84,1444.53 1027.1,1444.4 1027.36,1444.27 1027.61,1444.13 1027.87,1443.99 1028.13,1443.84 1028.39,1443.68 1028.65,1443.52 1028.91,1443.35 \n",
       "  1029.17,1443.17 1029.43,1442.99 1029.69,1442.8 1029.95,1442.61 1030.2,1442.41 1030.46,1442.2 1030.72,1441.98 1030.98,1441.76 1031.24,1441.54 1031.5,1441.3 \n",
       "  1031.76,1441.06 1032.02,1440.82 1032.28,1440.56 1032.54,1440.3 1032.79,1440.04 1033.05,1439.76 1033.31,1439.48 1033.57,1439.2 1033.83,1438.91 1034.09,1438.61 \n",
       "  1034.35,1438.3 1034.61,1437.99 1034.87,1437.67 1035.13,1437.34 1035.38,1437.01 1035.64,1436.67 1035.9,1436.33 1036.16,1435.98 1036.42,1435.62 1036.68,1435.25 \n",
       "  1036.94,1434.88 1037.2,1434.5 1037.46,1434.11 1037.72,1433.72 1037.98,1433.32 1038.23,1432.92 1038.49,1432.51 1038.75,1432.09 1039.01,1431.66 1039.27,1431.23 \n",
       "  1039.53,1430.79 1039.79,1430.34 1040.05,1429.89 1040.31,1429.43 1040.57,1428.96 1040.82,1428.49 1041.08,1428.01 1041.34,1427.52 1041.6,1427.03 1041.86,1426.53 \n",
       "  1042.12,1426.02 1042.38,1425.51 1042.64,1424.99 1042.9,1424.46 1043.16,1423.93 1043.41,1423.39 1043.67,1422.84 1043.93,1422.28 1044.19,1421.72 1044.45,1421.15 \n",
       "  1044.71,1420.58 1044.97,1420 1045.23,1419.41 1045.49,1418.81 1045.75,1418.21 1046,1417.6 1046.26,1416.98 1046.52,1416.36 1046.78,1415.73 1047.04,1415.09 \n",
       "  1047.3,1414.45 1047.56,1413.8 1047.82,1413.14 1048.08,1412.47 1048.34,1411.8 1048.59,1411.12 1048.85,1410.44 1049.11,1409.74 1049.37,1409.05 1049.63,1408.34 \n",
       "  1049.89,1407.63 1050.15,1406.91 1050.41,1406.18 1050.67,1405.45 1050.93,1404.7 1051.19,1403.96 1051.44,1403.2 1051.7,1402.44 1051.96,1401.67 1052.22,1400.9 \n",
       "  1052.48,1400.11 1052.74,1399.32 1053,1398.53 1053.26,1397.72 1053.52,1396.91 1053.78,1396.1 1054.03,1395.27 1054.29,1394.44 1054.55,1393.6 1054.81,1392.76 \n",
       "  1055.07,1391.91 1055.33,1391.05 1055.59,1390.18 1055.85,1389.31 1056.11,1388.43 1056.37,1387.54 1056.62,1386.65 1056.88,1385.75 1057.14,1384.84 1057.4,1383.93 \n",
       "  1057.66,1383.01 1057.92,1382.08 1058.18,1381.15 1058.44,1380.2 1058.7,1379.25 1058.96,1378.3 1059.21,1377.34 1059.47,1376.37 1059.73,1375.39 1059.99,1374.41 \n",
       "  1060.25,1373.42 1060.51,1372.42 1060.77,1371.42 1061.03,1370.4 1061.29,1369.39 1061.55,1368.36 1061.8,1367.33 1062.06,1366.29 1062.32,1365.25 1062.58,1364.19 \n",
       "  1062.84,1363.14 1063.1,1362.07 1063.36,1361 1063.62,1359.92 1063.88,1358.83 1064.14,1357.74 1064.4,1356.64 1064.65,1355.53 1064.91,1354.42 1065.17,1353.29 \n",
       "  1065.43,1352.17 1065.69,1351.03 1065.95,1349.89 1066.21,1348.74 1066.47,1347.59 1066.73,1346.43 1066.99,1345.26 1067.24,1344.08 1067.5,1342.9 1067.76,1341.71 \n",
       "  1068.02,1340.52 1068.28,1339.32 1068.54,1338.11 1068.8,1336.89 1069.06,1335.67 1069.32,1334.44 1069.58,1333.2 1069.83,1331.96 1070.09,1330.71 1070.35,1329.46 \n",
       "  1070.61,1328.19 1070.87,1326.92 1071.13,1325.65 1071.39,1324.36 1071.65,1323.08 1071.91,1321.78 1072.17,1320.48 1072.42,1319.17 1072.68,1317.85 1072.94,1316.53 \n",
       "  1073.2,1315.2 1073.46,1313.86 1073.72,1312.52 1073.98,1311.17 1074.24,1309.82 1074.5,1308.45 1074.76,1307.09 1075.01,1305.71 1075.27,1304.33 1075.53,1302.94 \n",
       "  1075.79,1301.55 1076.05,1300.14 1076.31,1298.74 1076.57,1297.32 1076.83,1295.9 1077.09,1294.47 1077.35,1293.04 1077.61,1291.6 1077.86,1290.15 1078.12,1288.7 \n",
       "  1078.38,1287.24 1078.64,1285.78 1078.9,1284.3 1079.16,1282.82 1079.42,1281.34 1079.68,1279.85 1079.94,1278.35 1080.2,1276.85 1080.45,1275.34 1080.71,1273.82 \n",
       "  1080.97,1272.3 1081.23,1270.77 1081.49,1269.23 1081.75,1267.69 1082.01,1266.14 1082.27,1264.59 1082.53,1263.03 1082.79,1261.46 1083.04,1259.89 1083.3,1258.31 \n",
       "  1083.56,1256.73 1083.82,1255.13 1084.08,1253.54 1084.34,1251.93 1084.6,1250.32 1084.86,1248.71 1085.12,1247.09 1085.38,1245.46 1085.63,1243.83 1085.89,1242.19 \n",
       "  1086.15,1240.54 1086.41,1238.89 1086.67,1237.23 1086.93,1235.57 1087.19,1233.9 1087.45,1232.22 1087.71,1230.54 1087.97,1228.85 1088.22,1227.16 1088.48,1225.46 \n",
       "  1088.74,1223.75 1089,1222.04 1089.26,1220.33 1089.52,1218.6 1089.78,1216.87 1090.04,1215.14 1090.3,1213.4 1090.56,1211.65 1090.81,1209.9 1091.07,1208.15 \n",
       "  1091.33,1206.38 1091.59,1204.61 1091.85,1202.84 1092.11,1201.06 1092.37,1199.27 1092.63,1197.48 1092.89,1195.69 1093.15,1193.88 1093.41,1192.08 1093.66,1190.26 \n",
       "  1093.92,1188.44 1094.18,1186.62 1094.44,1184.79 1094.7,1182.95 1094.96,1181.11 1095.22,1179.27 1095.48,1177.42 1095.74,1175.56 1096,1173.7 1096.25,1171.83 \n",
       "  1096.51,1169.96 1096.77,1168.08 1097.03,1166.19 1097.29,1164.3 1097.55,1162.41 1097.81,1160.51 1098.07,1158.61 1098.33,1156.7 1098.59,1154.78 1098.84,1152.86 \n",
       "  1099.1,1150.94 1099.36,1149.01 1099.62,1147.07 1099.88,1145.13 1100.14,1143.18 1100.4,1141.23 1100.66,1139.28 1100.92,1137.32 1101.18,1135.35 1101.43,1133.38 \n",
       "  1101.69,1131.4 1101.95,1129.42 1102.21,1127.44 1102.47,1125.45 1102.73,1123.45 1102.99,1121.45 1103.25,1119.45 1103.51,1117.44 1103.77,1115.43 1104.02,1113.41 \n",
       "  1104.28,1111.38 1104.54,1109.35 1104.8,1107.32 1105.06,1105.28 1105.32,1103.24 1105.58,1101.2 1105.84,1099.14 1106.1,1097.09 1106.36,1095.03 1106.62,1092.96 \n",
       "  1106.87,1090.89 1107.13,1088.82 1107.39,1086.74 1107.65,1084.66 1107.91,1082.57 1108.17,1080.48 1108.43,1078.38 1108.69,1076.28 1108.95,1074.18 1109.21,1072.07 \n",
       "  1109.46,1069.96 1109.72,1067.84 1109.98,1065.72 1110.24,1063.59 1110.5,1061.46 1110.76,1059.33 1111.02,1057.19 1111.28,1055.05 1111.54,1052.9 1111.8,1050.75 \n",
       "  1112.05,1048.6 1112.31,1046.44 1112.57,1044.28 1112.83,1042.11 1113.09,1039.94 1113.35,1037.77 1113.61,1035.59 1113.87,1033.41 1114.13,1031.23 1114.39,1029.04 \n",
       "  1114.64,1026.85 1114.9,1024.65 1115.16,1022.45 1115.42,1020.25 1115.68,1018.04 1115.94,1015.83 1116.2,1013.61 1116.46,1011.39 1116.72,1009.17 1116.98,1006.95 \n",
       "  1117.23,1004.72 1117.49,1002.49 1117.75,1000.25 1118.01,998.013 1118.27,995.771 1118.53,993.526 1118.79,991.277 1119.05,989.025 1119.31,986.77 1119.57,984.511 \n",
       "  1119.83,982.249 1120.08,979.984 1120.34,977.716 1120.6,975.445 1120.86,973.171 1121.12,970.893 1121.38,968.613 1121.64,966.329 1121.9,964.043 1122.16,961.753 \n",
       "  1122.42,959.461 1122.67,957.166 1122.93,954.868 1123.19,952.567 1123.45,950.263 1123.71,947.957 1123.97,945.648 1124.23,943.336 1124.49,941.021 1124.75,938.704 \n",
       "  1125.01,936.384 1125.26,934.061 1125.52,931.736 1125.78,929.408 1126.04,927.078 1126.3,924.745 1126.56,922.41 1126.82,920.072 1127.08,917.732 1127.34,915.39 \n",
       "  1127.6,913.045 1127.85,910.698 1128.11,908.349 1128.37,905.997 1128.63,903.643 1128.89,901.287 1129.15,898.929 1129.41,896.568 1129.67,894.206 1129.93,891.841 \n",
       "  1130.19,889.475 1130.44,887.106 1130.7,884.736 1130.96,882.363 1131.22,879.989 1131.48,877.612 1131.74,875.234 1132,872.854 1132.26,870.472 1132.52,868.089 \n",
       "  1132.78,865.703 1133.04,863.316 1133.29,860.927 1133.55,858.537 1133.81,856.145 1134.07,853.751 1134.33,851.356 1134.59,848.959 1134.85,846.561 1135.11,844.161 \n",
       "  1135.37,841.76 1135.63,839.358 1135.88,836.954 1136.14,834.549 1136.4,832.142 1136.66,829.734 1136.92,827.325 1137.18,824.915 1137.44,822.504 1137.7,820.091 \n",
       "  1137.96,817.677 1138.22,815.263 1138.47,812.847 1138.73,810.43 1138.99,808.012 1139.25,805.593 1139.51,803.173 1139.77,800.753 1140.03,798.331 1140.29,795.909 \n",
       "  1140.55,793.486 1140.81,791.062 1141.06,788.637 1141.32,786.212 1141.58,783.786 1141.84,781.359 1142.1,778.932 1142.36,776.504 1142.62,774.076 1142.88,771.647 \n",
       "  1143.14,769.217 1143.4,766.788 1143.65,764.357 1143.91,761.927 1144.17,759.496 1144.43,757.064 1144.69,754.633 1144.95,752.201 1145.21,749.769 1145.47,747.337 \n",
       "  1145.73,744.904 1145.99,742.472 1146.25,740.039 1146.5,737.607 1146.76,735.174 1147.02,732.741 1147.28,730.309 1147.54,727.876 1147.8,725.444 1148.06,723.012 \n",
       "  1148.32,720.579 1148.58,718.148 1148.84,715.716 1149.09,713.285 1149.35,710.853 1149.61,708.423 1149.87,705.992 1150.13,703.562 1150.39,701.133 1150.65,698.704 \n",
       "  1150.91,696.275 1151.17,693.847 1151.43,691.42 1151.68,688.993 1151.94,686.567 1152.2,684.141 1152.46,681.716 1152.72,679.292 1152.98,676.869 1153.24,674.446 \n",
       "  1153.5,672.025 1153.76,669.604 1154.02,667.184 1154.27,664.765 1154.53,662.347 1154.79,659.93 1155.05,657.514 1155.31,655.099 1155.57,652.685 1155.83,650.273 \n",
       "  1156.09,647.861 1156.35,645.451 1156.61,643.042 1156.86,640.634 1157.12,638.227 1157.38,635.822 1157.64,633.418 1157.9,631.016 1158.16,628.615 1158.42,626.215 \n",
       "  1158.68,623.817 1158.94,621.421 1159.2,619.026 1159.46,616.632 1159.71,614.241 1159.97,611.851 1160.23,609.462 1160.49,607.076 1160.75,604.691 1161.01,602.308 \n",
       "  1161.27,599.927 1161.53,597.547 1161.79,595.17 1162.05,592.794 1162.3,590.421 1162.56,588.049 1162.82,585.679 1163.08,583.312 1163.34,580.947 1163.6,578.583 \n",
       "  1163.86,576.222 1164.12,573.863 1164.38,571.507 1164.64,569.152 1164.89,566.8 1165.15,564.45 1165.41,562.103 1165.67,559.758 1165.93,557.415 1166.19,555.075 \n",
       "  1166.45,552.737 1166.71,550.402 1166.97,548.069 1167.23,545.739 1167.48,543.412 1167.74,541.087 1168,538.765 1168.26,536.446 1168.52,534.129 1168.78,531.816 \n",
       "  1169.04,529.505 1169.3,527.196 1169.56,524.891 1169.82,522.589 1170.07,520.289 1170.33,517.993 1170.59,515.7 1170.85,513.409 1171.11,511.122 1171.37,508.838 \n",
       "  1171.63,506.557 1171.89,504.279 1172.15,502.004 1172.41,499.733 1172.67,497.465 1172.92,495.2 1173.18,492.939 1173.44,490.68 1173.7,488.426 1173.96,486.174 \n",
       "  1174.22,483.927 1174.48,481.682 1174.74,479.441 1175,477.204 1175.26,474.971 1175.51,472.741 1175.77,470.514 1176.03,468.292 1176.29,466.073 1176.55,463.857 \n",
       "  1176.81,461.646 1177.07,459.438 1177.33,457.235 1177.59,455.035 1177.85,452.839 1178.1,450.647 1178.36,448.459 1178.62,446.274 1178.88,444.094 1179.14,441.918 \n",
       "  1179.4,439.747 1179.66,437.579 1179.92,435.415 1180.18,433.256 1180.44,431.101 1180.69,428.95 1180.95,426.803 1181.21,424.661 1181.47,422.523 1181.73,420.389 \n",
       "  1181.99,418.26 1182.25,416.135 1182.51,414.015 1182.77,411.899 1183.03,409.788 1183.28,407.681 1183.54,405.579 1183.8,403.481 1184.06,401.389 1184.32,399.3 \n",
       "  1184.58,397.217 1184.84,395.138 1185.1,393.064 1185.36,390.995 1185.62,388.931 1185.87,386.871 1186.13,384.817 1186.39,382.767 1186.65,380.722 1186.91,378.682 \n",
       "  1187.17,376.648 1187.43,374.618 1187.69,372.593 1187.95,370.574 1188.21,368.559 1188.47,366.55 1188.72,364.546 1188.98,362.547 1189.24,360.553 1189.5,358.565 \n",
       "  1189.76,356.582 1190.02,354.604 1190.28,352.632 1190.54,350.665 1190.8,348.703 1191.06,346.747 1191.31,344.796 1191.57,342.851 1191.83,340.912 1192.09,338.978 \n",
       "  1192.35,337.049 1192.61,335.126 1192.87,333.209 1193.13,331.297 1193.39,329.391 1193.65,327.491 1193.9,325.597 1194.16,323.708 1194.42,321.825 1194.68,319.948 \n",
       "  1194.94,318.077 1195.2,316.212 1195.46,314.352 1195.72,312.499 1195.98,310.652 1196.24,308.81 1196.49,306.975 1196.75,305.145 1197.01,303.322 1197.27,301.505 \n",
       "  1197.53,299.694 1197.79,297.889 1198.05,296.09 1198.31,294.298 1198.57,292.512 1198.83,290.732 1199.08,288.958 1199.34,287.19 1199.6,285.429 1199.86,283.675 \n",
       "  1200.12,281.926 1200.38,280.184 1200.64,278.449 1200.9,276.72 1201.16,274.998 1201.42,273.282 1201.68,271.572 1201.93,269.869 1202.19,268.173 1202.45,266.483 \n",
       "  1202.71,264.8 1202.97,263.124 1203.23,261.454 1203.49,259.791 1203.75,258.135 1204.01,256.486 1204.27,254.843 1204.52,253.207 1204.78,251.578 1205.04,249.956 \n",
       "  1205.3,248.341 1205.56,246.733 1205.82,245.131 1206.08,243.537 1206.34,241.95 1206.6,240.369 1206.86,238.796 1207.11,237.229 1207.37,235.67 1207.63,234.118 \n",
       "  1207.89,232.573 1208.15,231.035 1208.41,229.504 1208.67,227.981 1208.93,226.464 1209.19,224.955 1209.45,223.453 1209.7,221.959 1209.96,220.472 1210.22,218.992 \n",
       "  1210.48,217.519 1210.74,216.054 1211,214.596 1211.26,213.145 1211.52,211.702 1211.78,210.267 1212.04,208.839 1212.29,207.418 1212.55,206.005 1212.81,204.599 \n",
       "  1213.07,203.201 1213.33,201.811 1213.59,200.428 1213.85,199.053 1214.11,197.685 1214.37,196.326 1214.63,194.973 1214.89,193.629 1215.14,192.292 1215.4,190.963 \n",
       "  1215.66,189.642 1215.92,188.328 1216.18,187.022 1216.44,185.724 1216.7,184.434 1216.96,183.152 1217.22,181.878 1217.48,180.611 1217.73,179.353 1217.99,178.102 \n",
       "  1218.25,176.86 1218.51,175.625 1218.77,174.398 1219.03,173.179 1219.29,171.969 1219.55,170.766 1219.81,169.572 1220.07,168.385 1220.32,167.207 1220.58,166.036 \n",
       "  1220.84,164.874 1221.1,163.72 1221.36,162.574 1221.62,161.437 1221.88,160.307 1222.14,159.186 1222.4,158.073 1222.66,156.968 1222.91,155.871 1223.17,154.783 \n",
       "  1223.43,153.703 1223.69,152.632 1223.95,151.568 1224.21,150.513 1224.47,149.467 1224.73,148.429 1224.99,147.399 1225.25,146.377 1225.5,145.364 1225.76,144.36 \n",
       "  1226.02,143.364 1226.28,142.376 1226.54,141.397 1226.8,140.426 1227.06,139.464 1227.32,138.51 1227.58,137.565 1227.84,136.629 1228.1,135.701 1228.35,134.781 \n",
       "  1228.61,133.871 1228.87,132.968 1229.13,132.075 1229.39,131.19 1229.65,130.314 1229.91,129.446 1230.17,128.587 1230.43,127.737 1230.69,126.895 1230.94,126.062 \n",
       "  1231.2,125.238 1231.46,124.423 1231.72,123.616 1231.98,122.818 1232.24,122.029 1232.5,121.249 1232.76,120.477 1233.02,119.715 1233.28,118.961 1233.53,118.216 \n",
       "  1233.79,117.479 1234.05,116.752 1234.31,116.034 1234.57,115.324 1234.83,114.623 1235.09,113.931 1235.35,113.248 1235.61,112.574 1235.87,111.909 1236.12,111.253 \n",
       "  1236.38,110.606 1236.64,109.968 1236.9,109.338 1237.16,108.718 1237.42,108.107 1237.68,107.504 1237.94,106.911 1238.2,106.327 1238.46,105.752 1238.71,105.185 \n",
       "  1238.97,104.628 1239.23,104.08 1239.49,103.541 1239.75,103.011 1240.01,102.49 1240.27,101.978 1240.53,101.475 1240.79,100.981 1241.05,100.496 1241.31,100.021 \n",
       "  1241.56,99.5545 1241.82,99.0972 1242.08,98.649 1242.34,98.21 1242.6,97.7801 1242.86,97.3593 1243.12,96.9477 1243.38,96.5453 1243.64,96.152 1243.9,95.7679 \n",
       "  1244.15,95.393 1244.41,95.0273 1244.67,94.6707 1244.93,94.3234 1245.19,93.9852 1245.45,93.6563 1245.71,93.3365 1245.97,93.026 1246.23,92.7247 1246.49,92.4327 \n",
       "  1246.74,92.1498 1247,91.8762 1247.26,91.6118 1247.52,91.3567 1247.78,91.1108 1248.04,90.8741 1248.3,90.6467 1248.56,90.4286 1248.82,90.2197 1249.08,90.0201 \n",
       "  1249.33,89.8298 1249.59,89.6487 1249.85,89.4769 1250.11,89.3143 1250.37,89.161 1250.63,89.0171 1250.89,88.8823 1251.15,88.7569 1251.41,88.6408 1251.67,88.5339 \n",
       "  1251.92,88.4363 1252.18,88.3481 1252.44,88.2691 1252.7,88.1993 1252.96,88.1389 1253.22,88.0878 1253.48,88.046 1253.74,88.0135 1254,87.9902 1254.26,87.9763 \n",
       "  \n",
       "  \"/>\n",
       "<polyline clip-path=\"url(#clip812)\" style=\"stroke:#009af9; stroke-linecap:butt; stroke-linejoin:round; stroke-width:4; stroke-opacity:1; fill:none\" points=\"\n",
       "  1254.77,87.9763 1255.03,87.9902 1255.29,88.0135 1255.55,88.046 1255.81,88.0878 1256.07,88.1389 1256.33,88.1993 1256.59,88.2691 1256.85,88.3481 1257.11,88.4363 \n",
       "  1257.36,88.5339 1257.62,88.6408 1257.88,88.7569 1258.14,88.8823 1258.4,89.0171 1258.66,89.161 1258.92,89.3143 1259.18,89.4769 1259.44,89.6487 1259.7,89.8298 \n",
       "  1259.95,90.0201 1260.21,90.2197 1260.47,90.4286 1260.73,90.6467 1260.99,90.8741 1261.25,91.1108 1261.51,91.3567 1261.77,91.6118 1262.03,91.8762 1262.29,92.1498 \n",
       "  1262.54,92.4327 1262.8,92.7247 1263.06,93.026 1263.32,93.3365 1263.58,93.6563 1263.84,93.9852 1264.1,94.3234 1264.36,94.6707 1264.62,95.0273 1264.88,95.393 \n",
       "  1265.13,95.7679 1265.39,96.152 1265.65,96.5453 1265.91,96.9477 1266.17,97.3593 1266.43,97.7801 1266.69,98.21 1266.95,98.649 1267.21,99.0972 1267.47,99.5545 \n",
       "  1267.73,100.021 1267.98,100.496 1268.24,100.981 1268.5,101.475 1268.76,101.978 1269.02,102.49 1269.28,103.011 1269.54,103.541 1269.8,104.08 1270.06,104.628 \n",
       "  1270.32,105.185 1270.57,105.752 1270.83,106.327 1271.09,106.911 1271.35,107.504 1271.61,108.107 1271.87,108.718 1272.13,109.338 1272.39,109.968 1272.65,110.606 \n",
       "  1272.91,111.253 1273.16,111.909 1273.42,112.574 1273.68,113.248 1273.94,113.931 1274.2,114.623 1274.46,115.324 1274.72,116.034 1274.98,116.752 1275.24,117.479 \n",
       "  1275.5,118.216 1275.75,118.961 1276.01,119.715 1276.27,120.477 1276.53,121.249 1276.79,122.029 1277.05,122.818 1277.31,123.616 1277.57,124.423 1277.83,125.238 \n",
       "  1278.09,126.062 1278.34,126.895 1278.6,127.737 1278.86,128.587 1279.12,129.446 1279.38,130.314 1279.64,131.19 1279.9,132.075 1280.16,132.968 1280.42,133.871 \n",
       "  1280.68,134.781 1280.93,135.701 1281.19,136.629 1281.45,137.565 1281.71,138.51 1281.97,139.464 1282.23,140.426 1282.49,141.397 1282.75,142.376 1283.01,143.364 \n",
       "  1283.27,144.36 1283.53,145.364 1283.78,146.377 1284.04,147.399 1284.3,148.429 1284.56,149.467 1284.82,150.513 1285.08,151.568 1285.34,152.632 1285.6,153.703 \n",
       "  1285.86,154.783 1286.12,155.871 1286.37,156.968 1286.63,158.073 1286.89,159.186 1287.15,160.307 1287.41,161.437 1287.67,162.574 1287.93,163.72 1288.19,164.874 \n",
       "  1288.45,166.036 1288.71,167.207 1288.96,168.385 1289.22,169.572 1289.48,170.766 1289.74,171.969 1290,173.179 1290.26,174.398 1290.52,175.625 1290.78,176.86 \n",
       "  1291.04,178.102 1291.3,179.353 1291.55,180.611 1291.81,181.878 1292.07,183.152 1292.33,184.434 1292.59,185.724 1292.85,187.022 1293.11,188.328 1293.37,189.642 \n",
       "  1293.63,190.963 1293.89,192.292 1294.14,193.629 1294.4,194.973 1294.66,196.326 1294.92,197.685 1295.18,199.053 1295.44,200.428 1295.7,201.811 1295.96,203.201 \n",
       "  1296.22,204.599 1296.48,206.005 1296.74,207.418 1296.99,208.839 1297.25,210.267 1297.51,211.702 1297.77,213.145 1298.03,214.596 1298.29,216.054 1298.55,217.519 \n",
       "  1298.81,218.992 1299.07,220.472 1299.33,221.959 1299.58,223.453 1299.84,224.955 1300.1,226.464 1300.36,227.981 1300.62,229.504 1300.88,231.035 1301.14,232.573 \n",
       "  1301.4,234.118 1301.66,235.67 1301.92,237.229 1302.17,238.796 1302.43,240.369 1302.69,241.95 1302.95,243.537 1303.21,245.131 1303.47,246.733 1303.73,248.341 \n",
       "  1303.99,249.956 1304.25,251.578 1304.51,253.207 1304.76,254.843 1305.02,256.486 1305.28,258.135 1305.54,259.791 1305.8,261.454 1306.06,263.124 1306.32,264.8 \n",
       "  1306.58,266.483 1306.84,268.173 1307.1,269.869 1307.35,271.572 1307.61,273.282 1307.87,274.998 1308.13,276.72 1308.39,278.449 1308.65,280.184 1308.91,281.926 \n",
       "  1309.17,283.675 1309.43,285.429 1309.69,287.19 1309.95,288.958 1310.2,290.732 1310.46,292.512 1310.72,294.298 1310.98,296.09 1311.24,297.889 1311.5,299.694 \n",
       "  1311.76,301.505 1312.02,303.322 1312.28,305.145 1312.54,306.975 1312.79,308.81 1313.05,310.652 1313.31,312.499 1313.57,314.352 1313.83,316.212 1314.09,318.077 \n",
       "  1314.35,319.948 1314.61,321.825 1314.87,323.708 1315.13,325.597 1315.38,327.491 1315.64,329.391 1315.9,331.297 1316.16,333.209 1316.42,335.126 1316.68,337.049 \n",
       "  1316.94,338.978 1317.2,340.912 1317.46,342.851 1317.72,344.796 1317.97,346.747 1318.23,348.703 1318.49,350.665 1318.75,352.632 1319.01,354.604 1319.27,356.582 \n",
       "  1319.53,358.565 1319.79,360.553 1320.05,362.547 1320.31,364.546 1320.56,366.55 1320.82,368.559 1321.08,370.574 1321.34,372.593 1321.6,374.618 1321.86,376.648 \n",
       "  1322.12,378.682 1322.38,380.722 1322.64,382.767 1322.9,384.817 1323.16,386.871 1323.41,388.931 1323.67,390.995 1323.93,393.064 1324.19,395.138 1324.45,397.217 \n",
       "  1324.71,399.3 1324.97,401.389 1325.23,403.481 1325.49,405.579 1325.75,407.681 1326,409.788 1326.26,411.899 1326.52,414.015 1326.78,416.135 1327.04,418.26 \n",
       "  1327.3,420.389 1327.56,422.523 1327.82,424.661 1328.08,426.803 1328.34,428.95 1328.59,431.101 1328.85,433.256 1329.11,435.415 1329.37,437.579 1329.63,439.747 \n",
       "  1329.89,441.918 1330.15,444.094 1330.41,446.274 1330.67,448.459 1330.93,450.647 1331.18,452.839 1331.44,455.035 1331.7,457.235 1331.96,459.438 1332.22,461.646 \n",
       "  1332.48,463.857 1332.74,466.073 1333,468.292 1333.26,470.514 1333.52,472.741 1333.77,474.971 1334.03,477.204 1334.29,479.441 1334.55,481.682 1334.81,483.927 \n",
       "  1335.07,486.174 1335.33,488.426 1335.59,490.68 1335.85,492.939 1336.11,495.2 1336.37,497.465 1336.62,499.733 1336.88,502.004 1337.14,504.279 1337.4,506.557 \n",
       "  1337.66,508.838 1337.92,511.122 1338.18,513.409 1338.44,515.7 1338.7,517.993 1338.96,520.289 1339.21,522.589 1339.47,524.891 1339.73,527.196 1339.99,529.505 \n",
       "  1340.25,531.816 1340.51,534.129 1340.77,536.446 1341.03,538.765 1341.29,541.087 1341.55,543.412 1341.8,545.739 1342.06,548.069 1342.32,550.402 1342.58,552.737 \n",
       "  1342.84,555.075 1343.1,557.415 1343.36,559.758 1343.62,562.103 1343.88,564.45 1344.14,566.8 1344.39,569.152 1344.65,571.507 1344.91,573.863 1345.17,576.222 \n",
       "  1345.43,578.583 1345.69,580.947 1345.95,583.312 1346.21,585.679 1346.47,588.049 1346.73,590.421 1346.98,592.794 1347.24,595.17 1347.5,597.547 1347.76,599.927 \n",
       "  1348.02,602.308 1348.28,604.691 1348.54,607.076 1348.8,609.462 1349.06,611.851 1349.32,614.241 1349.58,616.632 1349.83,619.026 1350.09,621.421 1350.35,623.817 \n",
       "  1350.61,626.215 1350.87,628.615 1351.13,631.016 1351.39,633.418 1351.65,635.822 1351.91,638.227 1352.17,640.634 1352.42,643.042 1352.68,645.451 1352.94,647.861 \n",
       "  1353.2,650.273 1353.46,652.685 1353.72,655.099 1353.98,657.514 1354.24,659.93 1354.5,662.347 1354.76,664.765 1355.01,667.184 1355.27,669.604 1355.53,672.025 \n",
       "  1355.79,674.446 1356.05,676.869 1356.31,679.292 1356.57,681.716 1356.83,684.141 1357.09,686.567 1357.35,688.993 1357.6,691.42 1357.86,693.847 1358.12,696.275 \n",
       "  1358.38,698.704 1358.64,701.133 1358.9,703.562 1359.16,705.992 1359.42,708.423 1359.68,710.853 1359.94,713.285 1360.19,715.716 1360.45,718.148 1360.71,720.579 \n",
       "  1360.97,723.012 1361.23,725.444 1361.49,727.876 1361.75,730.309 1362.01,732.741 1362.27,735.174 1362.53,737.607 1362.79,740.039 1363.04,742.472 1363.3,744.904 \n",
       "  1363.56,747.337 1363.82,749.769 1364.08,752.201 1364.34,754.633 1364.6,757.064 1364.86,759.496 1365.12,761.927 1365.38,764.357 1365.63,766.788 1365.89,769.217 \n",
       "  1366.15,771.647 1366.41,774.076 1366.67,776.504 1366.93,778.932 1367.19,781.359 1367.45,783.786 1367.71,786.212 1367.97,788.637 1368.22,791.062 1368.48,793.486 \n",
       "  1368.74,795.909 1369,798.331 1369.26,800.753 1369.52,803.173 1369.78,805.593 1370.04,808.012 1370.3,810.43 1370.56,812.847 1370.81,815.263 1371.07,817.677 \n",
       "  1371.33,820.091 1371.59,822.504 1371.85,824.915 1372.11,827.325 1372.37,829.734 1372.63,832.142 1372.89,834.549 1373.15,836.954 1373.4,839.358 1373.66,841.76 \n",
       "  1373.92,844.161 1374.18,846.561 1374.44,848.959 1374.7,851.356 1374.96,853.751 1375.22,856.145 1375.48,858.537 1375.74,860.927 1375.99,863.316 1376.25,865.703 \n",
       "  1376.51,868.089 1376.77,870.472 1377.03,872.854 1377.29,875.234 1377.55,877.612 1377.81,879.989 1378.07,882.363 1378.33,884.736 1378.59,887.106 1378.84,889.475 \n",
       "  1379.1,891.841 1379.36,894.206 1379.62,896.568 1379.88,898.929 1380.14,901.287 1380.4,903.643 1380.66,905.997 1380.92,908.349 1381.18,910.698 1381.43,913.045 \n",
       "  1381.69,915.39 1381.95,917.732 1382.21,920.072 1382.47,922.41 1382.73,924.745 1382.99,927.078 1383.25,929.408 1383.51,931.736 1383.77,934.061 1384.02,936.384 \n",
       "  1384.28,938.704 1384.54,941.021 1384.8,943.336 1385.06,945.648 1385.32,947.957 1385.58,950.263 1385.84,952.567 1386.1,954.868 1386.36,957.166 1386.61,959.461 \n",
       "  1386.87,961.753 1387.13,964.043 1387.39,966.329 1387.65,968.613 1387.91,970.893 1388.17,973.171 1388.43,975.445 1388.69,977.716 1388.95,979.984 1389.2,982.249 \n",
       "  1389.46,984.511 1389.72,986.77 1389.98,989.025 1390.24,991.277 1390.5,993.526 1390.76,995.771 1391.02,998.013 1391.28,1000.25 1391.54,1002.49 1391.8,1004.72 \n",
       "  1392.05,1006.95 1392.31,1009.17 1392.57,1011.39 1392.83,1013.61 1393.09,1015.83 1393.35,1018.04 1393.61,1020.25 1393.87,1022.45 1394.13,1024.65 1394.39,1026.85 \n",
       "  1394.64,1029.04 1394.9,1031.23 1395.16,1033.41 1395.42,1035.59 1395.68,1037.77 1395.94,1039.94 1396.2,1042.11 1396.46,1044.28 1396.72,1046.44 1396.98,1048.6 \n",
       "  1397.23,1050.75 1397.49,1052.9 1397.75,1055.05 1398.01,1057.19 1398.27,1059.33 1398.53,1061.46 1398.79,1063.59 1399.05,1065.72 1399.31,1067.84 1399.57,1069.96 \n",
       "  1399.82,1072.07 1400.08,1074.18 1400.34,1076.28 1400.6,1078.38 1400.86,1080.48 1401.12,1082.57 1401.38,1084.66 1401.64,1086.74 1401.9,1088.82 1402.16,1090.89 \n",
       "  1402.41,1092.96 1402.67,1095.03 1402.93,1097.09 1403.19,1099.14 1403.45,1101.2 1403.71,1103.24 1403.97,1105.28 1404.23,1107.32 1404.49,1109.35 1404.75,1111.38 \n",
       "  1405.01,1113.41 1405.26,1115.43 1405.52,1117.44 1405.78,1119.45 1406.04,1121.45 1406.3,1123.45 1406.56,1125.45 1406.82,1127.44 1407.08,1129.42 1407.34,1131.4 \n",
       "  1407.6,1133.38 1407.85,1135.35 1408.11,1137.32 1408.37,1139.28 1408.63,1141.23 1408.89,1143.18 1409.15,1145.13 1409.41,1147.07 1409.67,1149.01 1409.93,1150.94 \n",
       "  1410.19,1152.86 1410.44,1154.78 1410.7,1156.7 1410.96,1158.61 1411.22,1160.51 1411.48,1162.41 1411.74,1164.3 1412,1166.19 1412.26,1168.08 1412.52,1169.96 \n",
       "  1412.78,1171.83 1413.03,1173.7 1413.29,1175.56 1413.55,1177.42 1413.81,1179.27 1414.07,1181.11 1414.33,1182.95 1414.59,1184.79 1414.85,1186.62 1415.11,1188.44 \n",
       "  1415.37,1190.26 1415.62,1192.08 1415.88,1193.88 1416.14,1195.69 1416.4,1197.48 1416.66,1199.27 1416.92,1201.06 1417.18,1202.84 1417.44,1204.61 1417.7,1206.38 \n",
       "  1417.96,1208.15 1418.22,1209.9 1418.47,1211.65 1418.73,1213.4 1418.99,1215.14 1419.25,1216.87 1419.51,1218.6 1419.77,1220.33 1420.03,1222.04 1420.29,1223.75 \n",
       "  1420.55,1225.46 1420.81,1227.16 1421.06,1228.85 1421.32,1230.54 1421.58,1232.22 1421.84,1233.9 1422.1,1235.57 1422.36,1237.23 1422.62,1238.89 1422.88,1240.54 \n",
       "  1423.14,1242.19 1423.4,1243.83 1423.65,1245.46 1423.91,1247.09 1424.17,1248.71 1424.43,1250.32 1424.69,1251.93 1424.95,1253.54 1425.21,1255.13 1425.47,1256.73 \n",
       "  1425.73,1258.31 1425.99,1259.89 1426.24,1261.46 1426.5,1263.03 1426.76,1264.59 1427.02,1266.14 1427.28,1267.69 1427.54,1269.23 1427.8,1270.77 1428.06,1272.3 \n",
       "  1428.32,1273.82 1428.58,1275.34 1428.83,1276.85 1429.09,1278.35 1429.35,1279.85 1429.61,1281.34 1429.87,1282.82 1430.13,1284.3 1430.39,1285.78 1430.65,1287.24 \n",
       "  1430.91,1288.7 1431.17,1290.15 1431.43,1291.6 1431.68,1293.04 1431.94,1294.47 1432.2,1295.9 1432.46,1297.32 1432.72,1298.74 1432.98,1300.14 1433.24,1301.55 \n",
       "  1433.5,1302.94 1433.76,1304.33 1434.02,1305.71 1434.27,1307.09 1434.53,1308.45 1434.79,1309.82 1435.05,1311.17 1435.31,1312.52 1435.57,1313.86 1435.83,1315.2 \n",
       "  1436.09,1316.53 1436.35,1317.85 1436.61,1319.17 1436.86,1320.48 1437.12,1321.78 1437.38,1323.08 1437.64,1324.36 1437.9,1325.65 1438.16,1326.92 1438.42,1328.19 \n",
       "  1438.68,1329.46 1438.94,1330.71 1439.2,1331.96 1439.45,1333.2 1439.71,1334.44 1439.97,1335.67 1440.23,1336.89 1440.49,1338.11 1440.75,1339.32 1441.01,1340.52 \n",
       "  1441.27,1341.71 1441.53,1342.9 1441.79,1344.08 1442.04,1345.26 1442.3,1346.43 1442.56,1347.59 1442.82,1348.74 1443.08,1349.89 1443.34,1351.03 1443.6,1352.17 \n",
       "  1443.86,1353.29 1444.12,1354.42 1444.38,1355.53 1444.64,1356.64 1444.89,1357.74 1445.15,1358.83 1445.41,1359.92 1445.67,1361 1445.93,1362.07 1446.19,1363.14 \n",
       "  1446.45,1364.19 1446.71,1365.25 1446.97,1366.29 1447.23,1367.33 1447.48,1368.36 1447.74,1369.39 1448,1370.4 1448.26,1371.42 1448.52,1372.42 1448.78,1373.42 \n",
       "  1449.04,1374.41 1449.3,1375.39 1449.56,1376.37 1449.82,1377.34 1450.07,1378.3 1450.33,1379.25 1450.59,1380.2 1450.85,1381.15 1451.11,1382.08 1451.37,1383.01 \n",
       "  1451.63,1383.93 1451.89,1384.84 1452.15,1385.75 1452.41,1386.65 1452.66,1387.54 1452.92,1388.43 1453.18,1389.31 1453.44,1390.18 1453.7,1391.05 1453.96,1391.91 \n",
       "  1454.22,1392.76 1454.48,1393.6 1454.74,1394.44 1455,1395.27 1455.25,1396.1 1455.51,1396.91 1455.77,1397.72 1456.03,1398.53 1456.29,1399.32 1456.55,1400.11 \n",
       "  1456.81,1400.9 1457.07,1401.67 1457.33,1402.44 1457.59,1403.2 1457.85,1403.96 1458.1,1404.7 1458.36,1405.45 1458.62,1406.18 1458.88,1406.91 1459.14,1407.63 \n",
       "  1459.4,1408.34 1459.66,1409.05 1459.92,1409.74 1460.18,1410.44 1460.44,1411.12 1460.69,1411.8 1460.95,1412.47 1461.21,1413.14 1461.47,1413.8 1461.73,1414.45 \n",
       "  1461.99,1415.09 1462.25,1415.73 1462.51,1416.36 1462.77,1416.98 1463.03,1417.6 1463.28,1418.21 1463.54,1418.81 1463.8,1419.41 1464.06,1420 1464.32,1420.58 \n",
       "  1464.58,1421.15 1464.84,1421.72 1465.1,1422.28 1465.36,1422.84 1465.62,1423.39 1465.87,1423.93 1466.13,1424.46 1466.39,1424.99 1466.65,1425.51 1466.91,1426.02 \n",
       "  1467.17,1426.53 1467.43,1427.03 1467.69,1427.52 1467.95,1428.01 1468.21,1428.49 1468.46,1428.96 1468.72,1429.43 1468.98,1429.89 1469.24,1430.34 1469.5,1430.79 \n",
       "  1469.76,1431.23 1470.02,1431.66 1470.28,1432.09 1470.54,1432.51 1470.8,1432.92 1471.05,1433.32 1471.31,1433.72 1471.57,1434.11 1471.83,1434.5 1472.09,1434.88 \n",
       "  1472.35,1435.25 1472.61,1435.62 1472.87,1435.98 1473.13,1436.33 1473.39,1436.67 1473.65,1437.01 1473.9,1437.34 1474.16,1437.67 1474.42,1437.99 1474.68,1438.3 \n",
       "  1474.94,1438.61 1475.2,1438.91 1475.46,1439.2 1475.72,1439.48 1475.98,1439.76 1476.24,1440.04 1476.49,1440.3 1476.75,1440.56 1477.01,1440.82 1477.27,1441.06 \n",
       "  1477.53,1441.3 1477.79,1441.54 1478.05,1441.76 1478.31,1441.98 1478.57,1442.2 1478.83,1442.41 1479.08,1442.61 1479.34,1442.8 1479.6,1442.99 1479.86,1443.17 \n",
       "  1480.12,1443.35 1480.38,1443.52 1480.64,1443.68 1480.9,1443.84 1481.16,1443.99 1481.42,1444.13 1481.67,1444.27 1481.93,1444.4 1482.19,1444.53 1482.45,1444.64 \n",
       "  1482.71,1444.76 1482.97,1444.86 1483.23,1444.96 1483.49,1445.06 1483.75,1445.14 1484.01,1445.22 1484.26,1445.3 1484.52,1445.37 1484.78,1445.43 1485.04,1445.49 \n",
       "  1485.3,1445.54 1485.56,1445.58 1485.82,1445.62 1486.08,1445.65 1486.34,1445.67 1486.6,1445.69 1486.86,1445.71 1487.11,1445.71 1487.37,1445.72 1487.63,1445.71 \n",
       "  1487.89,1445.7 1488.15,1445.68 1488.41,1445.66 1488.67,1445.63 1488.93,1445.6 1489.19,1445.55 1489.45,1445.51 1489.7,1445.45 1489.96,1445.4 1490.22,1445.33 \n",
       "  1490.48,1445.26 1490.74,1445.18 1491,1445.1 1491.26,1445.01 1491.52,1444.92 1491.78,1444.82 1492.04,1444.71 1492.29,1444.6 1492.55,1444.49 1492.81,1444.36 \n",
       "  1493.07,1444.23 1493.33,1444.1 1493.59,1443.96 1493.85,1443.81 1494.11,1443.66 1494.37,1443.5 1494.63,1443.34 1494.88,1443.17 1495.14,1443 1495.4,1442.82 \n",
       "  1495.66,1442.63 1495.92,1442.44 1496.18,1442.24 1496.44,1442.04 1496.7,1441.83 1496.96,1441.62 1497.22,1441.4 1497.47,1441.18 1497.73,1440.95 1497.99,1440.71 \n",
       "  1498.25,1440.47 1498.51,1440.23 1498.77,1439.98 1499.03,1439.72 1499.29,1439.46 1499.55,1439.19 1499.81,1438.92 1500.07,1438.64 1500.32,1438.36 1500.58,1438.07 \n",
       "  1500.84,1437.77 1501.1,1437.48 1501.36,1437.17 1501.62,1436.86 1501.88,1436.55 1502.14,1436.23 1502.4,1435.9 1502.66,1435.57 1502.91,1435.24 1503.17,1434.9 \n",
       "  1503.43,1434.55 1503.69,1434.2 1503.95,1433.85 1504.21,1433.49 1504.47,1433.12 1504.73,1432.75 1504.99,1432.37 1505.25,1431.99 1505.5,1431.61 1505.76,1431.22 \n",
       "  1506.02,1430.82 1506.28,1430.42 1506.54,1430.02 1506.8,1429.61 1507.06,1429.19 1507.32,1428.78 1507.58,1428.35 1507.84,1427.92 1508.09,1427.49 1508.35,1427.05 \n",
       "  1508.61,1426.61 1508.87,1426.16 1509.13,1425.71 1509.39,1425.25 1509.65,1424.79 1509.91,1424.32 1510.17,1423.85 1510.43,1423.38 1510.68,1422.9 1510.94,1422.42 \n",
       "  1511.2,1421.93 1511.46,1421.43 1511.72,1420.94 1511.98,1420.43 1512.24,1419.93 1512.5,1419.42 1512.76,1418.9 1513.02,1418.38 1513.28,1417.86 1513.53,1417.33 \n",
       "  1513.79,1416.8 1514.05,1416.26 1514.31,1415.72 1514.57,1415.17 1514.83,1414.62 1515.09,1414.07 1515.35,1413.51 1515.61,1412.95 1515.87,1412.39 1516.12,1411.82 \n",
       "  1516.38,1411.24 1516.64,1410.66 1516.9,1410.08 1517.16,1409.49 1517.42,1408.9 1517.68,1408.31 1517.94,1407.71 1518.2,1407.11 1518.46,1406.5 1518.71,1405.89 \n",
       "  1518.97,1405.28 1519.23,1404.66 1519.49,1404.04 1519.75,1403.42 1520.01,1402.79 1520.27,1402.15 1520.53,1401.52 1520.79,1400.88 1521.05,1400.23 1521.3,1399.59 \n",
       "  1521.56,1398.93 1521.82,1398.28 1522.08,1397.62 1522.34,1396.96 1522.6,1396.29 1522.86,1395.62 1523.12,1394.95 1523.38,1394.28 1523.64,1393.6 1523.89,1392.91 \n",
       "  1524.15,1392.23 1524.41,1391.54 1524.67,1390.84 1524.93,1390.15 1525.19,1389.45 1525.45,1388.74 1525.71,1388.04 1525.97,1387.33 1526.23,1386.61 1526.49,1385.9 \n",
       "  1526.74,1385.18 1527,1384.46 1527.26,1383.73 1527.52,1383 1527.78,1382.27 1528.04,1381.54 1528.3,1380.8 1528.56,1380.06 1528.82,1379.31 1529.08,1378.56 \n",
       "  1529.33,1377.81 1529.59,1377.06 1529.85,1376.31 1530.11,1375.55 1530.37,1374.78 1530.63,1374.02 1530.89,1373.25 1531.15,1372.48 1531.41,1371.71 1531.67,1370.93 \n",
       "  1531.92,1370.16 1532.18,1369.37 1532.44,1368.59 1532.7,1367.8 1532.96,1367.01 1533.22,1366.22 1533.48,1365.43 1533.74,1364.63 1534,1363.83 1534.26,1363.03 \n",
       "  1534.51,1362.23 1534.77,1361.42 1535.03,1360.61 1535.29,1359.8 1535.55,1358.98 1535.81,1358.17 1536.07,1357.35 1536.33,1356.53 1536.59,1355.7 1536.85,1354.88 \n",
       "  1537.1,1354.05 1537.36,1353.22 1537.62,1352.38 1537.88,1351.55 1538.14,1350.71 1538.4,1349.87 1538.66,1349.03 1538.92,1348.19 1539.18,1347.34 1539.44,1346.49 \n",
       "  1539.7,1345.64 1539.95,1344.79 1540.21,1343.94 1540.47,1343.08 1540.73,1342.23 1540.99,1341.37 1541.25,1340.5 1541.51,1339.64 1541.77,1338.78 1542.03,1337.91 \n",
       "  1542.29,1337.04 1542.54,1336.17 1542.8,1335.3 1543.06,1334.42 1543.32,1333.55 1543.58,1332.67 1543.84,1331.79 1544.1,1330.91 1544.36,1330.03 1544.62,1329.14 \n",
       "  1544.88,1328.26 1545.13,1327.37 1545.39,1326.48 1545.65,1325.59 1545.91,1324.7 1546.17,1323.81 1546.43,1322.92 1546.69,1322.02 1546.95,1321.12 1547.21,1320.22 \n",
       "  1547.47,1319.32 1547.72,1318.42 1547.98,1317.52 1548.24,1316.62 1548.5,1315.71 1548.76,1314.81 1549.02,1313.9 1549.28,1312.99 1549.54,1312.08 1549.8,1311.17 \n",
       "  1550.06,1310.26 1550.31,1309.35 1550.57,1308.43 1550.83,1307.52 1551.09,1306.6 1551.35,1305.68 1551.61,1304.77 1551.87,1303.85 1552.13,1302.93 1552.39,1302.01 \n",
       "  1552.65,1301.08 1552.91,1300.16 1553.16,1299.24 1553.42,1298.32 1553.68,1297.39 1553.94,1296.47 1554.2,1295.54 1554.46,1294.61 1554.72,1293.68 1554.98,1292.76 \n",
       "  1555.24,1291.83 1555.5,1290.9 1555.75,1289.97 1556.01,1289.04 1556.27,1288.11 1556.53,1287.17 1556.79,1286.24 1557.05,1285.31 1557.31,1284.38 1557.57,1283.44 \n",
       "  1557.83,1282.51 1558.09,1281.58 1558.34,1280.64 1558.6,1279.71 1558.86,1278.77 1559.12,1277.83 1559.38,1276.9 1559.64,1275.96 1559.9,1275.03 1560.16,1274.09 \n",
       "  1560.42,1273.15 1560.68,1272.22 1560.93,1271.28 1561.19,1270.34 1561.45,1269.41 1561.71,1268.47 1561.97,1267.53 1562.23,1266.59 1562.49,1265.66 1562.75,1264.72 \n",
       "  1563.01,1263.78 1563.27,1262.84 1563.52,1261.91 1563.78,1260.97 1564.04,1260.03 1564.3,1259.1 1564.56,1258.16 1564.82,1257.22 1565.08,1256.29 1565.34,1255.35 \n",
       "  1565.6,1254.42 1565.86,1253.48 1566.11,1252.54 1566.37,1251.61 1566.63,1250.68 1566.89,1249.74 1567.15,1248.81 1567.41,1247.87 1567.67,1246.94 1567.93,1246.01 \n",
       "  1568.19,1245.08 1568.45,1244.15 1568.71,1243.22 1568.96,1242.29 1569.22,1241.36 1569.48,1240.43 1569.74,1239.5 1570,1238.57 1570.26,1237.64 1570.52,1236.72 \n",
       "  1570.78,1235.79 1571.04,1234.86 1571.3,1233.94 1571.55,1233.02 1571.81,1232.09 1572.07,1231.17 1572.33,1230.25 1572.59,1229.33 1572.85,1228.41 1573.11,1227.49 \n",
       "  1573.37,1226.57 1573.63,1225.66 1573.89,1224.74 1574.14,1223.82 1574.4,1222.91 1574.66,1222 1574.92,1221.08 1575.18,1220.17 1575.44,1219.26 1575.7,1218.35 \n",
       "  1575.96,1217.45 1576.22,1216.54 1576.48,1215.63 1576.73,1214.73 1576.99,1213.83 1577.25,1212.92 1577.51,1212.02 1577.77,1211.12 1578.03,1210.22 1578.29,1209.33 \n",
       "  1578.55,1208.43 1578.81,1207.54 1579.07,1206.64 1579.32,1205.75 1579.58,1204.86 1579.84,1203.97 1580.1,1203.08 1580.36,1202.2 1580.62,1201.31 1580.88,1200.43 \n",
       "  1581.14,1199.55 1581.4,1198.67 1581.66,1197.79 1581.92,1196.91 1582.17,1196.03 1582.43,1195.16 1582.69,1194.29 1582.95,1193.42 1583.21,1192.55 1583.47,1191.68 \n",
       "  1583.73,1190.81 1583.99,1189.95 1584.25,1189.08 1584.51,1188.22 1584.76,1187.36 1585.02,1186.51 1585.28,1185.65 1585.54,1184.8 1585.8,1183.94 1586.06,1183.09 \n",
       "  1586.32,1182.24 1586.58,1181.4 1586.84,1180.55 1587.1,1179.71 1587.35,1178.87 1587.61,1178.03 1587.87,1177.19 1588.13,1176.36 1588.39,1175.52 1588.65,1174.69 \n",
       "  1588.91,1173.86 1589.17,1173.03 1589.43,1172.21 1589.69,1171.39 1589.94,1170.56 1590.2,1169.75 1590.46,1168.93 1590.72,1168.11 1590.98,1167.3 1591.24,1166.49 \n",
       "  1591.5,1165.68 1591.76,1164.88 1592.02,1164.07 1592.28,1163.27 1592.53,1162.47 1592.79,1161.67 1593.05,1160.88 1593.31,1160.08 1593.57,1159.29 1593.83,1158.51 \n",
       "  1594.09,1157.72 1594.35,1156.94 1594.61,1156.16 1594.87,1155.38 1595.13,1154.6 1595.38,1153.83 1595.64,1153.05 1595.9,1152.29 1596.16,1151.52 1596.42,1150.75 \n",
       "  1596.68,1149.99 1596.94,1149.23 1597.2,1148.48 1597.46,1147.72 1597.72,1146.97 1597.97,1146.22 1598.23,1145.47 1598.49,1144.73 1598.75,1143.99 1599.01,1143.25 \n",
       "  1599.27,1142.51 1599.53,1141.78 1599.79,1141.05 1600.05,1140.32 1600.31,1139.59 1600.56,1138.87 1600.82,1138.15 1601.08,1137.43 1601.34,1136.72 1601.6,1136.01 \n",
       "  1601.86,1135.3 1602.12,1134.59 1602.38,1133.89 1602.64,1133.18 1602.9,1132.49 1603.15,1131.79 1603.41,1131.1 1603.67,1130.41 1603.93,1129.72 1604.19,1129.04 \n",
       "  1604.45,1128.36 1604.71,1127.68 1604.97,1127 1605.23,1126.33 1605.49,1125.66 1605.74,1124.99 1606,1124.33 1606.26,1123.67 1606.52,1123.01 1606.78,1122.35 \n",
       "  1607.04,1121.7 1607.3,1121.05 1607.56,1120.41 1607.82,1119.76 1608.08,1119.12 1608.34,1118.49 1608.59,1117.85 1608.85,1117.22 1609.11,1116.6 1609.37,1115.97 \n",
       "  1609.63,1115.35 1609.89,1114.73 1610.15,1114.12 1610.41,1113.5 1610.67,1112.89 1610.93,1112.29 1611.18,1111.69 1611.44,1111.09 1611.7,1110.49 1611.96,1109.9 \n",
       "  1612.22,1109.31 1612.48,1108.72 1612.74,1108.14 1613,1107.56 1613.26,1106.98 1613.52,1106.41 1613.77,1105.83 1614.03,1105.27 1614.29,1104.7 1614.55,1104.14 \n",
       "  1614.81,1103.59 1615.07,1103.03 1615.33,1102.48 1615.59,1101.93 1615.85,1101.39 1616.11,1100.85 1616.36,1100.31 1616.62,1099.78 1616.88,1099.24 1617.14,1098.72 \n",
       "  1617.4,1098.19 1617.66,1097.67 1617.92,1097.15 1618.18,1096.64 1618.44,1096.13 1618.7,1095.62 1618.95,1095.12 1619.21,1094.62 1619.47,1094.12 1619.73,1093.63 \n",
       "  1619.99,1093.14 1620.25,1092.65 1620.51,1092.17 1620.77,1091.69 1621.03,1091.21 1621.29,1090.74 1621.55,1090.27 1621.8,1089.8 1622.06,1089.34 1622.32,1088.88 \n",
       "  1622.58,1088.43 1622.84,1087.98 1623.1,1087.53 1623.36,1087.08 1623.62,1086.64 1623.88,1086.2 1624.14,1085.77 1624.39,1085.34 1624.65,1084.91 1624.91,1084.49 \n",
       "  1625.17,1084.07 1625.43,1083.65 1625.69,1083.24 1625.95,1082.83 1626.21,1082.42 1626.47,1082.02 1626.73,1081.62 1626.98,1081.23 1627.24,1080.84 1627.5,1080.45 \n",
       "  1627.76,1080.07 1628.02,1079.69 1628.28,1079.31 1628.54,1078.94 1628.8,1078.57 1629.06,1078.2 1629.32,1077.84 1629.57,1077.48 1629.83,1077.12 1630.09,1076.77 \n",
       "  1630.35,1076.42 1630.61,1076.08 1630.87,1075.74 1631.13,1075.4 1631.39,1075.07 1631.65,1074.74 1631.91,1074.42 1632.16,1074.09 1632.42,1073.77 1632.68,1073.46 \n",
       "  1632.94,1073.15 1633.2,1072.84 1633.46,1072.54 1633.72,1072.24 1633.98,1071.94 1634.24,1071.65 1634.5,1071.36 1634.76,1071.07 1635.01,1070.79 1635.27,1070.52 \n",
       "  1635.53,1070.24 1635.79,1069.97 1636.05,1069.7 1636.31,1069.44 1636.57,1069.18 1636.83,1068.93 1637.09,1068.67 1637.35,1068.43 1637.6,1068.18 1637.86,1067.94 \n",
       "  1638.12,1067.7 1638.38,1067.47 1638.64,1067.24 1638.9,1067.01 1639.16,1066.79 1639.42,1066.57 1639.68,1066.36 1639.94,1066.15 1640.19,1065.94 1640.45,1065.74 \n",
       "  1640.71,1065.54 1640.97,1065.34 1641.23,1065.15 1641.49,1064.96 1641.75,1064.77 1642.01,1064.59 1642.27,1064.41 1642.53,1064.24 1642.78,1064.07 1643.04,1063.9 \n",
       "  1643.3,1063.74 1643.56,1063.58 1643.82,1063.42 1644.08,1063.27 1644.34,1063.12 1644.6,1062.98 1644.86,1062.84 1645.12,1062.7 1645.37,1062.57 1645.63,1062.44 \n",
       "  1645.89,1062.31 1646.15,1062.19 1646.41,1062.07 1646.67,1061.96 1646.93,1061.85 1647.19,1061.74 1647.45,1061.64 1647.71,1061.54 1647.97,1061.44 1648.22,1061.35 \n",
       "  1648.48,1061.26 1648.74,1061.17 1649,1061.09 1649.26,1061.01 1649.52,1060.94 1649.78,1060.87 1650.04,1060.8 1650.3,1060.74 1650.56,1060.68 1650.81,1060.62 \n",
       "  1651.07,1060.57 1651.33,1060.52 1651.59,1060.47 1651.85,1060.43 1652.11,1060.39 1652.37,1060.36 1652.63,1060.33 1652.89,1060.3 1653.15,1060.28 1653.4,1060.26 \n",
       "  1653.66,1060.24 1653.92,1060.23 1654.18,1060.22 1654.44,1060.21 1654.7,1060.21 1654.96,1060.21 1655.22,1060.22 1655.48,1060.23 1655.74,1060.24 1655.99,1060.26 \n",
       "  1656.25,1060.28 1656.51,1060.3 1656.77,1060.33 1657.03,1060.36 1657.29,1060.39 1657.55,1060.43 1657.81,1060.47 1658.07,1060.51 1658.33,1060.56 1658.58,1060.61 \n",
       "  1658.84,1060.66 1659.1,1060.72 1659.36,1060.78 1659.62,1060.85 1659.88,1060.92 1660.14,1060.99 1660.4,1061.07 1660.66,1061.15 1660.92,1061.23 1661.17,1061.31 \n",
       "  1661.43,1061.4 1661.69,1061.5 1661.95,1061.59 1662.21,1061.69 1662.47,1061.79 1662.73,1061.9 1662.99,1062.01 1663.25,1062.12 1663.51,1062.24 1663.77,1062.36 \n",
       "  1664.02,1062.48 1664.28,1062.61 1664.54,1062.74 1664.8,1062.88 1665.06,1063.01 1665.32,1063.15 1665.58,1063.3 1665.84,1063.44 1666.1,1063.59 1666.36,1063.75 \n",
       "  1666.61,1063.9 1666.87,1064.06 1667.13,1064.23 1667.39,1064.39 1667.65,1064.56 1667.91,1064.74 1668.17,1064.91 1668.43,1065.09 1668.69,1065.27 1668.95,1065.46 \n",
       "  1669.2,1065.65 1669.46,1065.84 1669.72,1066.04 1669.98,1066.24 1670.24,1066.44 1670.5,1066.64 1670.76,1066.85 1671.02,1067.06 1671.28,1067.28 1671.54,1067.5 \n",
       "  1671.79,1067.72 1672.05,1067.94 1672.31,1068.17 1672.57,1068.4 1672.83,1068.63 1673.09,1068.87 1673.35,1069.11 1673.61,1069.35 1673.87,1069.6 1674.13,1069.84 \n",
       "  1674.38,1070.1 1674.64,1070.35 1674.9,1070.61 1675.16,1070.87 1675.42,1071.13 1675.68,1071.4 1675.94,1071.67 1676.2,1071.94 1676.46,1072.22 1676.72,1072.5 \n",
       "  1676.98,1072.78 1677.23,1073.06 1677.49,1073.35 1677.75,1073.64 1678.01,1073.93 1678.27,1074.23 1678.53,1074.53 1678.79,1074.83 1679.05,1075.13 1679.31,1075.44 \n",
       "  1679.57,1075.75 1679.82,1076.06 1680.08,1076.38 1680.34,1076.7 1680.6,1077.02 1680.86,1077.34 1681.12,1077.67 1681.38,1078 1681.64,1078.33 1681.9,1078.67 \n",
       "  1682.16,1079 1682.41,1079.34 1682.67,1079.69 1682.93,1080.03 1683.19,1080.38 1683.45,1080.73 1683.71,1081.09 1683.97,1081.44 1684.23,1081.8 1684.49,1082.16 \n",
       "  1684.75,1082.53 1685,1082.89 1685.26,1083.26 1685.52,1083.64 1685.78,1084.01 1686.04,1084.39 1686.3,1084.77 1686.56,1085.15 1686.82,1085.53 1687.08,1085.92 \n",
       "  1687.34,1086.31 1687.59,1086.7 1687.85,1087.1 1688.11,1087.49 1688.37,1087.89 1688.63,1088.29 1688.89,1088.7 1689.15,1089.1 1689.41,1089.51 1689.67,1089.92 \n",
       "  1689.93,1090.34 1690.19,1090.75 1690.44,1091.17 1690.7,1091.59 1690.96,1092.01 1691.22,1092.44 1691.48,1092.87 1691.74,1093.3 1692,1093.73 1692.26,1094.16 \n",
       "  1692.52,1094.6 1692.78,1095.04 1693.03,1095.48 1693.29,1095.92 1693.55,1096.37 1693.81,1096.81 1694.07,1097.26 1694.33,1097.71 1694.59,1098.17 1694.85,1098.62 \n",
       "  1695.11,1099.08 1695.37,1099.54 1695.62,1100 1695.88,1100.47 1696.14,1100.93 1696.4,1101.4 1696.66,1101.87 1696.92,1102.34 1697.18,1102.82 1697.44,1103.29 \n",
       "  1697.7,1103.77 1697.96,1104.25 1698.21,1104.73 1698.47,1105.21 1698.73,1105.7 1698.99,1106.19 1699.25,1106.68 1699.51,1107.17 1699.77,1107.66 1700.03,1108.15 \n",
       "  1700.29,1108.65 1700.55,1109.15 1700.8,1109.65 1701.06,1110.15 1701.32,1110.65 1701.58,1111.16 1701.84,1111.67 1702.1,1112.17 1702.36,1112.68 1702.62,1113.2 \n",
       "  1702.88,1113.71 1703.14,1114.23 1703.4,1114.74 1703.65,1115.26 1703.91,1115.78 1704.17,1116.3 1704.43,1116.83 1704.69,1117.35 1704.95,1117.88 1705.21,1118.41 \n",
       "  1705.47,1118.94 1705.73,1119.47 1705.99,1120 1706.24,1120.53 1706.5,1121.07 1706.76,1121.61 1707.02,1122.14 1707.28,1122.68 1707.54,1123.22 1707.8,1123.77 \n",
       "  1708.06,1124.31 1708.32,1124.86 1708.58,1125.4 1708.83,1125.95 1709.09,1126.5 1709.35,1127.05 1709.61,1127.6 1709.87,1128.16 1710.13,1128.71 1710.39,1129.27 \n",
       "  1710.65,1129.82 1710.91,1130.38 1711.17,1130.94 1711.42,1131.5 1711.68,1132.06 1711.94,1132.62 1712.2,1133.19 1712.46,1133.75 1712.72,1134.32 1712.98,1134.89 \n",
       "  1713.24,1135.45 1713.5,1136.02 1713.76,1136.59 1714.01,1137.16 1714.27,1137.74 1714.53,1138.31 1714.79,1138.88 1715.05,1139.46 1715.31,1140.04 1715.57,1140.61 \n",
       "  1715.83,1141.19 1716.09,1141.77 1716.35,1142.35 1716.61,1142.93 1716.86,1143.51 1717.12,1144.09 1717.38,1144.68 1717.64,1145.26 1717.9,1145.85 1718.16,1146.43 \n",
       "  1718.42,1147.02 1718.68,1147.61 1718.94,1148.19 1719.2,1148.78 1719.45,1149.37 1719.71,1149.96 1719.97,1150.55 1720.23,1151.14 1720.49,1151.74 1720.75,1152.33 \n",
       "  1721.01,1152.92 1721.27,1153.52 1721.53,1154.11 1721.79,1154.71 1722.04,1155.3 1722.3,1155.9 1722.56,1156.49 1722.82,1157.09 1723.08,1157.69 1723.34,1158.29 \n",
       "  1723.6,1158.89 1723.86,1159.49 1724.12,1160.08 1724.38,1160.68 1724.63,1161.29 1724.89,1161.89 1725.15,1162.49 1725.41,1163.09 1725.67,1163.69 1725.93,1164.29 \n",
       "  1726.19,1164.9 1726.45,1165.5 1726.71,1166.1 1726.97,1166.7 1727.22,1167.31 1727.48,1167.91 1727.74,1168.52 1728,1169.12 1728.26,1169.72 1728.52,1170.33 \n",
       "  1728.78,1170.93 1729.04,1171.54 1729.3,1172.14 1729.56,1172.75 1729.82,1173.35 1730.07,1173.96 1730.33,1174.57 1730.59,1175.17 1730.85,1175.78 1731.11,1176.38 \n",
       "  1731.37,1176.99 1731.63,1177.59 1731.89,1178.2 1732.15,1178.8 1732.41,1179.41 1732.66,1180.02 1732.92,1180.62 1733.18,1181.23 1733.44,1181.83 1733.7,1182.44 \n",
       "  1733.96,1183.04 1734.22,1183.65 1734.48,1184.25 1734.74,1184.86 1735,1185.46 1735.25,1186.06 1735.51,1186.67 1735.77,1187.27 1736.03,1187.88 1736.29,1188.48 \n",
       "  1736.55,1189.08 1736.81,1189.68 1737.07,1190.29 1737.33,1190.89 1737.59,1191.49 1737.84,1192.09 1738.1,1192.69 1738.36,1193.29 1738.62,1193.89 1738.88,1194.49 \n",
       "  1739.14,1195.09 1739.4,1195.69 1739.66,1196.29 1739.92,1196.89 1740.18,1197.49 1740.43,1198.08 1740.69,1198.68 1740.95,1199.28 1741.21,1199.87 1741.47,1200.47 \n",
       "  1741.73,1201.06 1741.99,1201.65 1742.25,1202.25 1742.51,1202.84 1742.77,1203.43 1743.03,1204.02 1743.28,1204.61 1743.54,1205.2 1743.8,1205.79 1744.06,1206.38 \n",
       "  1744.32,1206.97 1744.58,1207.56 1744.84,1208.14 1745.1,1208.73 1745.36,1209.32 1745.62,1209.9 1745.87,1210.48 1746.13,1211.07 1746.39,1211.65 1746.65,1212.23 \n",
       "  1746.91,1212.81 1747.17,1213.39 1747.43,1213.97 1747.69,1214.55 1747.95,1215.12 1748.21,1215.7 1748.46,1216.27 1748.72,1216.85 1748.98,1217.42 1749.24,1217.99 \n",
       "  1749.5,1218.57 1749.76,1219.14 1750.02,1219.7 1750.28,1220.27 1750.54,1220.84 1750.8,1221.41 1751.05,1221.97 1751.31,1222.54 1751.57,1223.1 1751.83,1223.66 \n",
       "  1752.09,1224.22 1752.35,1224.78 1752.61,1225.34 1752.87,1225.9 1753.13,1226.45 1753.39,1227.01 1753.64,1227.56 1753.9,1228.12 1754.16,1228.67 1754.42,1229.22 \n",
       "  1754.68,1229.77 1754.94,1230.32 1755.2,1230.86 1755.46,1231.41 1755.72,1231.95 1755.98,1232.5 1756.23,1233.04 1756.49,1233.58 1756.75,1234.12 1757.01,1234.66 \n",
       "  1757.27,1235.19 1757.53,1235.73 1757.79,1236.26 1758.05,1236.79 1758.31,1237.33 1758.57,1237.86 1758.83,1238.38 1759.08,1238.91 1759.34,1239.44 1759.6,1239.96 \n",
       "  1759.86,1240.48 1760.12,1241 1760.38,1241.52 1760.64,1242.04 1760.9,1242.56 1761.16,1243.07 1761.42,1243.59 1761.67,1244.1 1761.93,1244.61 1762.19,1245.12 \n",
       "  1762.45,1245.63 1762.71,1246.13 1762.97,1246.64 1763.23,1247.14 1763.49,1247.64 1763.75,1248.14 1764.01,1248.64 1764.26,1249.13 1764.52,1249.63 1764.78,1250.12 \n",
       "  1765.04,1250.61 1765.3,1251.1 1765.56,1251.59 1765.82,1252.08 1766.08,1252.56 1766.34,1253.04 1766.6,1253.52 1766.85,1254 1767.11,1254.48 1767.37,1254.96 \n",
       "  1767.63,1255.43 1767.89,1255.9 1768.15,1256.37 1768.41,1256.84 1768.67,1257.31 1768.93,1257.77 1769.19,1258.24 1769.44,1258.7 1769.7,1259.16 1769.96,1259.62 \n",
       "  1770.22,1260.07 1770.48,1260.53 1770.74,1260.98 1771,1261.43 1771.26,1261.88 1771.52,1262.32 1771.78,1262.77 1772.04,1263.21 1772.29,1263.65 1772.55,1264.09 \n",
       "  1772.81,1264.52 1773.07,1264.96 1773.33,1265.39 1773.59,1265.82 1773.85,1266.25 1774.11,1266.68 1774.37,1267.1 1774.63,1267.53 1774.88,1267.95 1775.14,1268.37 \n",
       "  1775.4,1268.78 1775.66,1269.2 1775.92,1269.61 1776.18,1270.02 1776.44,1270.43 1776.7,1270.83 1776.96,1271.24 1777.22,1271.64 1777.47,1272.04 1777.73,1272.44 \n",
       "  1777.99,1272.83 1778.25,1273.23 1778.51,1273.62 1778.77,1274.01 1779.03,1274.4 1779.29,1274.78 1779.55,1275.16 1779.81,1275.54 1780.06,1275.92 1780.32,1276.3 \n",
       "  1780.58,1276.67 1780.84,1277.05 1781.1,1277.42 1781.36,1277.78 1781.62,1278.15 1781.88,1278.51 1782.14,1278.87 1782.4,1279.23 1782.65,1279.59 1782.91,1279.94 \n",
       "  1783.17,1280.29 1783.43,1280.64 1783.69,1280.99 1783.95,1281.34 1784.21,1281.68 1784.47,1282.02 1784.73,1282.36 1784.99,1282.69 1785.25,1283.03 1785.5,1283.36 \n",
       "  1785.76,1283.69 1786.02,1284.01 1786.28,1284.34 1786.54,1284.66 1786.8,1284.98 1787.06,1285.3 1787.32,1285.61 1787.58,1285.92 1787.84,1286.23 1788.09,1286.54 \n",
       "  1788.35,1286.85 1788.61,1287.15 1788.87,1287.45 1789.13,1287.75 1789.39,1288.05 1789.65,1288.34 1789.91,1288.63 1790.17,1288.92 1790.43,1289.21 1790.68,1289.49 \n",
       "  1790.94,1289.77 1791.2,1290.05 1791.46,1290.33 1791.72,1290.6 1791.98,1290.87 1792.24,1291.14 1792.5,1291.41 1792.76,1291.67 1793.02,1291.93 1793.27,1292.19 \n",
       "  1793.53,1292.45 1793.79,1292.7 1794.05,1292.96 1794.31,1293.21 1794.57,1293.45 1794.83,1293.7 1795.09,1293.94 1795.35,1294.18 1795.61,1294.42 1795.86,1294.65 \n",
       "  1796.12,1294.88 1796.38,1295.11 1796.64,1295.34 1796.9,1295.56 1797.16,1295.79 1797.42,1296.01 1797.68,1296.22 1797.94,1296.44 1798.2,1296.65 1798.46,1296.86 \n",
       "  1798.71,1297.06 1798.97,1297.27 1799.23,1297.47 1799.49,1297.67 1799.75,1297.87 1800.01,1298.06 1800.27,1298.25 1800.53,1298.44 1800.79,1298.63 1801.05,1298.81 \n",
       "  1801.3,1298.99 1801.56,1299.17 1801.82,1299.35 1802.08,1299.52 1802.34,1299.69 1802.6,1299.86 1802.86,1300.03 1803.12,1300.19 1803.38,1300.35 1803.64,1300.51 \n",
       "  1803.89,1300.67 1804.15,1300.82 1804.41,1300.97 1804.67,1301.12 1804.93,1301.26 1805.19,1301.4 1805.45,1301.54 1805.71,1301.68 1805.97,1301.82 1806.23,1301.95 \n",
       "  1806.48,1302.08 1806.74,1302.21 1807,1302.33 1807.26,1302.45 1807.52,1302.57 1807.78,1302.69 1808.04,1302.8 1808.3,1302.92 1808.56,1303.03 1808.82,1303.13 \n",
       "  1809.07,1303.24 1809.33,1303.34 1809.59,1303.44 1809.85,1303.53 1810.11,1303.63 1810.37,1303.72 1810.63,1303.8 1810.89,1303.89 1811.15,1303.97 1811.41,1304.05 \n",
       "  1811.67,1304.13 1811.92,1304.21 1812.18,1304.28 1812.44,1304.35 1812.7,1304.42 1812.96,1304.48 1813.22,1304.55 1813.48,1304.61 1813.74,1304.66 1814,1304.72 \n",
       "  1814.26,1304.77 1814.51,1304.82 1814.77,1304.87 1815.03,1304.91 1815.29,1304.95 1815.55,1304.99 1815.81,1305.03 1816.07,1305.06 1816.33,1305.09 1816.59,1305.12 \n",
       "  1816.85,1305.15 1817.1,1305.17 1817.36,1305.2 1817.62,1305.21 1817.88,1305.23 1818.14,1305.24 1818.4,1305.25 1818.66,1305.26 1818.92,1305.27 1819.18,1305.27 \n",
       "  1819.44,1305.27 1819.69,1305.27 1819.95,1305.27 1820.21,1305.26 1820.47,1305.25 1820.73,1305.24 1820.99,1305.22 1821.25,1305.21 1821.51,1305.19 1821.77,1305.17 \n",
       "  1822.03,1305.14 1822.28,1305.11 1822.54,1305.09 1822.8,1305.05 1823.06,1305.02 1823.32,1304.98 1823.58,1304.94 1823.84,1304.9 1824.1,1304.86 1824.36,1304.81 \n",
       "  1824.62,1304.76 1824.88,1304.71 1825.13,1304.65 1825.39,1304.6 1825.65,1304.54 1825.91,1304.47 1826.17,1304.41 1826.43,1304.34 1826.69,1304.27 1826.95,1304.2 \n",
       "  1827.21,1304.13 1827.47,1304.05 1827.72,1303.97 1827.98,1303.89 1828.24,1303.81 1828.5,1303.72 1828.76,1303.63 1829.02,1303.54 1829.28,1303.44 1829.54,1303.35 \n",
       "  1829.8,1303.25 1830.06,1303.15 1830.31,1303.05 1830.57,1302.94 1830.83,1302.83 1831.09,1302.72 1831.35,1302.61 1831.61,1302.49 1831.87,1302.37 1832.13,1302.25 \n",
       "  1832.39,1302.13 1832.65,1302.01 1832.9,1301.88 1833.16,1301.75 1833.42,1301.62 1833.68,1301.48 1833.94,1301.35 1834.2,1301.21 1834.46,1301.07 1834.72,1300.92 \n",
       "  1834.98,1300.78 1835.24,1300.63 1835.49,1300.48 1835.75,1300.33 1836.01,1300.17 1836.27,1300.02 1836.53,1299.86 1836.79,1299.69 1837.05,1299.53 1837.31,1299.36 \n",
       "  1837.57,1299.2 1837.83,1299.02 1838.09,1298.85 1838.34,1298.68 1838.6,1298.5 1838.86,1298.32 1839.12,1298.14 1839.38,1297.95 1839.64,1297.77 1839.9,1297.58 \n",
       "  1840.16,1297.39 1840.42,1297.19 1840.68,1297 1840.93,1296.8 1841.19,1296.6 1841.45,1296.4 1841.71,1296.2 1841.97,1295.99 1842.23,1295.78 1842.49,1295.57 \n",
       "  1842.75,1295.36 1843.01,1295.15 1843.27,1294.93 1843.52,1294.71 1843.78,1294.49 1844.04,1294.27 1844.3,1294.04 1844.56,1293.82 1844.82,1293.59 1845.08,1293.36 \n",
       "  1845.34,1293.12 1845.6,1292.89 1845.86,1292.65 1846.11,1292.41 1846.37,1292.17 1846.63,1291.93 1846.89,1291.68 1847.15,1291.44 1847.41,1291.19 1847.67,1290.94 \n",
       "  1847.93,1290.68 1848.19,1290.43 1848.45,1290.17 1848.7,1289.91 1848.96,1289.65 1849.22,1289.39 1849.48,1289.13 1849.74,1288.86 1850,1288.59 1850.26,1288.32 \n",
       "  1850.52,1288.05 1850.78,1287.77 1851.04,1287.5 1851.29,1287.22 1851.55,1286.94 1851.81,1286.66 1852.07,1286.38 1852.33,1286.09 1852.59,1285.8 1852.85,1285.51 \n",
       "  1853.11,1285.22 1853.37,1284.93 1853.63,1284.64 1853.89,1284.34 1854.14,1284.04 1854.4,1283.74 1854.66,1283.44 1854.92,1283.14 1855.18,1282.83 1855.44,1282.53 \n",
       "  1855.7,1282.22 1855.96,1281.91 1856.22,1281.6 1856.48,1281.28 1856.73,1280.97 1856.99,1280.65 1857.25,1280.34 1857.51,1280.02 1857.77,1279.69 1858.03,1279.37 \n",
       "  1858.29,1279.05 1858.55,1278.72 1858.81,1278.39 1859.07,1278.06 1859.32,1277.73 1859.58,1277.4 1859.84,1277.06 1860.1,1276.73 1860.36,1276.39 1860.62,1276.05 \n",
       "  1860.88,1275.71 1861.14,1275.37 1861.4,1275.02 1861.66,1274.68 1861.91,1274.33 1862.17,1273.99 1862.43,1273.64 1862.69,1273.28 1862.95,1272.93 1863.21,1272.58 \n",
       "  1863.47,1272.22 1863.73,1271.87 1863.99,1271.51 1864.25,1271.15 1864.5,1270.79 1864.76,1270.43 1865.02,1270.06 1865.28,1269.7 1865.54,1269.33 1865.8,1268.96 \n",
       "  1866.06,1268.59 1866.32,1268.22 1866.58,1267.85 1866.84,1267.48 1867.1,1267.11 1867.35,1266.73 1867.61,1266.35 1867.87,1265.98 1868.13,1265.6 1868.39,1265.22 \n",
       "  1868.65,1264.83 1868.91,1264.45 1869.17,1264.07 1869.43,1263.68 1869.69,1263.3 1869.94,1262.91 1870.2,1262.52 1870.46,1262.13 1870.72,1261.74 1870.98,1261.35 \n",
       "  1871.24,1260.95 1871.5,1260.56 1871.76,1260.16 1872.02,1259.77 1872.28,1259.37 1872.53,1258.97 1872.79,1258.57 1873.05,1258.17 1873.31,1257.77 1873.57,1257.36 \n",
       "  1873.83,1256.96 1874.09,1256.56 1874.35,1256.15 1874.61,1255.74 1874.87,1255.34 1875.12,1254.93 1875.38,1254.52 1875.64,1254.11 1875.9,1253.69 1876.16,1253.28 \n",
       "  1876.42,1252.87 1876.68,1252.45 1876.94,1252.04 1877.2,1251.62 1877.46,1251.21 1877.71,1250.79 1877.97,1250.37 1878.23,1249.95 1878.49,1249.53 1878.75,1249.11 \n",
       "  1879.01,1248.69 1879.27,1248.26 1879.53,1247.84 1879.79,1247.42 1880.05,1246.99 1880.31,1246.57 1880.56,1246.14 1880.82,1245.71 1881.08,1245.29 1881.34,1244.86 \n",
       "  1881.6,1244.43 1881.86,1244 1882.12,1243.57 1882.38,1243.14 1882.64,1242.7 1882.9,1242.27 1883.15,1241.84 1883.41,1241.41 1883.67,1240.97 1883.93,1240.54 \n",
       "  1884.19,1240.1 1884.45,1239.66 1884.71,1239.23 1884.97,1238.79 1885.23,1238.35 1885.49,1237.92 1885.74,1237.48 1886,1237.04 1886.26,1236.6 1886.52,1236.16 \n",
       "  1886.78,1235.72 1887.04,1235.28 1887.3,1234.84 1887.56,1234.39 1887.82,1233.95 1888.08,1233.51 1888.33,1233.07 1888.59,1232.62 1888.85,1232.18 1889.11,1231.74 \n",
       "  1889.37,1231.29 1889.63,1230.85 1889.89,1230.4 1890.15,1229.96 1890.41,1229.51 1890.67,1229.06 1890.92,1228.62 1891.18,1228.17 1891.44,1227.72 1891.7,1227.28 \n",
       "  1891.96,1226.83 1892.22,1226.38 1892.48,1225.94 1892.74,1225.49 1893,1225.04 1893.26,1224.59 1893.52,1224.14 1893.77,1223.69 1894.03,1223.25 1894.29,1222.8 \n",
       "  1894.55,1222.35 1894.81,1221.9 1895.07,1221.45 1895.33,1221 1895.59,1220.55 1895.85,1220.1 1896.11,1219.65 1896.36,1219.2 1896.62,1218.75 1896.88,1218.3 \n",
       "  1897.14,1217.85 1897.4,1217.4 1897.66,1216.95 1897.92,1216.5 1898.18,1216.06 1898.44,1215.61 1898.7,1215.16 1898.95,1214.71 1899.21,1214.26 1899.47,1213.81 \n",
       "  1899.73,1213.36 1899.99,1212.91 1900.25,1212.46 1900.51,1212.01 1900.77,1211.56 1901.03,1211.12 1901.29,1210.67 1901.54,1210.22 1901.8,1209.77 1902.06,1209.32 \n",
       "  1902.32,1208.88 1902.58,1208.43 1902.84,1207.98 1903.1,1207.54 1903.36,1207.09 1903.62,1206.64 1903.88,1206.2 1904.13,1205.75 1904.39,1205.31 1904.65,1204.86 \n",
       "  1904.91,1204.42 1905.17,1203.97 1905.43,1203.53 1905.69,1203.08 1905.95,1202.64 1906.21,1202.2 1906.47,1201.76 1906.73,1201.31 1906.98,1200.87 1907.24,1200.43 \n",
       "  1907.5,1199.99 1907.76,1199.55 1908.02,1199.11 1908.28,1198.67 1908.54,1198.23 1908.8,1197.79 1909.06,1197.35 1909.32,1196.91 1909.57,1196.48 1909.83,1196.04 \n",
       "  1910.09,1195.6 1910.35,1195.17 1910.61,1194.73 1910.87,1194.3 1911.13,1193.87 1911.39,1193.43 1911.65,1193 1911.91,1192.57 1912.16,1192.14 1912.42,1191.7 \n",
       "  1912.68,1191.27 1912.94,1190.84 1913.2,1190.42 1913.46,1189.99 1913.72,1189.56 1913.98,1189.13 1914.24,1188.71 1914.5,1188.28 1914.75,1187.86 1915.01,1187.43 \n",
       "  1915.27,1187.01 1915.53,1186.59 1915.79,1186.16 1916.05,1185.74 1916.31,1185.32 1916.57,1184.9 1916.83,1184.48 1917.09,1184.07 1917.34,1183.65 1917.6,1183.23 \n",
       "  1917.86,1182.82 1918.12,1182.4 1918.38,1181.99 1918.64,1181.57 1918.9,1181.16 1919.16,1180.75 1919.42,1180.34 1919.68,1179.93 1919.94,1179.52 1920.19,1179.11 \n",
       "  1920.45,1178.71 1920.71,1178.3 1920.97,1177.9 1921.23,1177.49 1921.49,1177.09 1921.75,1176.69 1922.01,1176.29 1922.27,1175.89 1922.53,1175.49 1922.78,1175.09 \n",
       "  1923.04,1174.69 1923.3,1174.3 1923.56,1173.9 1923.82,1173.51 1924.08,1173.12 1924.34,1172.72 1924.6,1172.33 1924.86,1171.94 1925.12,1171.55 1925.37,1171.17 \n",
       "  1925.63,1170.78 1925.89,1170.4 1926.15,1170.01 1926.41,1169.63 1926.67,1169.25 1926.93,1168.87 1927.19,1168.49 1927.45,1168.11 1927.71,1167.73 1927.96,1167.35 \n",
       "  1928.22,1166.98 1928.48,1166.61 1928.74,1166.23 1929,1165.86 1929.26,1165.49 1929.52,1165.12 1929.78,1164.76 1930.04,1164.39 1930.3,1164.02 1930.55,1163.66 \n",
       "  1930.81,1163.3 1931.07,1162.94 1931.33,1162.58 1931.59,1162.22 1931.85,1161.86 1932.11,1161.51 1932.37,1161.15 1932.63,1160.8 1932.89,1160.45 1933.15,1160.09 \n",
       "  1933.4,1159.75 1933.66,1159.4 1933.92,1159.05 1934.18,1158.71 1934.44,1158.36 1934.7,1158.02 1934.96,1157.68 1935.22,1157.34 1935.48,1157 1935.74,1156.66 \n",
       "  1935.99,1156.33 1936.25,1155.99 1936.51,1155.66 1936.77,1155.33 1937.03,1155 1937.29,1154.67 1937.55,1154.35 1937.81,1154.02 1938.07,1153.7 1938.33,1153.37 \n",
       "  1938.58,1153.05 1938.84,1152.73 1939.1,1152.42 1939.36,1152.1 1939.62,1151.79 1939.88,1151.47 1940.14,1151.16 1940.4,1150.85 1940.66,1150.54 1940.92,1150.23 \n",
       "  1941.17,1149.93 1941.43,1149.63 1941.69,1149.32 1941.95,1149.02 1942.21,1148.72 1942.47,1148.43 1942.73,1148.13 1942.99,1147.84 1943.25,1147.54 1943.51,1147.25 \n",
       "  1943.76,1146.96 1944.02,1146.67 1944.28,1146.39 1944.54,1146.1 1944.8,1145.82 1945.06,1145.54 1945.32,1145.26 1945.58,1144.98 1945.84,1144.7 1946.1,1144.43 \n",
       "  1946.35,1144.16 1946.61,1143.89 1946.87,1143.62 1947.13,1143.35 1947.39,1143.08 1947.65,1142.82 1947.91,1142.55 1948.17,1142.29 1948.43,1142.03 1948.69,1141.78 \n",
       "  1948.95,1141.52 1949.2,1141.27 1949.46,1141.01 1949.72,1140.76 1949.98,1140.51 1950.24,1140.27 1950.5,1140.02 1950.76,1139.78 1951.02,1139.54 1951.28,1139.3 \n",
       "  1951.54,1139.06 1951.79,1138.82 1952.05,1138.59 1952.31,1138.35 1952.57,1138.12 1952.83,1137.89 1953.09,1137.67 1953.35,1137.44 1953.61,1137.22 1953.87,1136.99 \n",
       "  1954.13,1136.77 1954.38,1136.55 1954.64,1136.34 1954.9,1136.12 1955.16,1135.91 1955.42,1135.7 1955.68,1135.49 1955.94,1135.28 1956.2,1135.08 1956.46,1134.87 \n",
       "  1956.72,1134.67 1956.97,1134.47 1957.23,1134.27 1957.49,1134.08 1957.75,1133.88 1958.01,1133.69 1958.27,1133.5 1958.53,1133.31 1958.79,1133.12 1959.05,1132.94 \n",
       "  1959.31,1132.76 1959.56,1132.58 1959.82,1132.4 1960.08,1132.22 1960.34,1132.04 1960.6,1131.87 1960.86,1131.7 1961.12,1131.53 1961.38,1131.36 1961.64,1131.2 \n",
       "  1961.9,1131.03 1962.16,1130.87 1962.41,1130.71 1962.67,1130.55 1962.93,1130.4 1963.19,1130.24 1963.45,1130.09 1963.71,1129.94 1963.97,1129.79 1964.23,1129.64 \n",
       "  1964.49,1129.5 1964.75,1129.36 1965,1129.22 1965.26,1129.08 1965.52,1128.94 1965.78,1128.81 1966.04,1128.67 1966.3,1128.54 1966.56,1128.41 1966.82,1128.29 \n",
       "  1967.08,1128.16 1967.34,1128.04 1967.59,1127.92 1967.85,1127.8 1968.11,1127.68 1968.37,1127.57 1968.63,1127.46 1968.89,1127.34 1969.15,1127.24 1969.41,1127.13 \n",
       "  1969.67,1127.02 1969.93,1126.92 1970.18,1126.82 1970.44,1126.72 1970.7,1126.62 1970.96,1126.53 1971.22,1126.43 1971.48,1126.34 1971.74,1126.25 1972,1126.17 \n",
       "  1972.26,1126.08 1972.52,1126 1972.77,1125.92 1973.03,1125.84 1973.29,1125.76 1973.55,1125.69 1973.81,1125.61 1974.07,1125.54 1974.33,1125.47 1974.59,1125.41 \n",
       "  1974.85,1125.34 1975.11,1125.28 1975.37,1125.22 1975.62,1125.16 1975.88,1125.1 1976.14,1125.04 1976.4,1124.99 1976.66,1124.94 1976.92,1124.89 1977.18,1124.84 \n",
       "  1977.44,1124.8 1977.7,1124.75 1977.96,1124.71 1978.21,1124.67 1978.47,1124.64 1978.73,1124.6 1978.99,1124.57 1979.25,1124.54 1979.51,1124.51 1979.77,1124.48 \n",
       "  1980.03,1124.46 1980.29,1124.43 1980.55,1124.41 1980.8,1124.39 1981.06,1124.37 1981.32,1124.36 1981.58,1124.35 1981.84,1124.33 1982.1,1124.32 1982.36,1124.32 \n",
       "  1982.62,1124.31 1982.88,1124.31 1983.14,1124.31 1983.39,1124.31 1983.65,1124.31 1983.91,1124.31 1984.17,1124.32 1984.43,1124.33 1984.69,1124.34 1984.95,1124.35 \n",
       "  1985.21,1124.37 1985.47,1124.38 1985.73,1124.4 1985.98,1124.42 1986.24,1124.44 1986.5,1124.47 1986.76,1124.49 1987.02,1124.52 1987.28,1124.55 1987.54,1124.58 \n",
       "  1987.8,1124.62 1988.06,1124.65 1988.32,1124.69 1988.58,1124.73 1988.83,1124.77 1989.09,1124.82 1989.35,1124.86 1989.61,1124.91 1989.87,1124.96 1990.13,1125.01 \n",
       "  1990.39,1125.06 1990.65,1125.12 1990.91,1125.17 1991.17,1125.23 1991.42,1125.29 1991.68,1125.36 1991.94,1125.42 1992.2,1125.49 1992.46,1125.56 1992.72,1125.63 \n",
       "  1992.98,1125.7 1993.24,1125.77 1993.5,1125.85 1993.76,1125.93 1994.01,1126.01 1994.27,1126.09 1994.53,1126.17 1994.79,1126.26 1995.05,1126.35 1995.31,1126.44 \n",
       "  1995.57,1126.53 1995.83,1126.62 1996.09,1126.71 1996.35,1126.81 1996.6,1126.91 1996.86,1127.01 1997.12,1127.11 1997.38,1127.22 1997.64,1127.32 1997.9,1127.43 \n",
       "  1998.16,1127.54 1998.42,1127.65 1998.68,1127.76 1998.94,1127.88 1999.19,1127.99 1999.45,1128.11 1999.71,1128.23 1999.97,1128.36 2000.23,1128.48 2000.49,1128.61 \n",
       "  2000.75,1128.73 2001.01,1128.86 2001.27,1128.99 2001.53,1129.13 2001.79,1129.26 2002.04,1129.4 2002.3,1129.54 2002.56,1129.68 2002.82,1129.82 2003.08,1129.96 \n",
       "  2003.34,1130.1 2003.6,1130.25 2003.86,1130.4 2004.12,1130.55 2004.38,1130.7 2004.63,1130.86 2004.89,1131.01 2005.15,1131.17 2005.41,1131.33 2005.67,1131.49 \n",
       "  2005.93,1131.65 2006.19,1131.81 2006.45,1131.98 2006.71,1132.15 2006.97,1132.32 2007.22,1132.49 2007.48,1132.66 2007.74,1132.83 2008,1133.01 2008.26,1133.18 \n",
       "  2008.52,1133.36 2008.78,1133.54 2009.04,1133.73 2009.3,1133.91 2009.56,1134.09 2009.81,1134.28 2010.07,1134.47 2010.33,1134.66 2010.59,1134.85 2010.85,1135.04 \n",
       "  2011.11,1135.24 2011.37,1135.44 2011.63,1135.63 2011.89,1135.83 2012.15,1136.03 2012.4,1136.24 2012.66,1136.44 2012.92,1136.65 2013.18,1136.85 2013.44,1137.06 \n",
       "  2013.7,1137.27 2013.96,1137.48 2014.22,1137.7 2014.48,1137.91 2014.74,1138.13 2015,1138.35 2015.25,1138.56 2015.51,1138.79 2015.77,1139.01 2016.03,1139.23 \n",
       "  2016.29,1139.46 2016.55,1139.68 2016.81,1139.91 2017.07,1140.14 2017.33,1140.37 2017.59,1140.6 2017.84,1140.84 2018.1,1141.07 2018.36,1141.31 2018.62,1141.55 \n",
       "  2018.88,1141.78 2019.14,1142.02 2019.4,1142.27 2019.66,1142.51 2019.92,1142.75 2020.18,1143 2020.43,1143.25 2020.69,1143.5 2020.95,1143.75 2021.21,1144 \n",
       "  2021.47,1144.25 2021.73,1144.5 2021.99,1144.76 2022.25,1145.02 2022.51,1145.27 2022.77,1145.53 2023.02,1145.79 2023.28,1146.05 2023.54,1146.32 2023.8,1146.58 \n",
       "  2024.06,1146.85 2024.32,1147.11 2024.58,1147.38 2024.84,1147.65 2025.1,1147.92 2025.36,1148.19 2025.61,1148.47 2025.87,1148.74 2026.13,1149.01 2026.39,1149.29 \n",
       "  2026.65,1149.57 2026.91,1149.85 2027.17,1150.13 2027.43,1150.41 2027.69,1150.69 2027.95,1150.97 2028.21,1151.26 2028.46,1151.54 2028.72,1151.83 2028.98,1152.12 \n",
       "  2029.24,1152.4 2029.5,1152.69 2029.76,1152.98 2030.02,1153.28 2030.28,1153.57 2030.54,1153.86 2030.8,1154.16 2031.05,1154.45 2031.31,1154.75 2031.57,1155.05 \n",
       "  2031.83,1155.35 2032.09,1155.65 2032.35,1155.95 2032.61,1156.25 2032.87,1156.55 2033.13,1156.86 2033.39,1157.16 2033.64,1157.47 2033.9,1157.78 2034.16,1158.08 \n",
       "  2034.42,1158.39 2034.68,1158.7 2034.94,1159.01 2035.2,1159.32 2035.46,1159.64 2035.72,1159.95 2035.98,1160.26 2036.23,1160.58 2036.49,1160.9 2036.75,1161.21 \n",
       "  2037.01,1161.53 2037.27,1161.85 2037.53,1162.17 2037.79,1162.49 2038.05,1162.81 2038.31,1163.13 2038.57,1163.45 2038.82,1163.78 2039.08,1164.1 2039.34,1164.42 \n",
       "  2039.6,1164.75 2039.86,1165.08 2040.12,1165.4 2040.38,1165.73 2040.64,1166.06 2040.9,1166.39 2041.16,1166.72 2041.41,1167.05 2041.67,1167.38 2041.93,1167.71 \n",
       "  2042.19,1168.04 2042.45,1168.38 2042.71,1168.71 2042.97,1169.05 2043.23,1169.38 2043.49,1169.72 2043.75,1170.05 2044.01,1170.39 2044.26,1170.73 2044.52,1171.07 \n",
       "  2044.78,1171.41 2045.04,1171.75 2045.3,1172.09 2045.56,1172.43 2045.82,1172.77 2046.08,1173.11 2046.34,1173.45 2046.6,1173.79 2046.85,1174.14 2047.11,1174.48 \n",
       "  2047.37,1174.83 2047.63,1175.17 2047.89,1175.52 2048.15,1175.86 2048.41,1176.21 2048.67,1176.56 2048.93,1176.9 2049.19,1177.25 2049.44,1177.6 2049.7,1177.95 \n",
       "  2049.96,1178.29 2050.22,1178.64 2050.48,1178.99 2050.74,1179.34 2051,1179.69 2051.26,1180.04 2051.52,1180.4 2051.78,1180.75 2052.03,1181.1 2052.29,1181.45 \n",
       "  2052.55,1181.8 2052.81,1182.16 2053.07,1182.51 2053.33,1182.86 2053.59,1183.22 2053.85,1183.57 2054.11,1183.92 2054.37,1184.28 2054.62,1184.63 2054.88,1184.99 \n",
       "  2055.14,1185.34 2055.4,1185.7 2055.66,1186.05 2055.92,1186.41 2056.18,1186.77 2056.44,1187.12 2056.7,1187.48 2056.96,1187.83 2057.22,1188.19 2057.47,1188.55 \n",
       "  2057.73,1188.9 2057.99,1189.26 2058.25,1189.62 2058.51,1189.98 2058.77,1190.33 2059.03,1190.69 2059.29,1191.05 2059.55,1191.41 2059.81,1191.76 2060.06,1192.12 \n",
       "  2060.32,1192.48 2060.58,1192.84 2060.84,1193.2 2061.1,1193.55 2061.36,1193.91 2061.62,1194.27 2061.88,1194.63 2062.14,1194.99 2062.4,1195.34 2062.65,1195.7 \n",
       "  2062.91,1196.06 2063.17,1196.42 2063.43,1196.77 2063.69,1197.13 2063.95,1197.49 2064.21,1197.85 2064.47,1198.21 2064.73,1198.56 2064.99,1198.92 2065.24,1199.28 \n",
       "  2065.5,1199.63 2065.76,1199.99 2066.02,1200.35 2066.28,1200.7 2066.54,1201.06 2066.8,1201.42 2067.06,1201.77 2067.32,1202.13 2067.58,1202.48 2067.83,1202.84 \n",
       "  2068.09,1203.2 2068.35,1203.55 2068.61,1203.91 2068.87,1204.26 2069.13,1204.61 2069.39,1204.97 2069.65,1205.32 2069.91,1205.68 2070.17,1206.03 2070.43,1206.38 \n",
       "  2070.68,1206.74 2070.94,1207.09 2071.2,1207.44 2071.46,1207.79 2071.72,1208.14 2071.98,1208.49 2072.24,1208.84 2072.5,1209.19 2072.76,1209.54 2073.02,1209.89 \n",
       "  2073.27,1210.24 2073.53,1210.59 2073.79,1210.94 2074.05,1211.29 2074.31,1211.64 2074.57,1211.98 2074.83,1212.33 2075.09,1212.68 2075.35,1213.02 2075.61,1213.37 \n",
       "  2075.86,1213.71 2076.12,1214.06 2076.38,1214.4 2076.64,1214.75 2076.9,1215.09 2077.16,1215.43 2077.42,1215.77 2077.68,1216.11 2077.94,1216.46 2078.2,1216.8 \n",
       "  2078.45,1217.14 2078.71,1217.47 2078.97,1217.81 2079.23,1218.15 2079.49,1218.49 2079.75,1218.83 2080.01,1219.16 2080.27,1219.5 2080.53,1219.83 2080.79,1220.17 \n",
       "  2081.04,1220.5 2081.3,1220.83 2081.56,1221.17 2081.82,1221.5 2082.08,1221.83 2082.34,1222.16 2082.6,1222.49 2082.86,1222.82 2083.12,1223.15 2083.38,1223.48 \n",
       "  2083.64,1223.8 2083.89,1224.13 2084.15,1224.46 2084.41,1224.78 2084.67,1225.11 2084.93,1225.43 2085.19,1225.75 2085.45,1226.07 2085.71,1226.4 2085.97,1226.72 \n",
       "  2086.23,1227.04 2086.48,1227.35 2086.74,1227.67 2087,1227.99 2087.26,1228.31 2087.52,1228.62 2087.78,1228.94 2088.04,1229.25 2088.3,1229.56 2088.56,1229.88 \n",
       "  2088.82,1230.19 2089.07,1230.5 2089.33,1230.81 2089.59,1231.12 2089.85,1231.43 2090.11,1231.73 2090.37,1232.04 2090.63,1232.34 2090.89,1232.65 2091.15,1232.95 \n",
       "  2091.41,1233.25 2091.66,1233.56 2091.92,1233.86 2092.18,1234.16 2092.44,1234.46 2092.7,1234.75 2092.96,1235.05 2093.22,1235.35 2093.48,1235.64 2093.74,1235.93 \n",
       "  2094,1236.23 2094.25,1236.52 2094.51,1236.81 2094.77,1237.1 2095.03,1237.39 2095.29,1237.68 2095.55,1237.96 2095.81,1238.25 2096.07,1238.53 2096.33,1238.82 \n",
       "  2096.59,1239.1 2096.85,1239.38 2097.1,1239.66 2097.36,1239.94 2097.62,1240.22 2097.88,1240.5 2098.14,1240.77 2098.4,1241.05 2098.66,1241.32 2098.92,1241.59 \n",
       "  2099.18,1241.87 2099.44,1242.14 2099.69,1242.41 2099.95,1242.67 2100.21,1242.94 2100.47,1243.21 2100.73,1243.47 2100.99,1243.74 2101.25,1244 2101.51,1244.26 \n",
       "  2101.77,1244.52 2102.03,1244.78 2102.28,1245.04 2102.54,1245.29 2102.8,1245.55 2103.06,1245.8 2103.32,1246.06 2103.58,1246.31 2103.84,1246.56 2104.1,1246.81 \n",
       "  2104.36,1247.05 2104.62,1247.3 2104.87,1247.55 2105.13,1247.79 2105.39,1248.03 2105.65,1248.28 2105.91,1248.52 2106.17,1248.76 2106.43,1248.99 2106.69,1249.23 \n",
       "  2106.95,1249.47 2107.21,1249.7 2107.46,1249.93 2107.72,1250.16 2107.98,1250.39 2108.24,1250.62 2108.5,1250.85 2108.76,1251.08 2109.02,1251.3 2109.28,1251.52 \n",
       "  2109.54,1251.75 2109.8,1251.97 2110.06,1252.19 2110.31,1252.4 2110.57,1252.62 2110.83,1252.84 2111.09,1253.05 2111.35,1253.26 2111.61,1253.48 2111.87,1253.68 \n",
       "  2112.13,1253.89 2112.39,1254.1 2112.65,1254.31 2112.9,1254.51 2113.16,1254.71 2113.42,1254.92 2113.68,1255.12 2113.94,1255.31 2114.2,1255.51 2114.46,1255.71 \n",
       "  2114.72,1255.9 2114.98,1256.09 2115.24,1256.29 2115.49,1256.48 2115.75,1256.67 2116.01,1256.85 2116.27,1257.04 2116.53,1257.22 2116.79,1257.41 2117.05,1257.59 \n",
       "  2117.31,1257.77 2117.57,1257.95 2117.83,1258.12 2118.08,1258.3 2118.34,1258.47 2118.6,1258.65 2118.86,1258.82 2119.12,1258.99 2119.38,1259.15 2119.64,1259.32 \n",
       "  2119.9,1259.49 2120.16,1259.65 2120.42,1259.81 2120.67,1259.97 2120.93,1260.13 2121.19,1260.29 2121.45,1260.45 2121.71,1260.6 2121.97,1260.75 2122.23,1260.9 \n",
       "  2122.49,1261.05 2122.75,1261.2 2123.01,1261.35 2123.27,1261.5 2123.52,1261.64 2123.78,1261.78 2124.04,1261.92 2124.3,1262.06 2124.56,1262.2 2124.82,1262.34 \n",
       "  2125.08,1262.47 2125.34,1262.6 2125.6,1262.74 2125.86,1262.87 2126.11,1262.99 2126.37,1263.12 2126.63,1263.25 2126.89,1263.37 2127.15,1263.49 2127.41,1263.61 \n",
       "  2127.67,1263.73 2127.93,1263.85 2128.19,1263.96 2128.45,1264.08 2128.7,1264.19 2128.96,1264.3 2129.22,1264.41 2129.48,1264.52 2129.74,1264.63 2130,1264.73 \n",
       "  2130.26,1264.83 2130.52,1264.93 2130.78,1265.03 2131.04,1265.13 2131.29,1265.23 2131.55,1265.32 2131.81,1265.42 2132.07,1265.51 2132.33,1265.6 2132.59,1265.69 \n",
       "  2132.85,1265.78 2133.11,1265.86 2133.37,1265.95 2133.63,1266.03 2133.88,1266.11 2134.14,1266.19 2134.4,1266.26 2134.66,1266.34 2134.92,1266.41 2135.18,1266.49 \n",
       "  2135.44,1266.56 2135.7,1266.63 2135.96,1266.69 2136.22,1266.76 2136.47,1266.83 2136.73,1266.89 2136.99,1266.95 2137.25,1267.01 2137.51,1267.07 2137.77,1267.12 \n",
       "  2138.03,1267.18 2138.29,1267.23 2138.55,1267.28 2138.81,1267.33 2139.07,1267.38 2139.32,1267.43 2139.58,1267.47 2139.84,1267.52 2140.1,1267.56 2140.36,1267.6 \n",
       "  2140.62,1267.64 2140.88,1267.67 2141.14,1267.71 2141.4,1267.74 2141.66,1267.77 2141.91,1267.8 2142.17,1267.83 2142.43,1267.86 2142.69,1267.88 2142.95,1267.91 \n",
       "  2143.21,1267.93 2143.47,1267.95 2143.73,1267.97 2143.99,1267.99 2144.25,1268 2144.5,1268.02 2144.76,1268.03 2145.02,1268.04 2145.28,1268.05 2145.54,1268.06 \n",
       "  2145.8,1268.06 2146.06,1268.07 2146.32,1268.07 2146.58,1268.07 2146.84,1268.07 2147.09,1268.07 2147.35,1268.06 2147.61,1268.06 2147.87,1268.05 2148.13,1268.04 \n",
       "  2148.39,1268.03 2148.65,1268.02 2148.91,1268.01 2149.17,1267.99 2149.43,1267.97 2149.68,1267.96 2149.94,1267.94 2150.2,1267.92 2150.46,1267.89 2150.72,1267.87 \n",
       "  2150.98,1267.84 2151.24,1267.81 2151.5,1267.78 2151.76,1267.75 2152.02,1267.72 2152.28,1267.69 2152.53,1267.65 2152.79,1267.61 2153.05,1267.57 2153.31,1267.53 \n",
       "  2153.57,1267.49 2153.83,1267.45 2154.09,1267.4 2154.35,1267.36 2154.61,1267.31 2154.87,1267.26 2155.12,1267.21 2155.38,1267.15 2155.64,1267.1 2155.9,1267.04 \n",
       "  2156.16,1266.98 2156.42,1266.92 2156.68,1266.86 2156.94,1266.8 2157.2,1266.74 2157.46,1266.67 2157.71,1266.6 2157.97,1266.53 2158.23,1266.46 2158.49,1266.39 \n",
       "  2158.75,1266.32 2159.01,1266.24 2159.27,1266.17 2159.53,1266.09 2159.79,1266.01 2160.05,1265.93 2160.3,1265.85 2160.56,1265.76 2160.82,1265.68 2161.08,1265.59 \n",
       "  2161.34,1265.5 2161.6,1265.41 2161.86,1265.32 2162.12,1265.23 2162.38,1265.13 2162.64,1265.04 2162.89,1264.94 2163.15,1264.84 2163.41,1264.74 2163.67,1264.64 \n",
       "  2163.93,1264.54 2164.19,1264.43 2164.45,1264.33 2164.71,1264.22 2164.97,1264.11 2165.23,1264 2165.49,1263.89 2165.74,1263.77 2166,1263.66 2166.26,1263.54 \n",
       "  2166.52,1263.42 2166.78,1263.3 2167.04,1263.18 2167.3,1263.06 2167.56,1262.94 2167.82,1262.81 2168.08,1262.69 2168.33,1262.56 2168.59,1262.43 2168.85,1262.3 \n",
       "  2169.11,1262.17 2169.37,1262.03 2169.63,1261.9 2169.89,1261.76 2170.15,1261.62 2170.41,1261.49 2170.67,1261.35 2170.92,1261.2 2171.18,1261.06 2171.44,1260.92 \n",
       "  2171.7,1260.77 2171.96,1260.62 2172.22,1260.47 2172.48,1260.32 2172.74,1260.17 2173,1260.02 2173.26,1259.87 2173.51,1259.71 2173.77,1259.56 2174.03,1259.4 \n",
       "  2174.29,1259.24 2174.55,1259.08 2174.81,1258.92 2175.07,1258.75 2175.33,1258.59 2175.59,1258.42 2175.85,1258.26 2176.1,1258.09 2176.36,1257.92 2176.62,1257.75 \n",
       "  2176.88,1257.58 2177.14,1257.4 2177.4,1257.23 2177.66,1257.05 2177.92,1256.88 2178.18,1256.7 2178.44,1256.52 2178.7,1256.34 2178.95,1256.16 2179.21,1255.97 \n",
       "  2179.47,1255.79 2179.73,1255.6 2179.99,1255.42 2180.25,1255.23 2180.51,1255.04 2180.77,1254.85 2181.03,1254.66 2181.29,1254.47 2181.54,1254.27 2181.8,1254.08 \n",
       "  2182.06,1253.88 2182.32,1253.68 2182.58,1253.49 2182.84,1253.29 2183.1,1253.09 2183.36,1252.88 2183.62,1252.68 2183.88,1252.48 2184.13,1252.27 2184.39,1252.07 \n",
       "  2184.65,1251.86 2184.91,1251.65 2185.17,1251.44 2185.43,1251.23 2185.69,1251.02 2185.95,1250.81 2186.21,1250.59 2186.47,1250.38 2186.72,1250.16 2186.98,1249.94 \n",
       "  2187.24,1249.73 2187.5,1249.51 2187.76,1249.29 2188.02,1249.07 2188.28,1248.84 2188.54,1248.62 2188.8,1248.4 2189.06,1248.17 2189.31,1247.94 2189.57,1247.72 \n",
       "  2189.83,1247.49 2190.09,1247.26 2190.35,1247.03 2190.61,1246.8 2190.87,1246.57 2191.13,1246.33 2191.39,1246.1 2191.65,1245.87 2191.91,1245.63 2192.16,1245.39 \n",
       "  2192.42,1245.16 2192.68,1244.92 2192.94,1244.68 2193.2,1244.44 2193.46,1244.2 2193.72,1243.95 2193.98,1243.71 2194.24,1243.47 2194.5,1243.22 2194.75,1242.98 \n",
       "  2195.01,1242.73 2195.27,1242.48 2195.53,1242.23 2195.79,1241.99 2196.05,1241.74 2196.31,1241.49 2196.57,1241.23 2196.83,1240.98 2197.09,1240.73 2197.34,1240.47 \n",
       "  2197.6,1240.22 2197.86,1239.96 2198.12,1239.71 2198.38,1239.45 2198.64,1239.19 2198.9,1238.94 2199.16,1238.68 2199.42,1238.42 2199.68,1238.16 2199.93,1237.89 \n",
       "  2200.19,1237.63 2200.45,1237.37 2200.71,1237.11 2200.97,1236.84 2201.23,1236.58 2201.49,1236.31 2201.75,1236.05 2202.01,1235.78 2202.27,1235.51 2202.52,1235.24 \n",
       "  2202.78,1234.97 2203.04,1234.7 2203.3,1234.43 2203.56,1234.16 2203.82,1233.89 2204.08,1233.62 2204.34,1233.35 2204.6,1233.07 2204.86,1232.8 2205.12,1232.53 \n",
       "  2205.37,1232.25 2205.63,1231.97 2205.89,1231.7 2206.15,1231.42 2206.41,1231.14 2206.67,1230.87 2206.93,1230.59 2207.19,1230.31 2207.45,1230.03 2207.71,1229.75 \n",
       "  2207.96,1229.47 2208.22,1229.19 2208.48,1228.91 2208.74,1228.63 2209,1228.34 2209.26,1228.06 2209.52,1227.78 2209.78,1227.49 2210.04,1227.21 2210.3,1226.92 \n",
       "  2210.55,1226.64 2210.81,1226.35 2211.07,1226.07 2211.33,1225.78 2211.59,1225.49 2211.85,1225.21 2212.11,1224.92 2212.37,1224.63 2212.63,1224.34 2212.89,1224.06 \n",
       "  2213.14,1223.77 2213.4,1223.48 2213.66,1223.19 2213.92,1222.9 2214.18,1222.61 2214.44,1222.32 2214.7,1222.03 2214.96,1221.73 2215.22,1221.44 2215.48,1221.15 \n",
       "  2215.73,1220.86 2215.99,1220.57 2216.25,1220.27 2216.51,1219.98 2216.77,1219.69 2217.03,1219.39 2217.29,1219.1 2217.55,1218.81 2217.81,1218.51 2218.07,1218.22 \n",
       "  2218.33,1217.92 2218.58,1217.63 2218.84,1217.33 2219.1,1217.04 2219.36,1216.74 2219.62,1216.45 2219.88,1216.15 2220.14,1215.85 2220.4,1215.56 2220.66,1215.26 \n",
       "  2220.92,1214.97 2221.17,1214.67 2221.43,1214.37 2221.69,1214.08 2221.95,1213.78 2222.21,1213.48 2222.47,1213.19 2222.73,1212.89 2222.99,1212.59 2223.25,1212.29 \n",
       "  2223.51,1212 2223.76,1211.7 2224.02,1211.4 2224.28,1211.1 2224.54,1210.81 2224.8,1210.51 2225.06,1210.21 2225.32,1209.91 2225.58,1209.62 2225.84,1209.32 \n",
       "  2226.1,1209.02 2226.35,1208.72 2226.61,1208.43 2226.87,1208.13 2227.13,1207.83 2227.39,1207.53 2227.65,1207.24 2227.91,1206.94 2228.17,1206.64 2228.43,1206.35 \n",
       "  2228.69,1206.05 2228.94,1205.75 2229.2,1205.45 2229.46,1205.16 2229.72,1204.86 2229.98,1204.56 2230.24,1204.27 2230.5,1203.97 2230.76,1203.68 2231.02,1203.38 \n",
       "  2231.28,1203.08 2231.53,1202.79 2231.79,1202.49 2232.05,1202.2 2232.31,1201.9 2232.57,1201.61 2232.83,1201.31 2233.09,1201.02 2233.35,1200.72 2233.61,1200.43 \n",
       "  2233.87,1200.14 2234.13,1199.84 2234.38,1199.55 2234.64,1199.26 2234.9,1198.96 2235.16,1198.67 2235.42,1198.38 2235.68,1198.09 2235.94,1197.8 2236.2,1197.5 \n",
       "  2236.46,1197.21 2236.72,1196.92 2236.97,1196.63 2237.23,1196.34 2237.49,1196.05 2237.75,1195.76 2238.01,1195.47 2238.27,1195.18 2238.53,1194.9 2238.79,1194.61 \n",
       "  2239.05,1194.32 2239.31,1194.03 2239.56,1193.75 2239.82,1193.46 2240.08,1193.17 2240.34,1192.89 2240.6,1192.6 2240.86,1192.32 2241.12,1192.03 2241.38,1191.75 \n",
       "  2241.64,1191.46 2241.9,1191.18 2242.15,1190.9 2242.41,1190.62 2242.67,1190.33 2242.93,1190.05 2243.19,1189.77 2243.45,1189.49 2243.71,1189.21 2243.97,1188.93 \n",
       "  2244.23,1188.65 2244.49,1188.38 2244.74,1188.1 2245,1187.82 2245.26,1187.54 2245.52,1187.27 2245.78,1186.99 2246.04,1186.72 2246.3,1186.44 2246.56,1186.17 \n",
       "  2246.82,1185.89 2247.08,1185.62 2247.34,1185.35 2247.59,1185.08 2247.85,1184.81 2248.11,1184.54 2248.37,1184.27 2248.63,1184 2248.89,1183.73 2249.15,1183.46 \n",
       "  2249.41,1183.19 2249.67,1182.93 2249.93,1182.66 2250.18,1182.4 2250.44,1182.13 2250.7,1181.87 2250.96,1181.6 2251.22,1181.34 2251.48,1181.08 2251.74,1180.82 \n",
       "  2252,1180.56 2252.26,1180.3 2252.52,1180.04 2252.77,1179.78 2253.03,1179.52 2253.29,1179.26 2253.55,1179.01 2253.81,1178.75 2254.07,1178.5 2254.33,1178.24 \n",
       "  2254.59,1177.99 2254.85,1177.74 2255.11,1177.49 2255.36,1177.24 2255.62,1176.99 2255.88,1176.74 2256.14,1176.49 2256.4,1176.24 2256.66,1175.99 2256.92,1175.75 \n",
       "  2257.18,1175.5 2257.44,1175.26 2257.7,1175.01 2257.95,1174.77 2258.21,1174.53 2258.47,1174.29 2258.73,1174.05 2258.99,1173.81 2259.25,1173.57 2259.51,1173.33 \n",
       "  2259.77,1173.09 2260.03,1172.86 2260.29,1172.62 2260.55,1172.39 2260.8,1172.16 2261.06,1171.92 2261.32,1171.69 2261.58,1171.46 2261.84,1171.23 2262.1,1171 \n",
       "  2262.36,1170.78 2262.62,1170.55 2262.88,1170.32 2263.14,1170.1 2263.39,1169.87 2263.65,1169.65 2263.91,1169.43 2264.17,1169.21 2264.43,1168.99 2264.69,1168.77 \n",
       "  2264.95,1168.55 2265.21,1168.33 2265.47,1168.12 2265.73,1167.9 2265.98,1167.69 2266.24,1167.47 2266.5,1167.26 2266.76,1167.05 2267.02,1166.84 2267.28,1166.63 \n",
       "  2267.54,1166.42 2267.8,1166.22 2268.06,1166.01 2268.32,1165.8 2268.57,1165.6 2268.83,1165.4 2269.09,1165.2 2269.35,1164.99 2269.61,1164.79 2269.87,1164.6 \n",
       "  2270.13,1164.4 2270.39,1164.2 2270.65,1164.01 2270.91,1163.81 2271.16,1163.62 2271.42,1163.43 2271.68,1163.23 2271.94,1163.04 2272.2,1162.86 2272.46,1162.67 \n",
       "  2272.72,1162.48 2272.98,1162.3 2273.24,1162.11 2273.5,1161.93 2273.76,1161.75 2274.01,1161.56 2274.27,1161.38 2274.53,1161.21 2274.79,1161.03 2275.05,1160.85 \n",
       "  2275.31,1160.68 2275.57,1160.5 2275.83,1160.33 2276.09,1160.16 2276.35,1159.99 2276.6,1159.82 2276.86,1159.65 2277.12,1159.48 2277.38,1159.31 2277.64,1159.15 \n",
       "  2277.9,1158.99 2278.16,1158.82 2278.42,1158.66 2278.68,1158.5 2278.94,1158.34 2279.19,1158.19 2279.45,1158.03 2279.71,1157.87 2279.97,1157.72 2280.23,1157.57 \n",
       "  2280.49,1157.42 2280.75,1157.27 2281.01,1157.12 2281.27,1156.97 2281.53,1156.82 2281.78,1156.68 2282.04,1156.53 2282.3,1156.39 2282.56,1156.25 2282.82,1156.11 \n",
       "  2283.08,1155.97 2283.34,1155.83 2283.6,1155.69 2283.86,1155.56 2284.12,1155.42 2284.37,1155.29 2284.63,1155.16 2284.89,1155.03 2285.15,1154.9 2285.41,1154.77 \n",
       "  2285.67,1154.65 2285.93,1154.52 2286.19,1154.4 2286.45,1154.27 2286.71,1154.15 2286.97,1154.03 2287.22,1153.91 2287.48,1153.8 2287.74,1153.68 2288,1153.57 \n",
       "  2288.26,1153.45 2288.52,1153.34 2288.78,1153.23 2289.04,1153.12 2289.3,1153.01 2289.56,1152.9 2289.81,1152.8 2290.07,1152.69 2290.33,1152.59 2290.59,1152.49 \n",
       "  \n",
       "  \"/>\n",
       "<path clip-path=\"url(#clip810)\" d=\"\n",
       "M1983.06 198.898 L2279.54 198.898 L2279.54 95.2176 L1983.06 95.2176  Z\n",
       "  \" fill=\"#ffffff\" fill-rule=\"evenodd\" fill-opacity=\"1\"/>\n",
       "<polyline clip-path=\"url(#clip810)\" style=\"stroke:#000000; stroke-linecap:butt; stroke-linejoin:round; stroke-width:4; stroke-opacity:1; fill:none\" points=\"\n",
       "  1983.06,198.898 2279.54,198.898 2279.54,95.2176 1983.06,95.2176 1983.06,198.898 \n",
       "  \"/>\n",
       "<polyline clip-path=\"url(#clip810)\" style=\"stroke:#009af9; stroke-linecap:butt; stroke-linejoin:round; stroke-width:4; stroke-opacity:1; fill:none\" points=\"\n",
       "  2007.46,147.058 2153.89,147.058 \n",
       "  \"/>\n",
       "<path clip-path=\"url(#clip810)\" d=\"M2192.14 166.745 Q2190.34 171.375 2188.62 172.787 Q2186.91 174.199 2184.04 174.199 L2180.64 174.199 L2180.64 170.634 L2183.14 170.634 Q2184.9 170.634 2185.87 169.8 Q2186.84 168.967 2188.02 165.865 L2188.78 163.921 L2178.3 138.412 L2182.81 138.412 L2190.91 158.689 L2199.02 138.412 L2203.53 138.412 L2192.14 166.745 Z\" fill=\"#000000\" fill-rule=\"evenodd\" fill-opacity=\"1\" /><path clip-path=\"url(#clip810)\" d=\"M2210.82 160.402 L2218.46 160.402 L2218.46 134.037 L2210.15 135.703 L2210.15 131.444 L2218.41 129.778 L2223.09 129.778 L2223.09 160.402 L2230.73 160.402 L2230.73 164.338 L2210.82 164.338 L2210.82 160.402 Z\" fill=\"#000000\" fill-rule=\"evenodd\" fill-opacity=\"1\" /></svg>\n"
      ]
     },
     "execution_count": 30,
     "metadata": {},
     "output_type": "execute_result"
    }
   ],
   "source": [
    "plot(x,y)"
   ]
  },
  {
   "cell_type": "code",
   "execution_count": 111,
   "id": "cd5cde3b",
   "metadata": {},
   "outputs": [
    {
     "name": "stdout",
     "output_type": "stream",
     "text": [
      "(1, 1)\n",
      "(1, 2)\n",
      "(1, 3)\n",
      "(1, 4)\n",
      "(2, 1)\n",
      "(2, 2)\n",
      "(2, 3)\n",
      "(2, 4)\n",
      "(3, 1)\n",
      "(3, 2)\n",
      "(3, 3)\n",
      "(3, 4)\n",
      "(4, 1)\n",
      "(4, 2)\n",
      "(4, 3)\n",
      "(4, 4)\n"
     ]
    }
   ],
   "source": [
    "for a in 1:4, b in 1:4\n",
    "    println((a,b))\n",
    "end"
   ]
  },
  {
   "cell_type": "code",
   "execution_count": 116,
   "id": "c3a73196",
   "metadata": {},
   "outputs": [
    {
     "data": {
      "text/plain": [
       "Person(\"unamed\", -1)"
      ]
     },
     "execution_count": 116,
     "metadata": {},
     "output_type": "execute_result"
    }
   ],
   "source": [
    "struct Person\n",
    "    name\n",
    "    age\n",
    "end\n",
    "\n",
    "function Person(name)\n",
    "    Person(name, -1)\n",
    "end\n",
    "\n",
    "function Person()\n",
    "    Person(\"unamed\", -1)\n",
    "end\n",
    "\n",
    "#Person(\"Mary\", 30)\n",
    "#Person(\"Mary\")\n",
    "Person()"
   ]
  },
  {
   "cell_type": "code",
   "execution_count": 117,
   "id": "3bc2ff53",
   "metadata": {},
   "outputs": [],
   "source": [
    "struct Person2\n",
    "    name\n",
    "    age\n",
    "   \n",
    "    function Person2(name)\n",
    "       new(name, -1) \n",
    "    end\n",
    "    \n",
    "end"
   ]
  },
  {
   "cell_type": "code",
   "execution_count": 118,
   "id": "c86421a0",
   "metadata": {},
   "outputs": [
    {
     "data": {
      "text/plain": [
       "Person2(\"mariarita\", -1)"
      ]
     },
     "execution_count": 118,
     "metadata": {},
     "output_type": "execute_result"
    }
   ],
   "source": [
    "Person2(\"mariarita\")"
   ]
  },
  {
   "cell_type": "code",
   "execution_count": 120,
   "id": "f401c090",
   "metadata": {},
   "outputs": [
    {
     "data": {
      "text/plain": [
       "3-element Vector{Any}:\n",
       " 1\n",
       " 2\n",
       " 3"
      ]
     },
     "execution_count": 120,
     "metadata": {},
     "output_type": "execute_result"
    }
   ],
   "source": [
    "Any[1,2,3]"
   ]
  },
  {
   "cell_type": "code",
   "execution_count": 121,
   "id": "3de40f32",
   "metadata": {},
   "outputs": [
    {
     "data": {
      "text/plain": [
       "3-element Vector{Float64}:\n",
       " 1.0\n",
       " 2.0\n",
       " 3.0"
      ]
     },
     "execution_count": 121,
     "metadata": {},
     "output_type": "execute_result"
    }
   ],
   "source": [
    "Float64[1,2,3]"
   ]
  },
  {
   "cell_type": "code",
   "execution_count": 122,
   "id": "54b30a41",
   "metadata": {},
   "outputs": [
    {
     "data": {
      "text/plain": [
       "3-element Vector{Int64}:\n",
       " 1\n",
       " 2\n",
       " 3"
      ]
     },
     "execution_count": 122,
     "metadata": {},
     "output_type": "execute_result"
    }
   ],
   "source": [
    "a = [1,2,3]"
   ]
  },
  {
   "cell_type": "code",
   "execution_count": 124,
   "id": "c0e227b4",
   "metadata": {},
   "outputs": [
    {
     "data": {
      "text/plain": [
       "3"
      ]
     },
     "execution_count": 124,
     "metadata": {},
     "output_type": "execute_result"
    }
   ],
   "source": [
    "pop!(a)"
   ]
  },
  {
   "cell_type": "code",
   "execution_count": 125,
   "id": "1b5e0f9f",
   "metadata": {},
   "outputs": [
    {
     "data": {
      "text/plain": [
       "2-element Vector{Int64}:\n",
       " 1\n",
       " 2"
      ]
     },
     "execution_count": 125,
     "metadata": {},
     "output_type": "execute_result"
    }
   ],
   "source": [
    "a"
   ]
  },
  {
   "cell_type": "code",
   "execution_count": 126,
   "id": "4879167e",
   "metadata": {},
   "outputs": [
    {
     "data": {
      "text/plain": [
       "2×3 Matrix{Int64}:\n",
       " 1  2  3\n",
       " 4  5  6"
      ]
     },
     "execution_count": 126,
     "metadata": {},
     "output_type": "execute_result"
    }
   ],
   "source": [
    "M = [1 2 3\n",
    "    4 5 6 ]"
   ]
  },
  {
   "cell_type": "code",
   "execution_count": 144,
   "id": "aa615d23",
   "metadata": {},
   "outputs": [
    {
     "data": {
      "text/plain": [
       "3-element Vector{Int64}:\n",
       "  1\n",
       "  9\n",
       " 25"
      ]
     },
     "execution_count": 144,
     "metadata": {},
     "output_type": "execute_result"
    }
   ],
   "source": [
    "a = [x^2 for x in 1:5 if x ∉ (2, 4)]"
   ]
  },
  {
   "cell_type": "code",
   "execution_count": 145,
   "id": "46920108",
   "metadata": {},
   "outputs": [
    {
     "data": {
      "text/plain": [
       "fibonacci (generic function with 1 method)"
      ]
     },
     "execution_count": 145,
     "metadata": {},
     "output_type": "execute_result"
    }
   ],
   "source": [
    "function fibonacci(n)\n",
    "    Channel() do ch\n",
    "        a,b = 1,1\n",
    "        for i in 1:n\n",
    "            put!(ch, a)\n",
    "            a,b = b, a + b\n",
    "        end\n",
    "    end\n",
    "end"
   ]
  },
  {
   "cell_type": "code",
   "execution_count": 147,
   "id": "b3f6244c",
   "metadata": {},
   "outputs": [
    {
     "name": "stdout",
     "output_type": "stream",
     "text": [
      "1\n",
      "1\n",
      "2\n",
      "3\n",
      "5\n",
      "8\n",
      "13\n",
      "21\n",
      "34\n",
      "55\n"
     ]
    }
   ],
   "source": [
    "for f in fibonacci(10)\n",
    "    println(f)\n",
    "end"
   ]
  },
  {
   "cell_type": "code",
   "execution_count": 151,
   "id": "12cd7c08",
   "metadata": {},
   "outputs": [
    {
     "name": "stdout",
     "output_type": "stream",
     "text": [
      "1\n",
      "1\n",
      "2\n",
      "3\n",
      "5\n",
      "8\n",
      "13\n",
      "21\n",
      "34\n",
      "55\n",
      "89\n",
      "144\n",
      "233\n",
      "377\n",
      "610\n",
      "987\n",
      "1597\n",
      "2584\n",
      "4181\n",
      "6765\n"
     ]
    },
    {
     "ename": "LoadError",
     "evalue": "InvalidStateException(\"Channel is closed.\", :closed)",
     "output_type": "error",
     "traceback": [
      "InvalidStateException(\"Channel is closed.\", :closed)",
      "",
      "Stacktrace:",
      " [1] check_channel_state",
      "   @ ./channels.jl:170 [inlined]",
      " [2] take_unbuffered(c::Channel{Any})",
      "   @ Base ./channels.jl:403",
      " [3] take!(c::Channel{Any})",
      "   @ Base ./channels.jl:383",
      " [4] top-level scope",
      "   @ ./In[151]:3",
      " [5] eval",
      "   @ ./boot.jl:360 [inlined]",
      " [6] include_string(mapexpr::typeof(REPL.softscope), mod::Module, code::String, filename::String)",
      "   @ Base ./loading.jl:1116"
     ]
    }
   ],
   "source": [
    "ch = fibonacci(20)\n",
    "for i in 1:30\n",
    "    println(take!(ch))\n",
    "end"
   ]
  },
  {
   "cell_type": "code",
   "execution_count": 3,
   "id": "8bc39e32",
   "metadata": {},
   "outputs": [
    {
     "data": {
      "text/plain": [
       "12"
      ]
     },
     "execution_count": 3,
     "metadata": {},
     "output_type": "execute_result"
    }
   ],
   "source": [
    "using Base.Threads\n",
    "nthreads()"
   ]
  },
  {
   "cell_type": "code",
   "execution_count": 4,
   "id": "77c713ee",
   "metadata": {},
   "outputs": [
    {
     "name": "stdout",
     "output_type": "stream",
     "text": [
      "thread #5 is starting task #5\n",
      "thread #3 is starting task #3\n",
      "thread #7 is starting task #7\n",
      "thread #10 is starting task #10\n",
      "thread #1 is starting task #1\n",
      "thread #8 is starting task #8\n",
      "thread #2 is starting task #2\n",
      "thread #6 is starting task #6\n",
      "thread #4 is starting task #4\n",
      "thread #9 is starting task #9\n",
      "thread #8 is finished\n",
      "thread #5 is finished\n",
      "thread #3 is finished\n",
      "thread #7 is finished\n",
      "thread #10 is finished\n",
      "thread #9 is finished\n",
      "thread #4 is finished\n",
      "thread #6 is finished\n",
      "thread #2 is finished\n",
      "thread #1 is finished\n"
     ]
    }
   ],
   "source": [
    "@threads for i in 1:10\n",
    "    println(\"thread #\", threadid(), \" is starting task #$i\")\n",
    "    sleep(rand()) # pretend we're actually working\n",
    "    println(\"thread #\", threadid(), \" is finished\")\n",
    "end"
   ]
  },
  {
   "cell_type": "code",
   "execution_count": 5,
   "id": "892c51cf",
   "metadata": {},
   "outputs": [
    {
     "data": {
      "text/plain": [
       "parallel_estimate_pi2 (generic function with 1 method)"
      ]
     },
     "execution_count": 5,
     "metadata": {},
     "output_type": "execute_result"
    }
   ],
   "source": [
    "function parallel_estimate_pi2(n)\n",
    "    4.0 * mapreduce(i -> (isodd(i) ? -1 : 1) / (2i + 1), +, 0:n)\n",
    "end"
   ]
  },
  {
   "cell_type": "code",
   "execution_count": 14,
   "id": "a709bff8-c277-42f1-9888-886913594a82",
   "metadata": {},
   "outputs": [
    {
     "data": {
      "text/plain": [
       "BenchmarkTools.Trial: 9 samples with 1 evaluation.\n",
       " Range \u001b[90m(\u001b[39m\u001b[36m\u001b[1mmin\u001b[22m\u001b[39m … \u001b[35mmax\u001b[39m\u001b[90m):  \u001b[39m\u001b[36m\u001b[1m587.002 ms\u001b[22m\u001b[39m … \u001b[35m607.701 ms\u001b[39m  \u001b[90m┊\u001b[39m GC \u001b[90m(\u001b[39mmin … max\u001b[90m): \u001b[39m0.00% … 0.00%\n",
       " Time  \u001b[90m(\u001b[39m\u001b[34m\u001b[1mmedian\u001b[22m\u001b[39m\u001b[90m):     \u001b[39m\u001b[34m\u001b[1m600.388 ms               \u001b[22m\u001b[39m\u001b[90m┊\u001b[39m GC \u001b[90m(\u001b[39mmedian\u001b[90m):    \u001b[39m0.00%\n",
       " Time  \u001b[90m(\u001b[39m\u001b[32m\u001b[1mmean\u001b[22m\u001b[39m ± \u001b[32mσ\u001b[39m\u001b[90m):   \u001b[39m\u001b[32m\u001b[1m599.841 ms\u001b[22m\u001b[39m ± \u001b[32m  7.171 ms\u001b[39m  \u001b[90m┊\u001b[39m GC \u001b[90m(\u001b[39mmean ± σ\u001b[90m):  \u001b[39m0.00% ± 0.00%\n",
       "\n",
       "  \u001b[39m█\u001b[39m \u001b[39m \u001b[39m \u001b[39m \u001b[39m \u001b[39m \u001b[39m \u001b[39m \u001b[39m \u001b[39m \u001b[39m \u001b[39m \u001b[39m█\u001b[39m \u001b[39m \u001b[39m \u001b[39m \u001b[39m \u001b[39m \u001b[39m \u001b[39m \u001b[39m \u001b[39m \u001b[39m \u001b[39m█\u001b[39m \u001b[39m \u001b[39m \u001b[39m \u001b[39m \u001b[39m \u001b[39m \u001b[39m \u001b[39m \u001b[39m \u001b[39m█\u001b[34m \u001b[39m\u001b[32m \u001b[39m\u001b[39m█\u001b[39m \u001b[39m \u001b[39m \u001b[39m \u001b[39m \u001b[39m \u001b[39m \u001b[39m \u001b[39m \u001b[39m \u001b[39m█\u001b[39m \u001b[39m \u001b[39m \u001b[39m█\u001b[39m \u001b[39m \u001b[39m \u001b[39m \u001b[39m█\u001b[39m█\u001b[39m \u001b[39m \n",
       "  \u001b[39m█\u001b[39m▁\u001b[39m▁\u001b[39m▁\u001b[39m▁\u001b[39m▁\u001b[39m▁\u001b[39m▁\u001b[39m▁\u001b[39m▁\u001b[39m▁\u001b[39m▁\u001b[39m▁\u001b[39m█\u001b[39m▁\u001b[39m▁\u001b[39m▁\u001b[39m▁\u001b[39m▁\u001b[39m▁\u001b[39m▁\u001b[39m▁\u001b[39m▁\u001b[39m▁\u001b[39m▁\u001b[39m█\u001b[39m▁\u001b[39m▁\u001b[39m▁\u001b[39m▁\u001b[39m▁\u001b[39m▁\u001b[39m▁\u001b[39m▁\u001b[39m▁\u001b[39m▁\u001b[39m█\u001b[34m▁\u001b[39m\u001b[32m▁\u001b[39m\u001b[39m█\u001b[39m▁\u001b[39m▁\u001b[39m▁\u001b[39m▁\u001b[39m▁\u001b[39m▁\u001b[39m▁\u001b[39m▁\u001b[39m▁\u001b[39m▁\u001b[39m█\u001b[39m▁\u001b[39m▁\u001b[39m▁\u001b[39m█\u001b[39m▁\u001b[39m▁\u001b[39m▁\u001b[39m▁\u001b[39m█\u001b[39m█\u001b[39m \u001b[39m▁\n",
       "  587 ms\u001b[90m           Histogram: frequency by time\u001b[39m          608 ms \u001b[0m\u001b[1m<\u001b[22m\n",
       "\n",
       " Memory estimate\u001b[90m: \u001b[39m\u001b[33m0 bytes\u001b[39m, allocs estimate\u001b[90m: \u001b[39m\u001b[33m0\u001b[39m."
      ]
     },
     "execution_count": 14,
     "metadata": {},
     "output_type": "execute_result"
    }
   ],
   "source": [
    "using BenchmarkTools\n",
    "\n",
    "@benchmark parallel_estimate_pi2(1000_000_000)"
   ]
  },
  {
   "cell_type": "code",
   "execution_count": 15,
   "id": "118fcca9-7aed-42a4-bbfe-d14cd7f41904",
   "metadata": {},
   "outputs": [
    {
     "data": {
      "text/plain": [
       "BenchmarkTools.Trial: 7 samples with 1 evaluation.\n",
       " Range \u001b[90m(\u001b[39m\u001b[36m\u001b[1mmin\u001b[22m\u001b[39m … \u001b[35mmax\u001b[39m\u001b[90m):  \u001b[39m\u001b[36m\u001b[1m775.273 ms\u001b[22m\u001b[39m … \u001b[35m800.650 ms\u001b[39m  \u001b[90m┊\u001b[39m GC \u001b[90m(\u001b[39mmin … max\u001b[90m): \u001b[39m0.00% … 0.00%\n",
       " Time  \u001b[90m(\u001b[39m\u001b[34m\u001b[1mmedian\u001b[22m\u001b[39m\u001b[90m):     \u001b[39m\u001b[34m\u001b[1m791.509 ms               \u001b[22m\u001b[39m\u001b[90m┊\u001b[39m GC \u001b[90m(\u001b[39mmedian\u001b[90m):    \u001b[39m0.00%\n",
       " Time  \u001b[90m(\u001b[39m\u001b[32m\u001b[1mmean\u001b[22m\u001b[39m ± \u001b[32mσ\u001b[39m\u001b[90m):   \u001b[39m\u001b[32m\u001b[1m787.037 ms\u001b[22m\u001b[39m ± \u001b[32m 10.695 ms\u001b[39m  \u001b[90m┊\u001b[39m GC \u001b[90m(\u001b[39mmean ± σ\u001b[90m):  \u001b[39m0.00% ± 0.00%\n",
       "\n",
       "  \u001b[39m█\u001b[39m \u001b[39m \u001b[39m \u001b[39m \u001b[39m▁\u001b[34m \u001b[39m\u001b[39m \u001b[39m \u001b[39m \u001b[39m \u001b[39m \u001b[39m \u001b[39m \u001b[39m \u001b[39m \u001b[39m \u001b[39m \u001b[39m \u001b[39m \u001b[39m \u001b[39m \u001b[39m \u001b[39m \u001b[39m \u001b[39m \u001b[39m \u001b[39m \u001b[32m \u001b[39m\u001b[39m \u001b[39m \u001b[39m \u001b[39m \u001b[39m \u001b[39m \u001b[39m \u001b[39m \u001b[39m \u001b[39m \u001b[39m▁\u001b[39m▁\u001b[39m \u001b[39m \u001b[39m \u001b[39m \u001b[39m \u001b[39m \u001b[39m \u001b[39m \u001b[39m \u001b[39m \u001b[39m▁\u001b[39m \u001b[39m \u001b[39m \u001b[39m \u001b[39m \u001b[39m \u001b[39m \u001b[39m \u001b[39m▁\u001b[39m \u001b[39m \n",
       "  \u001b[39m█\u001b[39m▁\u001b[39m▁\u001b[39m▁\u001b[39m▁\u001b[39m█\u001b[34m▁\u001b[39m\u001b[39m▁\u001b[39m▁\u001b[39m▁\u001b[39m▁\u001b[39m▁\u001b[39m▁\u001b[39m▁\u001b[39m▁\u001b[39m▁\u001b[39m▁\u001b[39m▁\u001b[39m▁\u001b[39m▁\u001b[39m▁\u001b[39m▁\u001b[39m▁\u001b[39m▁\u001b[39m▁\u001b[39m▁\u001b[39m▁\u001b[39m▁\u001b[32m▁\u001b[39m\u001b[39m▁\u001b[39m▁\u001b[39m▁\u001b[39m▁\u001b[39m▁\u001b[39m▁\u001b[39m▁\u001b[39m▁\u001b[39m▁\u001b[39m▁\u001b[39m█\u001b[39m█\u001b[39m▁\u001b[39m▁\u001b[39m▁\u001b[39m▁\u001b[39m▁\u001b[39m▁\u001b[39m▁\u001b[39m▁\u001b[39m▁\u001b[39m▁\u001b[39m█\u001b[39m▁\u001b[39m▁\u001b[39m▁\u001b[39m▁\u001b[39m▁\u001b[39m▁\u001b[39m▁\u001b[39m▁\u001b[39m█\u001b[39m \u001b[39m▁\n",
       "  775 ms\u001b[90m           Histogram: frequency by time\u001b[39m          801 ms \u001b[0m\u001b[1m<\u001b[22m\n",
       "\n",
       " Memory estimate\u001b[90m: \u001b[39m\u001b[33m0 bytes\u001b[39m, allocs estimate\u001b[90m: \u001b[39m\u001b[33m0\u001b[39m."
      ]
     },
     "execution_count": 15,
     "metadata": {},
     "output_type": "execute_result"
    }
   ],
   "source": [
    "@benchmark estimate_pi(1000_000_000)"
   ]
  },
  {
   "cell_type": "code",
   "execution_count": 16,
   "id": "a4eac922-9621-448b-83b2-3b9a797c1d1a",
   "metadata": {},
   "outputs": [
    {
     "name": "stdout",
     "output_type": "stream",
     "text": [
      "Mon Aug 22 18:19:54 2022       \n",
      "+-----------------------------------------------------------------------------+\n",
      "| NVIDIA-SMI 515.65.01    Driver Version: 515.65.01    CUDA Version: 11.7     |\n",
      "|-------------------------------+----------------------+----------------------+\n",
      "| GPU  Name        Persistence-M| Bus-Id        Disp.A | Volatile Uncorr. ECC |\n",
      "| Fan  Temp  Perf  Pwr:Usage/Cap|         Memory-Usage | GPU-Util  Compute M. |\n",
      "|                               |                      |               MIG M. |\n",
      "|===============================+======================+======================|\n",
      "|   0  NVIDIA GeForce ...  Off  | 00000000:01:00.0  On |                  Off |\n",
      "|  0%   49C    P8    26W / 450W |    240MiB / 24564MiB |      0%      Default |\n",
      "|                               |                      |                  N/A |\n",
      "+-------------------------------+----------------------+----------------------+\n",
      "|   1  NVIDIA GeForce ...  Off  | 00000000:04:00.0 Off |                  Off |\n",
      "|  0%   46C    P8    22W / 450W |      5MiB / 24564MiB |      0%      Default |\n",
      "|                               |                      |                  N/A |\n",
      "+-------------------------------+----------------------+----------------------+\n",
      "                                                                               \n",
      "+-----------------------------------------------------------------------------+\n",
      "| Processes:                                                                  |\n",
      "|  GPU   GI   CI        PID   Type   Process name                  GPU Memory |\n",
      "|        ID   ID                                                   Usage      |\n",
      "|=============================================================================|\n",
      "|    0   N/A  N/A      1392      G   /usr/lib/xorg/Xorg                173MiB |\n",
      "|    0   N/A  N/A      1726      G   /usr/bin/gnome-shell               65MiB |\n",
      "|    1   N/A  N/A      1392      G   /usr/lib/xorg/Xorg                  4MiB |\n",
      "+-----------------------------------------------------------------------------+\n"
     ]
    }
   ],
   "source": [
    ";nvidia-smi"
   ]
  },
  {
   "cell_type": "code",
   "execution_count": null,
   "id": "8682c483-54fa-4e13-9ca4-91b09cdbdc2c",
   "metadata": {},
   "outputs": [],
   "source": []
  }
 ],
 "metadata": {
  "kernelspec": {
   "display_name": "Julia 1.6.7",
   "language": "julia",
   "name": "julia-1.6"
  },
  "language_info": {
   "file_extension": ".jl",
   "mimetype": "application/julia",
   "name": "julia",
   "version": "1.6.7"
  }
 },
 "nbformat": 4,
 "nbformat_minor": 5
}
